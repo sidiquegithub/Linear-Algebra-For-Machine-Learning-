{
 "cells": [
  {
   "cell_type": "code",
   "execution_count": 16,
   "id": "161088bb",
   "metadata": {},
   "outputs": [],
   "source": [
    "import numpy as np\n",
    "import scipy as sc\n",
    "import scipy.linalg as la"
   ]
  },
  {
   "cell_type": "markdown",
   "id": "c66e4f75",
   "metadata": {},
   "source": [
    "#### <font color = blue> Some special matrices"
   ]
  },
  {
   "cell_type": "code",
   "execution_count": 2,
   "id": "3dab987e",
   "metadata": {},
   "outputs": [
    {
     "name": "stdout",
     "output_type": "stream",
     "text": [
      "[[1. 0. 0.]\n",
      " [0. 1. 0.]\n",
      " [0. 0. 1.]]\n"
     ]
    }
   ],
   "source": [
    "# Identity matrix\n",
    "# numpy.eye(order of the matrix)\n",
    "\n",
    "print(np.eye(3))"
   ]
  },
  {
   "cell_type": "code",
   "execution_count": 3,
   "id": "a77c616a",
   "metadata": {},
   "outputs": [
    {
     "name": "stdout",
     "output_type": "stream",
     "text": [
      "[[1. 1. 1.]\n",
      " [1. 1. 1.]]\n"
     ]
    }
   ],
   "source": [
    "# Matrix with all elements ones\n",
    "# numpy.ones((number of raws,number of column))\n",
    "\n",
    "print(np.ones((2,3)))"
   ]
  },
  {
   "cell_type": "markdown",
   "id": "552fd2e4",
   "metadata": {},
   "source": [
    "#### <font color = blue> Methods\n",
    "- Order of the Matrix\n",
    "    - Matrix.shape  \n",
    "- Determinant of the matrix\n",
    "    - scipy.linalg.det(Matrix) \n",
    "- Inverse of the matrix\n",
    "    - scipy.linalg.inv(Matrix)"
   ]
  },
  {
   "cell_type": "markdown",
   "id": "bd0f3ab5",
   "metadata": {},
   "source": [
    "####  <font color = Blue>CREATING  1by1 MATRICES, THEIR ADDITION, SUBTRACTION AND SCALAR MULTIPLICATION"
   ]
  },
  {
   "cell_type": "markdown",
   "id": "9fbab3aa",
   "metadata": {},
   "source": [
    "1 by 1 matrix is given by\n",
    "- A = numpy.array([[a]])"
   ]
  },
  {
   "cell_type": "code",
   "execution_count": 4,
   "id": "edc9b350",
   "metadata": {},
   "outputs": [
    {
     "name": "stdout",
     "output_type": "stream",
     "text": [
      "Sum of matrices A and B: [[7]]\n",
      "Sum of matrices A and B: [[-3]]\n",
      "3 A is the matrix :  [[6]]\n"
     ]
    }
   ],
   "source": [
    "# Addition,  Subtraction, Scalar Multiplication\n",
    "A = np.array([[2]])\n",
    "B = np.array([[5]])\n",
    "\n",
    "print('Sum of matrices A and B:', A + B)\n",
    "print('Sum of matrices A and B:', A - B) \n",
    "print(\"3 A is the matrix : \", 3*A)"
   ]
  },
  {
   "cell_type": "code",
   "execution_count": 5,
   "id": "3104a160",
   "metadata": {},
   "outputs": [
    {
     "data": {
      "text/plain": [
       "(1, 1)"
      ]
     },
     "execution_count": 5,
     "metadata": {},
     "output_type": "execute_result"
    }
   ],
   "source": [
    "#Order of the matrix\n",
    "A.shape"
   ]
  },
  {
   "cell_type": "code",
   "execution_count": 6,
   "id": "890c270d",
   "metadata": {},
   "outputs": [
    {
     "data": {
      "text/plain": [
       "2.0"
      ]
     },
     "execution_count": 6,
     "metadata": {},
     "output_type": "execute_result"
    }
   ],
   "source": [
    "# Determinant of the matrix\n",
    "# Determinant of a one by one matrix is the entry itself\n",
    "\n",
    "la.det(A)"
   ]
  },
  {
   "cell_type": "code",
   "execution_count": 7,
   "id": "294c054e",
   "metadata": {},
   "outputs": [
    {
     "data": {
      "text/plain": [
       "-3.0"
      ]
     },
     "execution_count": 7,
     "metadata": {},
     "output_type": "execute_result"
    }
   ],
   "source": [
    "la.det(A-B)"
   ]
  },
  {
   "cell_type": "code",
   "execution_count": 17,
   "id": "92b59268",
   "metadata": {},
   "outputs": [
    {
     "ename": "AttributeError",
     "evalue": "module 'scipy.sparse' has no attribute 'linalg'",
     "output_type": "error",
     "traceback": [
      "\u001b[1;31m---------------------------------------------------------------------------\u001b[0m",
      "\u001b[1;31mAttributeError\u001b[0m                            Traceback (most recent call last)",
      "\u001b[1;32m~\\AppData\\Local\\Temp\\ipykernel_18200\\1035417174.py\u001b[0m in \u001b[0;36m<module>\u001b[1;34m\u001b[0m\n\u001b[0;32m      1\u001b[0m \u001b[1;31m# Adjoint of the matrix\u001b[0m\u001b[1;33m\u001b[0m\u001b[1;33m\u001b[0m\u001b[1;33m\u001b[0m\u001b[0m\n\u001b[1;32m----> 2\u001b[1;33m \u001b[0msc\u001b[0m\u001b[1;33m.\u001b[0m\u001b[0msparse\u001b[0m\u001b[1;33m.\u001b[0m\u001b[0mlinalg\u001b[0m\u001b[1;33m.\u001b[0m\u001b[0mLinearOperator\u001b[0m\u001b[1;33m.\u001b[0m\u001b[0madjoint\u001b[0m\u001b[1;33m(\u001b[0m\u001b[0mA\u001b[0m\u001b[1;33m)\u001b[0m\u001b[1;33m\u001b[0m\u001b[1;33m\u001b[0m\u001b[0m\n\u001b[0m",
      "\u001b[1;31mAttributeError\u001b[0m: module 'scipy.sparse' has no attribute 'linalg'"
     ]
    }
   ],
   "source": [
    "# Adjoint of the matrix\n",
    "sc.sparse.linalg.LinearOperator.adjoint(A)"
   ]
  },
  {
   "cell_type": "code",
   "execution_count": 9,
   "id": "f21e22e2",
   "metadata": {},
   "outputs": [
    {
     "data": {
      "text/plain": [
       "array([[0.5]])"
      ]
     },
     "execution_count": 9,
     "metadata": {},
     "output_type": "execute_result"
    }
   ],
   "source": [
    "# Inverse \n",
    "la.inv(A)"
   ]
  },
  {
   "cell_type": "code",
   "execution_count": 10,
   "id": "084a52bc",
   "metadata": {},
   "outputs": [
    {
     "data": {
      "text/plain": [
       "array([[0.2]])"
      ]
     },
     "execution_count": 10,
     "metadata": {},
     "output_type": "execute_result"
    }
   ],
   "source": [
    "la.inv(B)"
   ]
  },
  {
   "cell_type": "code",
   "execution_count": null,
   "id": "11230b52",
   "metadata": {},
   "outputs": [],
   "source": []
  },
  {
   "cell_type": "code",
   "execution_count": null,
   "id": "0f696f73",
   "metadata": {},
   "outputs": [],
   "source": []
  },
  {
   "cell_type": "code",
   "execution_count": 11,
   "id": "27515142",
   "metadata": {},
   "outputs": [],
   "source": [
    "A_conj_transpose = np.conjugate(A.T)"
   ]
  },
  {
   "cell_type": "code",
   "execution_count": 12,
   "id": "7120d247",
   "metadata": {
    "scrolled": true
   },
   "outputs": [
    {
     "data": {
      "text/plain": [
       "array([[2]], dtype=int32)"
      ]
     },
     "execution_count": 12,
     "metadata": {},
     "output_type": "execute_result"
    }
   ],
   "source": [
    "A_conj_transpose"
   ]
  },
  {
   "cell_type": "code",
   "execution_count": 13,
   "id": "e2a69484",
   "metadata": {},
   "outputs": [
    {
     "ename": "AttributeError",
     "evalue": "module 'scipy.linalg' has no attribute 'adjoint'",
     "output_type": "error",
     "traceback": [
      "\u001b[1;31m---------------------------------------------------------------------------\u001b[0m",
      "\u001b[1;31mAttributeError\u001b[0m                            Traceback (most recent call last)",
      "\u001b[1;32m~\\AppData\\Local\\Temp\\ipykernel_18200\\4165513999.py\u001b[0m in \u001b[0;36m<module>\u001b[1;34m\u001b[0m\n\u001b[1;32m----> 1\u001b[1;33m \u001b[0mlnag\u001b[0m\u001b[1;33m.\u001b[0m\u001b[0madjoint\u001b[0m\u001b[1;33m(\u001b[0m\u001b[0mA\u001b[0m\u001b[1;33m)\u001b[0m\u001b[1;33m\u001b[0m\u001b[1;33m\u001b[0m\u001b[0m\n\u001b[0m",
      "\u001b[1;31mAttributeError\u001b[0m: module 'scipy.linalg' has no attribute 'adjoint'"
     ]
    }
   ],
   "source": [
    "lnag.adjoint(A)"
   ]
  },
  {
   "cell_type": "code",
   "execution_count": null,
   "id": "cdbbe019",
   "metadata": {},
   "outputs": [],
   "source": [
    "import numpy as np\n",
    "from scipy import linalg\n",
    "\n",
    "# Create a 3x3 matrix\n",
    "A = np.array([[1, 2, 3], [4, 5, 6], [7, 8, 9]])\n",
    "\n",
    "# Calculate the adjoint of A\n",
    "A_adj = linalg.adjoint(A)\n",
    "\n",
    "# Print the adjoint of A\n",
    "print(A_adj)"
   ]
  },
  {
   "cell_type": "code",
   "execution_count": null,
   "id": "63b9750e",
   "metadata": {},
   "outputs": [],
   "source": [
    "pip install scipy --upgrade "
   ]
  },
  {
   "cell_type": "code",
   "execution_count": null,
   "id": "49971c89",
   "metadata": {},
   "outputs": [],
   "source": []
  }
 ],
 "metadata": {
  "kernelspec": {
   "display_name": "Python 3 (ipykernel)",
   "language": "python",
   "name": "python3"
  },
  "language_info": {
   "codemirror_mode": {
    "name": "ipython",
    "version": 3
   },
   "file_extension": ".py",
   "mimetype": "text/x-python",
   "name": "python",
   "nbconvert_exporter": "python",
   "pygments_lexer": "ipython3",
   "version": "3.7.15"
  }
 },
 "nbformat": 4,
 "nbformat_minor": 5
}
