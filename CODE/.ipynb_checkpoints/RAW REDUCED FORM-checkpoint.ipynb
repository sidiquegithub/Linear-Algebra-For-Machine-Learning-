{
 "cells": [
  {
   "cell_type": "code",
   "execution_count": 1,
   "id": "1f168a8c",
   "metadata": {},
   "outputs": [],
   "source": [
    "import numpy as np"
   ]
  },
  {
   "cell_type": "markdown",
   "id": "ea600e7d",
   "metadata": {},
   "source": [
    "A matrix is in row-reduced form if it satisfies the following four conditions:\n",
    "- (i) All zero rows appear below nonzero rows when both\n",
    "types are present in the matrix.\n",
    "- (ii) The first nonzero element in any nonzero row is 1.\n",
    "- (iii) All elements directly below (that is, in the same column\n",
    "but in succeeding rows from) the first nonzero element\n",
    "of a nonzero row are zero.\n",
    "- (iv) The first nonzero element of any nonzero row appears\n",
    "in a later column (further to the right) than the first\n",
    "nonzero element in any preceding row. \"\n",
    "\n",
    "\n",
    "Raw Reduced Echelon Form\n",
    "- Satisfies all the conditions of REF.\n",
    "- Each leading 1 is the only non-zero entry in its column, meaning that there are zeros above and below each leading 112"
   ]
  },
  {
   "cell_type": "markdown",
   "id": "56ffe502",
   "metadata": {},
   "source": [
    "#### QUESTION"
   ]
  },
  {
   "cell_type": "code",
   "execution_count": 2,
   "id": "86c8ca84",
   "metadata": {},
   "outputs": [],
   "source": [
    "# For the below efined matrix find raw reduced echlon form\n",
    "# Please note that belowe matrix is not defined via numpy array\n",
    "\n",
    "from sympy import Matrix\n",
    "\n",
    "\n",
    "A = Matrix([\n",
    "  [5, 6, 7],\n",
    "  [11, 23, 22],\n",
    "  [12, 21, 31]\n",
    "])"
   ]
  },
  {
   "cell_type": "markdown",
   "id": "263eb983",
   "metadata": {},
   "source": [
    "- We can make use of .rref() method from sympy to find raw reduced echlon form\n",
    "- The Matrix().rref() method in SymPy puts a matrix into reduced row echelon form (RREF) and returns a tuple of two elements:\n",
    "    - The first element is the reduced row echelon form\n",
    "    - The second element is a tuple of indices of the pivot columns \n"
   ]
  },
  {
   "cell_type": "code",
   "execution_count": 3,
   "id": "8ddfbe39",
   "metadata": {},
   "outputs": [],
   "source": [
    "raw_reduced_form, pivot_raws = A.rref()"
   ]
  },
  {
   "cell_type": "code",
   "execution_count": 4,
   "id": "d37ffa1d",
   "metadata": {},
   "outputs": [
    {
     "data": {
      "text/latex": [
       "$\\displaystyle \\left[\\begin{matrix}1 & 0 & 0\\\\0 & 1 & 0\\\\0 & 0 & 1\\end{matrix}\\right]$"
      ],
      "text/plain": [
       "Matrix([\n",
       "[1, 0, 0],\n",
       "[0, 1, 0],\n",
       "[0, 0, 1]])"
      ]
     },
     "execution_count": 4,
     "metadata": {},
     "output_type": "execute_result"
    }
   ],
   "source": [
    "raw_reduced_form"
   ]
  },
  {
   "cell_type": "code",
   "execution_count": 5,
   "id": "a508287f",
   "metadata": {},
   "outputs": [
    {
     "data": {
      "text/plain": [
       "(0, 1, 2)"
      ]
     },
     "execution_count": 5,
     "metadata": {},
     "output_type": "execute_result"
    }
   ],
   "source": [
    "# Indices of pivot columns\n",
    "pivot_raws"
   ]
  },
  {
   "cell_type": "markdown",
   "id": "2b68ee61",
   "metadata": {},
   "source": [
    "### We can usw .rref() for matrices defined like above, that is matrices defined via Matrixy \n",
    "### .rref() can't use in nump.array()"
   ]
  },
  {
   "cell_type": "code",
   "execution_count": 6,
   "id": "3961fd11",
   "metadata": {},
   "outputs": [
    {
     "ename": "AttributeError",
     "evalue": "'numpy.ndarray' object has no attribute 'rref'",
     "output_type": "error",
     "traceback": [
      "\u001b[1;31m---------------------------------------------------------------------------\u001b[0m",
      "\u001b[1;31mAttributeError\u001b[0m                            Traceback (most recent call last)",
      "\u001b[1;32m~\\AppData\\Local\\Temp\\ipykernel_14008\\1143169335.py\u001b[0m in \u001b[0;36m<module>\u001b[1;34m\u001b[0m\n\u001b[0;32m      5\u001b[0m   \u001b[1;33m[\u001b[0m\u001b[1;36m12\u001b[0m\u001b[1;33m,\u001b[0m \u001b[1;36m21\u001b[0m\u001b[1;33m,\u001b[0m \u001b[1;36m31\u001b[0m\u001b[1;33m]\u001b[0m\u001b[1;33m\u001b[0m\u001b[1;33m\u001b[0m\u001b[0m\n\u001b[0;32m      6\u001b[0m ])\n\u001b[1;32m----> 7\u001b[1;33m \u001b[0mraw_reduced_form\u001b[0m\u001b[1;33m,\u001b[0m \u001b[0mpivot_raws\u001b[0m \u001b[1;33m=\u001b[0m \u001b[0mA\u001b[0m\u001b[1;33m.\u001b[0m\u001b[0mrref\u001b[0m\u001b[1;33m(\u001b[0m\u001b[1;33m)\u001b[0m\u001b[1;33m\u001b[0m\u001b[1;33m\u001b[0m\u001b[0m\n\u001b[0m",
      "\u001b[1;31mAttributeError\u001b[0m: 'numpy.ndarray' object has no attribute 'rref'"
     ]
    }
   ],
   "source": [
    "# This will produce an error\n",
    "A = np.array([\n",
    "  [5, 6, 7],\n",
    "  [11, 23, 22],\n",
    "  [12, 21, 31]\n",
    "])\n",
    "raw_reduced_form, pivot_raws = A.rref()"
   ]
  },
  {
   "cell_type": "markdown",
   "id": "fe0d0a50",
   "metadata": {},
   "source": [
    "#### QUESTION\n",
    "Without using .rref() write code to find raw reduced form of a matrix. "
   ]
  },
  {
   "cell_type": "markdown",
   "id": "fde9962f",
   "metadata": {},
   "source": [
    "# Final Code \n",
    "- The following will give the rank of the marrix and thr Raw Reduced Echlon form of the matrix"
   ]
  },
  {
   "cell_type": "code",
   "execution_count": 23,
   "id": "ac35c37d",
   "metadata": {},
   "outputs": [],
   "source": [
    "def normalised(A):\n",
    "    A = A.astype(float)\n",
    "    m = A.shape[0]  # Number of rows\n",
    "    n = A.shape[1]  # Number of columns\n",
    "    \n",
    "    # We iterate through each column \n",
    "    \n",
    "    # Raw reduced form upto last column\n",
    "    for i in range(0,n):\n",
    "        c = i              # Fixing column number\n",
    "        j = i              # Initialise raw number\n",
    "        \n",
    "        # If all columnelement are zero we move to next column\n",
    "        \n",
    "        all_zeros = all(A[j, i] == 0 for j in range(i, m))\n",
    "        if all_zeros:\n",
    "            continue  \n",
    "        \n",
    "        \n",
    "        while  j< m and A[j,c] ==0:\n",
    "            j += 1\n",
    "\n",
    "        if j ==m:\n",
    "            continue       # Move to next value of i if j becomes m. More than the number of raws        \n",
    "        \n",
    "       \n",
    "        \n",
    "        p = A[j,c]         # Fixing the non zero entry\n",
    "        \n",
    "        \n",
    "        \n",
    "        # Divide corresponding raw with non zero entry p \n",
    "        for k in range(c,n): # Avoiding raws before that columns\n",
    "            A[j,k] = A[j,k]/p\n",
    "    \n",
    "        # Make Changes to raws below the \n",
    "        if j != m-1:\n",
    "            for k in range(j+1,m):\n",
    "                q = A[k,c] # Fixing first non zero entry in the raw\n",
    "                for r in range(c,n):\n",
    "                    A[k,r] = A[k,r] - (q*A[j,r])\n",
    "        \n",
    "        \n",
    "        \n",
    "        \n",
    "        # Now interchange the raws\n",
    "        if A[i,i] != 1:         #Interchange only if the first element is not one\n",
    "            for k in range(i,m):\n",
    "                if A[k,i] !=0:\n",
    "                    A[[i,k]] = A[[k,i]]\n",
    "                    break\n",
    "    \n",
    "    \n",
    "    \n",
    "    \n",
    "    \n",
    "    # To make first non zero entry 1 and below elements as 0\n",
    "    for j in range(m):\n",
    "        \n",
    "        i = 0\n",
    "        while i < n and A[j,i] ==0:   # Search for first non zero entry\n",
    "            i += 1\n",
    "            \n",
    "        if i == n:\n",
    "            continue\n",
    "         \n",
    "        A[j,i] = A[j,i]/A[j,i]     # Making non zero entry 1\n",
    "        \n",
    "        \n",
    "        # Set all entries below 1 as zero\n",
    "        for l in range(j+1,m):\n",
    "            A[l,i] = 0\n",
    "            \n",
    "    \n",
    "    # Final Interchange \n",
    "    # We will find indices of first non zero entry in each raw\n",
    "    # We break matrix with all zero element and matrix with some non zero element\n",
    "    # We rearrange matrix with some non zero according to the index\n",
    "    # Then we use vstack to combine this matrix with zero matrix \n",
    "    \n",
    "    \n",
    "    \n",
    "    \n",
    "    \n",
    "    # Find the indices of the first non-zero entry in each row\n",
    "    indices = (A != 0).argmax(axis=1)\n",
    "    \n",
    "    # Store the row number and corresponding index in a list of tuples\n",
    "    row_index_pairs = [(row, index) if A[row, index] != 0 else (row, -1) for row, index in enumerate(indices)]\n",
    "\n",
    "\n",
    "    # Split the matrix based on row_index_pairs\n",
    "    rows_with_nonzero = [A[row] for row, index in row_index_pairs if index != -1]\n",
    "    rows_with_all_zero = [A[row] for row, index in row_index_pairs if index == -1]\n",
    "\n",
    "    # Convert lists to numpy arrays\n",
    "    matrix_with_nonzero = np.array(rows_with_nonzero)\n",
    "    matrix_with_all_zero = np.array(rows_with_all_zero)\n",
    "    \n",
    "\n",
    "    \n",
    "    # Rearrange Non Zero Matrix\n",
    "    # Find the column indices of the leading pivots\n",
    "    pivot_indices = [np.argmax(row != 0) for row in matrix_with_nonzero ]\n",
    "    \n",
    "    # Sort rows based on pivot indices\n",
    "    sorted_indices = np.argsort(pivot_indices)\n",
    "    rearranged_non_zero_matrix = matrix_with_nonzero[sorted_indices]\n",
    "    \n",
    "\n",
    "    if matrix_with_all_zero.size>0:\n",
    "        print(\"Rank Of the Matrix = \", rearranged_non_zero_matrix.shape[0] )\n",
    "        combined_matrix = np.vstack((rearranged_non_zero_matrix, matrix_with_all_zero))\n",
    "        \n",
    "        \n",
    "    else:\n",
    "        print(\"Rank of the Matrix is \", m)\n",
    "        combined_matrix = rearranged_non_zero_matrix\n",
    "    \n",
    "    \n",
    "    \n",
    "    return combined_matrix"
   ]
  },
  {
   "cell_type": "code",
   "execution_count": 24,
   "id": "ddc794da",
   "metadata": {},
   "outputs": [
    {
     "name": "stdout",
     "output_type": "stream",
     "text": [
      "[[0 2 0 0 0]\n",
      " [0 0 0 0 2]\n",
      " [0 0 0 0 0]\n",
      " [0 0 1 0 0]\n",
      " [0 0 0 0 1]]\n",
      "Rank Of the Matrix =  3\n",
      "[[0. 1. 0. 0. 0.]\n",
      " [0. 0. 1. 0. 0.]\n",
      " [0. 0. 0. 0. 1.]\n",
      " [0. 0. 0. 0. 0.]\n",
      " [0. 0. 0. 0. 0.]]\n"
     ]
    }
   ],
   "source": [
    "A = np.array([[0,2,0,0,0],[0,0,0,0,2],[0,0,0,0,0],[0,0,1,0,0],[0,0,0,0,1]])\n",
    "print(A)\n",
    "\n",
    "print(normalised(A))"
   ]
  },
  {
   "cell_type": "code",
   "execution_count": 18,
   "id": "385a0563",
   "metadata": {},
   "outputs": [
    {
     "name": "stdout",
     "output_type": "stream",
     "text": [
      "[[1 2 0 0 0]\n",
      " [0 0 0 0 2]\n",
      " [0 0 0 0 0]\n",
      " [0 0 1 0 0]\n",
      " [0 0 0 0 1]]\n",
      "Rank Of the Matrix =  3\n",
      "[[1. 2. 0. 0. 0.]\n",
      " [0. 0. 1. 0. 0.]\n",
      " [0. 0. 0. 0. 1.]\n",
      " [0. 0. 0. 0. 0.]\n",
      " [0. 0. 0. 0. 0.]]\n"
     ]
    }
   ],
   "source": [
    "A = np.array([[1,2,0,0,0],[0,0,0,0,2],[0,0,0,0,0],[0,0,1,0,0],[0,0,0,0,1]])\n",
    "print(A)\n",
    "\n",
    "print(normalised(A))"
   ]
  },
  {
   "cell_type": "code",
   "execution_count": 19,
   "id": "2cf8f9f0",
   "metadata": {},
   "outputs": [
    {
     "name": "stdout",
     "output_type": "stream",
     "text": [
      "[[0 0 0 0 0]\n",
      " [0 0 0 0 2]\n",
      " [0 0 0 0 0]\n",
      " [0 0 1 0 0]\n",
      " [0 0 0 0 1]]\n",
      "Rank Of the Matrix =  2\n",
      "[[0. 0. 1. 0. 0.]\n",
      " [0. 0. 0. 0. 1.]\n",
      " [0. 0. 0. 0. 0.]\n",
      " [0. 0. 0. 0. 0.]\n",
      " [0. 0. 0. 0. 0.]]\n"
     ]
    }
   ],
   "source": [
    "A = np.array([[0,0,0,0,0],[0,0,0,0,2],[0,0,0,0,0],[0,0,1,0,0],[0,0,0,0,1]])\n",
    "print(A)\n",
    "\n",
    "print(normalised(A))"
   ]
  },
  {
   "cell_type": "code",
   "execution_count": 20,
   "id": "e1040a73",
   "metadata": {},
   "outputs": [
    {
     "name": "stdout",
     "output_type": "stream",
     "text": [
      "[[1 2 0]\n",
      " [0 0 2]\n",
      " [0 0 0]\n",
      " [0 0 1]\n",
      " [0 0 0]]\n",
      "Rank Of the Matrix =  2\n",
      "[[1. 2. 0.]\n",
      " [0. 0. 1.]\n",
      " [0. 0. 0.]\n",
      " [0. 0. 0.]\n",
      " [0. 0. 0.]]\n"
     ]
    }
   ],
   "source": [
    "A = np.array([[1,2,0],[0,0,2],[0,0,0],[0,0,1],[0,0,0]])\n",
    "print(A)\n",
    "\n",
    "print(normalised(A))"
   ]
  },
  {
   "cell_type": "code",
   "execution_count": 21,
   "id": "fb14f256",
   "metadata": {},
   "outputs": [
    {
     "name": "stdout",
     "output_type": "stream",
     "text": [
      "[[1 2 0]\n",
      " [0 0 0]\n",
      " [0 0 1]\n",
      " [0 0 0]\n",
      " [0 0 2]]\n",
      "Rank Of the Matrix =  2\n",
      "[[1. 2. 0.]\n",
      " [0. 0. 1.]\n",
      " [0. 0. 0.]\n",
      " [0. 0. 0.]\n",
      " [0. 0. 0.]]\n"
     ]
    }
   ],
   "source": [
    "A = np.array([[1,2,0],[0,0,0],[0,0,1],[0,0,0],[0,0,2]])\n",
    "print(A)\n",
    "\n",
    "print(normalised(A))"
   ]
  },
  {
   "cell_type": "code",
   "execution_count": 22,
   "id": "8a95b167",
   "metadata": {},
   "outputs": [
    {
     "name": "stdout",
     "output_type": "stream",
     "text": [
      "[[1 2 0]\n",
      " [0 0 1]]\n",
      "Rank of the Matrix is  2\n",
      "[[1. 2. 0.]\n",
      " [0. 0. 1.]]\n"
     ]
    }
   ],
   "source": [
    "A = np.array([[1,2,0],[0,0,1]])\n",
    "print(A)\n",
    "\n",
    "print(normalised(A))"
   ]
  },
  {
   "cell_type": "code",
   "execution_count": null,
   "id": "93f31058",
   "metadata": {},
   "outputs": [],
   "source": []
  },
  {
   "cell_type": "code",
   "execution_count": null,
   "id": "2ad24a35",
   "metadata": {},
   "outputs": [],
   "source": []
  }
 ],
 "metadata": {
  "kernelspec": {
   "display_name": "Python 3 (ipykernel)",
   "language": "python",
   "name": "python3"
  },
  "language_info": {
   "codemirror_mode": {
    "name": "ipython",
    "version": 3
   },
   "file_extension": ".py",
   "mimetype": "text/x-python",
   "name": "python",
   "nbconvert_exporter": "python",
   "pygments_lexer": "ipython3",
   "version": "3.7.15"
  }
 },
 "nbformat": 4,
 "nbformat_minor": 5
}
