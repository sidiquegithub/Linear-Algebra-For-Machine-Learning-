{
 "cells": [
  {
   "cell_type": "code",
   "execution_count": 1,
   "id": "2094630c",
   "metadata": {},
   "outputs": [],
   "source": [
    "import numpy as np"
   ]
  },
  {
   "cell_type": "code",
   "execution_count": 2,
   "id": "59f2c9a0",
   "metadata": {},
   "outputs": [],
   "source": [
    "A = np.array([\n",
    "  [0,  7],\n",
    "  [5, 23]\n",
    "])\n",
    "\n",
    "\n",
    "\n",
    "# Convert A to a floating-point data type to perform devision properly\n",
    "A = A.astype(float)  \n",
    "\n",
    "\n",
    "# The following will find first non zero entry also raw number of first non zero entry\n",
    "i = 0\n",
    "while A[i,0] ==0:\n",
    "    i += 1\n",
    "    \n",
    "p = A[i,0]   # Set first non-zero element \n",
    "for j in range(0,2):  # 2 is the number corresponding to the columns\n",
    "    A[i,j] = A[i,j]/p"
   ]
  },
  {
   "cell_type": "code",
   "execution_count": 3,
   "id": "970eac5b",
   "metadata": {},
   "outputs": [
    {
     "data": {
      "text/plain": [
       "array([[0. , 7. ],\n",
       "       [1. , 4.6]])"
      ]
     },
     "execution_count": 3,
     "metadata": {},
     "output_type": "execute_result"
    }
   ],
   "source": [
    "A"
   ]
  },
  {
   "cell_type": "code",
   "execution_count": null,
   "id": "ea1760e6",
   "metadata": {},
   "outputs": [],
   "source": []
  },
  {
   "cell_type": "code",
   "execution_count": null,
   "id": "cd86ee29",
   "metadata": {},
   "outputs": [],
   "source": []
  },
  {
   "cell_type": "code",
   "execution_count": null,
   "id": "6bcaf20a",
   "metadata": {},
   "outputs": [],
   "source": []
  },
  {
   "cell_type": "code",
   "execution_count": null,
   "id": "0f71573b",
   "metadata": {},
   "outputs": [],
   "source": []
  },
  {
   "cell_type": "code",
   "execution_count": 4,
   "id": "e3fe0e26",
   "metadata": {},
   "outputs": [],
   "source": [
    "A = np.array([\n",
    "  [3,  7],\n",
    "  [5, 23]\n",
    "])\n",
    "\n",
    "\n",
    "# Convert A to a floating-point data type to perform devision properly\n",
    "A = A.astype(float)  \n",
    "m = A.shape[0]         # Number of raws\n",
    "n = A.shape[1]        # Number of columns\n",
    "\n",
    "\n",
    "# The following will find first non zero entry in first column also raw number of first non zero entry\n",
    "i = 0\n",
    "while A[i,0] ==0:\n",
    "    i += 1\n",
    "    \n",
    "p = A[i,0]   # Set first non-zero element \n",
    "for j in range(0,n):  \n",
    "    A[i,j] = A[i,j]/p"
   ]
  },
  {
   "cell_type": "code",
   "execution_count": 5,
   "id": "4a785b98",
   "metadata": {
    "scrolled": true
   },
   "outputs": [
    {
     "data": {
      "text/plain": [
       "array([[ 1.        ,  2.33333333],\n",
       "       [ 5.        , 23.        ]])"
      ]
     },
     "execution_count": 5,
     "metadata": {},
     "output_type": "execute_result"
    }
   ],
   "source": [
    "A"
   ]
  },
  {
   "cell_type": "code",
   "execution_count": null,
   "id": "c50447a5",
   "metadata": {},
   "outputs": [],
   "source": []
  },
  {
   "cell_type": "code",
   "execution_count": 6,
   "id": "56d43005",
   "metadata": {},
   "outputs": [],
   "source": [
    "# In above normalised the raw with first non zero entry\n",
    "# Now we will be making  all entries below the non zero entry as 0\n",
    "# We need only if the non zero entry is not the last raw\n",
    "\n",
    "if i != n-1:  # Do this only if the non zero raw is not last raw\n",
    "    i+= 1   # Moving to second raw\n",
    "    q = A[i,0] # Fixing non zero entry of the raw\n",
    "    for j in range(0,n):\n",
    "        A[i,j] = A[i,j] - (q*A[i-1,j])\n",
    "    "
   ]
  },
  {
   "cell_type": "code",
   "execution_count": 7,
   "id": "0f8b82f6",
   "metadata": {},
   "outputs": [
    {
     "data": {
      "text/plain": [
       "array([[ 1.        ,  2.33333333],\n",
       "       [ 0.        , 11.33333333]])"
      ]
     },
     "execution_count": 7,
     "metadata": {},
     "output_type": "execute_result"
    }
   ],
   "source": [
    "A"
   ]
  },
  {
   "cell_type": "code",
   "execution_count": null,
   "id": "e2182293",
   "metadata": {},
   "outputs": [],
   "source": []
  },
  {
   "cell_type": "code",
   "execution_count": 8,
   "id": "5c53ec4d",
   "metadata": {},
   "outputs": [],
   "source": [
    "A = np.array([\n",
    "  [3,  7],\n",
    "  [5, 23]\n",
    "])\n",
    "\n",
    "\n",
    "# Convert A to a floating-point data type to perform devision properly\n",
    "A = A.astype(float)  \n",
    "m = A.shape[0]         # Number of raws\n",
    "n = A.shape[1]        # Number of columns\n",
    "\n",
    "\n",
    "# The following will find first non zero entry in first column also raw number of first non zero entry\n",
    "i = 0\n",
    "while A[i,0] ==0:\n",
    "    i += 1\n",
    "    \n",
    "p = A[i,0]   # Set first non-zero element \n",
    "for j in range(0,n):  \n",
    "    A[i,j] = A[i,j]/p\n",
    "    \n",
    "    \n",
    "if i != n-1:  # Do this only if the non zero raw is not last raw\n",
    "    i+= 1   # Moving to second raw\n",
    "    q = A[i,0] # Fixing non zero entry of the raw\n",
    "    for j in range(0,n):\n",
    "        A[i,j] = A[i,j] - (q*A[i-1,j])"
   ]
  },
  {
   "cell_type": "code",
   "execution_count": 9,
   "id": "07684182",
   "metadata": {},
   "outputs": [
    {
     "data": {
      "text/plain": [
       "array([[ 1.        ,  2.33333333],\n",
       "       [ 0.        , 11.33333333]])"
      ]
     },
     "execution_count": 9,
     "metadata": {},
     "output_type": "execute_result"
    }
   ],
   "source": [
    "A"
   ]
  },
  {
   "cell_type": "code",
   "execution_count": 10,
   "id": "c3bfb26b",
   "metadata": {},
   "outputs": [],
   "source": [
    "A = np.array([\n",
    "  [0,  7],\n",
    "  [5, 23]\n",
    "])\n",
    "\n",
    "def raw_reduced(A):\n",
    "\n",
    "    # Convert A to a floating-point data type to perform devision properly\n",
    "    A = A.astype(float)  \n",
    "    m = A.shape[0]         # Number of raws\n",
    "    n = A.shape[1]        # Number of columns\n",
    "\n",
    "\n",
    "    # The following will find first non zero entry in first column also raw number of first non zero entry\n",
    "    i = 0\n",
    "    while A[i,0] ==0:\n",
    "        i += 1\n",
    "    \n",
    "    p = A[i,0]   # Set first non-zero element \n",
    "    for j in range(0,n):  \n",
    "        A[i,j] = A[i,j]/p\n",
    "    \n",
    "    \n",
    "    if i != n-1:  # Do this only if the non zero raw is not last raw\n",
    "        i+= 1   # Moving to second raw\n",
    "        q = A[i,0] # Fixing non zero entry of the raw\n",
    "        for j in range(0,n):\n",
    "            A[i,j] = A[i,j] - (q*A[i-1,j])\n",
    "            \n",
    "    "
   ]
  },
  {
   "cell_type": "code",
   "execution_count": 11,
   "id": "52293eb5",
   "metadata": {},
   "outputs": [],
   "source": [
    "raw_reduced(A)"
   ]
  },
  {
   "cell_type": "code",
   "execution_count": 12,
   "id": "b08a524c",
   "metadata": {},
   "outputs": [],
   "source": [
    "def raw_reduced(A):\n",
    "\n",
    "    # Convert A to a floating-point data type to perform devision properly\n",
    "    A = A.astype(float)  \n",
    "    m = A.shape[0]         # Number of raws\n",
    "    n = A.shape[1]        # Number of columns\n",
    "\n",
    "\n",
    "    # The following will find first non zero entry in first column also raw number of first non zero entry\n",
    "    i = 0\n",
    "    while A[i,0] ==0:\n",
    "        i += 1\n",
    "    \n",
    "    p = A[i,0]               # Set first non-zero element in the raw\n",
    "    for j in range(0,n):  \n",
    "        A[i,j] = A[i,j]/p    # Divide each element in the raw with first non zero element\n",
    "    \n",
    "    \n",
    "    if i != m-1:            # Do this only if the non zero raw is not last raw\n",
    "        i+=1               # Moving to next raw\n",
    "        q = A[i,0] # Fixing non zero entry of the raw\n",
    "        for j in range(0,n):\n",
    "            A[i,j] = A[i,j] - (q*A[i-1,j])\n",
    "            \n",
    "    return A"
   ]
  },
  {
   "cell_type": "code",
   "execution_count": 13,
   "id": "481a7848",
   "metadata": {},
   "outputs": [
    {
     "data": {
      "text/plain": [
       "array([[  1.,   7.],\n",
       "       [  0., -12.]])"
      ]
     },
     "execution_count": 13,
     "metadata": {},
     "output_type": "execute_result"
    }
   ],
   "source": [
    "A = np.array([\n",
    "  [1,  7],\n",
    "  [5, 23]\n",
    "])\n",
    "\n",
    "\n",
    "raw_reduced(A)"
   ]
  },
  {
   "cell_type": "code",
   "execution_count": 14,
   "id": "980f4fda",
   "metadata": {},
   "outputs": [
    {
     "name": "stdout",
     "output_type": "stream",
     "text": [
      "[[ 0  1]\n",
      " [23 31]]\n"
     ]
    },
    {
     "data": {
      "text/plain": [
       "array([[0.        , 1.        ],\n",
       "       [1.        , 1.34782609]])"
      ]
     },
     "execution_count": 14,
     "metadata": {},
     "output_type": "execute_result"
    }
   ],
   "source": [
    "A = np.array([[0,1],[23,31]])\n",
    "\n",
    "print(A)\n",
    "raw_reduced(A)"
   ]
  },
  {
   "cell_type": "markdown",
   "id": "a5a1976e",
   "metadata": {},
   "source": [
    "--------\n",
    "----------"
   ]
  },
  {
   "cell_type": "code",
   "execution_count": 15,
   "id": "67e7e6f2",
   "metadata": {},
   "outputs": [
    {
     "name": "stdout",
     "output_type": "stream",
     "text": [
      "[[ 1  2  3]\n",
      " [ 3  4  5]\n",
      " [10  9  8]]\n"
     ]
    },
    {
     "data": {
      "text/plain": [
       "array([[ 1.,  2.,  3.],\n",
       "       [ 0., -2., -4.],\n",
       "       [10.,  9.,  8.]])"
      ]
     },
     "execution_count": 15,
     "metadata": {},
     "output_type": "execute_result"
    }
   ],
   "source": [
    "A= np.array([[1,2,3],[3,4,5],[10,9,8]])\n",
    "\n",
    "print(A)\n",
    "raw_reduced(A)"
   ]
  },
  {
   "cell_type": "code",
   "execution_count": 16,
   "id": "445994f4",
   "metadata": {},
   "outputs": [
    {
     "name": "stdout",
     "output_type": "stream",
     "text": [
      "[[ 0  2  3]\n",
      " [ 3  4  5]\n",
      " [10  9  8]]\n"
     ]
    },
    {
     "data": {
      "text/plain": [
       "array([[ 0.        ,  2.        ,  3.        ],\n",
       "       [ 1.        ,  1.33333333,  1.66666667],\n",
       "       [ 0.        , -4.33333333, -8.66666667]])"
      ]
     },
     "execution_count": 16,
     "metadata": {},
     "output_type": "execute_result"
    }
   ],
   "source": [
    "A= np.array([[0,2,3],[3,4,5],[10,9,8]])\n",
    "\n",
    "print(A)\n",
    "raw_reduced(A)"
   ]
  },
  {
   "cell_type": "code",
   "execution_count": 17,
   "id": "516d7f34",
   "metadata": {},
   "outputs": [
    {
     "data": {
      "text/plain": [
       "2"
      ]
     },
     "execution_count": 17,
     "metadata": {},
     "output_type": "execute_result"
    }
   ],
   "source": [
    "A= np.array([[0,2,3],[3,4,5]])\n",
    "A.shape[0]"
   ]
  },
  {
   "cell_type": "markdown",
   "id": "026ce689",
   "metadata": {},
   "source": [
    "## A proper code"
   ]
  },
  {
   "cell_type": "code",
   "execution_count": 18,
   "id": "411439ec",
   "metadata": {},
   "outputs": [],
   "source": [
    "def raw_reduced(A):\n",
    "\n",
    "    # Convert A to a floating-point data type to perform devision properly\n",
    "    A = A.astype(float)  \n",
    "    m = A.shape[0]         # Number of raws\n",
    "    n = A.shape[1]        # Number of columns\n",
    "\n",
    "\n",
    "    # The following will find first non zero entry in first column also raw number of first non zero entry\n",
    "    i = 0\n",
    "    while A[i,0] ==0:\n",
    "        i += 1\n",
    "    \n",
    "    p = A[i,0]               # Set first non-zero element in the raw\n",
    "    for j in range(0,n):  \n",
    "        A[i,j] = A[i,j]/p    # Divide each element in the raw with first non zero element\n",
    "    \n",
    "    \n",
    "    if i != m-1:            # Do this only if the non zero raw is not last raw\n",
    "        for k in range(i+1,m):               # Moving to next raw\n",
    "            q = A[k,0] # Fixing non zero entry of the raw\n",
    "            for j in range(0,n):\n",
    "                A[k,j] = A[k,j] - (q*A[i,j])\n",
    "                \n",
    "            \n",
    "    return A"
   ]
  },
  {
   "cell_type": "code",
   "execution_count": 19,
   "id": "6f3bd9f5",
   "metadata": {},
   "outputs": [
    {
     "name": "stdout",
     "output_type": "stream",
     "text": [
      "1\n",
      "2\n"
     ]
    }
   ],
   "source": [
    "i = 0\n",
    "for k in range(i+1,3):\n",
    "    print(k)"
   ]
  },
  {
   "cell_type": "code",
   "execution_count": 20,
   "id": "ac13dc22",
   "metadata": {},
   "outputs": [
    {
     "name": "stdout",
     "output_type": "stream",
     "text": [
      "[[ 1  7]\n",
      " [ 5 23]]\n"
     ]
    },
    {
     "data": {
      "text/plain": [
       "array([[  1.,   7.],\n",
       "       [  0., -12.]])"
      ]
     },
     "execution_count": 20,
     "metadata": {},
     "output_type": "execute_result"
    }
   ],
   "source": [
    "A = np.array([\n",
    "  [1,  7],\n",
    "  [5, 23]\n",
    "])\n",
    "\n",
    "print(A)\n",
    "raw_reduced(A)"
   ]
  },
  {
   "cell_type": "code",
   "execution_count": 21,
   "id": "84610c83",
   "metadata": {},
   "outputs": [
    {
     "name": "stdout",
     "output_type": "stream",
     "text": [
      "[[ 0  7]\n",
      " [ 5 23]]\n"
     ]
    },
    {
     "data": {
      "text/plain": [
       "array([[0. , 7. ],\n",
       "       [1. , 4.6]])"
      ]
     },
     "execution_count": 21,
     "metadata": {},
     "output_type": "execute_result"
    }
   ],
   "source": [
    "A = np.array([\n",
    "  [0,  7],\n",
    "  [5, 23]\n",
    "])\n",
    "\n",
    "print(A)\n",
    "raw_reduced(A)"
   ]
  },
  {
   "cell_type": "code",
   "execution_count": 22,
   "id": "83e98f08",
   "metadata": {},
   "outputs": [
    {
     "name": "stdout",
     "output_type": "stream",
     "text": [
      "[[ 1  2  3]\n",
      " [ 3  4  5]\n",
      " [10  9  8]]\n"
     ]
    },
    {
     "data": {
      "text/plain": [
       "array([[  1.,   2.,   3.],\n",
       "       [  0.,  -2.,  -4.],\n",
       "       [  0., -11., -22.]])"
      ]
     },
     "execution_count": 22,
     "metadata": {},
     "output_type": "execute_result"
    }
   ],
   "source": [
    "A= np.array([[1,2,3],[3,4,5],[10,9,8]])\n",
    "\n",
    "print(A)\n",
    "raw_reduced(A)"
   ]
  },
  {
   "cell_type": "code",
   "execution_count": 23,
   "id": "544203df",
   "metadata": {},
   "outputs": [
    {
     "name": "stdout",
     "output_type": "stream",
     "text": [
      "[[ 0  2  3]\n",
      " [ 3  4  5]\n",
      " [10  9  8]]\n"
     ]
    },
    {
     "data": {
      "text/plain": [
       "array([[ 0.        ,  2.        ,  3.        ],\n",
       "       [ 1.        ,  1.33333333,  1.66666667],\n",
       "       [ 0.        , -4.33333333, -8.66666667]])"
      ]
     },
     "execution_count": 23,
     "metadata": {},
     "output_type": "execute_result"
    }
   ],
   "source": [
    "A= np.array([[0,2,3],[3,4,5],[10,9,8]])\n",
    "\n",
    "print(A)\n",
    "raw_reduced(A)"
   ]
  },
  {
   "cell_type": "code",
   "execution_count": 24,
   "id": "633f416e",
   "metadata": {},
   "outputs": [
    {
     "name": "stdout",
     "output_type": "stream",
     "text": [
      "[[0 2 3]\n",
      " [3 4 5]]\n"
     ]
    },
    {
     "data": {
      "text/plain": [
       "array([[0.        , 2.        , 3.        ],\n",
       "       [1.        , 1.33333333, 1.66666667]])"
      ]
     },
     "execution_count": 24,
     "metadata": {},
     "output_type": "execute_result"
    }
   ],
   "source": [
    "A= np.array([[0,2,3],[3,4,5]])\n",
    "\n",
    "print(A)\n",
    "raw_reduced(A)"
   ]
  },
  {
   "cell_type": "code",
   "execution_count": 25,
   "id": "f258afa4",
   "metadata": {},
   "outputs": [
    {
     "name": "stdout",
     "output_type": "stream",
     "text": [
      "[[ 0  2  3  6]\n",
      " [ 3  5  4  5]\n",
      " [21 10  9  8]]\n"
     ]
    },
    {
     "data": {
      "text/plain": [
       "array([[  0.        ,   2.        ,   3.        ,   6.        ],\n",
       "       [  1.        ,   1.66666667,   1.33333333,   1.66666667],\n",
       "       [  0.        , -25.        , -19.        , -27.        ]])"
      ]
     },
     "execution_count": 25,
     "metadata": {},
     "output_type": "execute_result"
    }
   ],
   "source": [
    "A= np.array([[0,2,3,6],[3,5,4,5],[21,10,9,8]])\n",
    "\n",
    "print(A)\n",
    "raw_reduced(A)"
   ]
  },
  {
   "cell_type": "code",
   "execution_count": null,
   "id": "8e501d7a",
   "metadata": {},
   "outputs": [],
   "source": []
  },
  {
   "cell_type": "code",
   "execution_count": 26,
   "id": "510bda8f",
   "metadata": {},
   "outputs": [
    {
     "name": "stdout",
     "output_type": "stream",
     "text": [
      "[[ 0  2  3  6  5]\n",
      " [ 3  5  4  5  8]\n",
      " [21 10  9  8 24]]\n"
     ]
    },
    {
     "data": {
      "text/plain": [
       "array([[  0.        ,   2.        ,   3.        ,   6.        ,\n",
       "          5.        ],\n",
       "       [  1.        ,   1.66666667,   1.33333333,   1.66666667,\n",
       "          2.66666667],\n",
       "       [  0.        , -25.        , -19.        , -27.        ,\n",
       "        -32.        ]])"
      ]
     },
     "execution_count": 26,
     "metadata": {},
     "output_type": "execute_result"
    }
   ],
   "source": [
    "A= np.array([[0,2,3,6,5],[3,5,4,5,8],[21,10,9,8,24]])\n",
    "\n",
    "print(A)\n",
    "raw_reduced(A)"
   ]
  },
  {
   "cell_type": "code",
   "execution_count": 27,
   "id": "7980fe14",
   "metadata": {},
   "outputs": [
    {
     "name": "stdout",
     "output_type": "stream",
     "text": [
      "[[ 0  2  3  6  5]\n",
      " [ 0  5  4  5  8]\n",
      " [ 0 10  9  8 24]]\n"
     ]
    },
    {
     "ename": "IndexError",
     "evalue": "index 3 is out of bounds for axis 0 with size 3",
     "output_type": "error",
     "traceback": [
      "\u001b[1;31m---------------------------------------------------------------------------\u001b[0m",
      "\u001b[1;31mIndexError\u001b[0m                                Traceback (most recent call last)",
      "\u001b[1;32m~\\AppData\\Local\\Temp\\ipykernel_21312\\3108210801.py\u001b[0m in \u001b[0;36m<module>\u001b[1;34m\u001b[0m\n\u001b[0;32m      2\u001b[0m \u001b[1;33m\u001b[0m\u001b[0m\n\u001b[0;32m      3\u001b[0m \u001b[0mprint\u001b[0m\u001b[1;33m(\u001b[0m\u001b[0mA\u001b[0m\u001b[1;33m)\u001b[0m\u001b[1;33m\u001b[0m\u001b[1;33m\u001b[0m\u001b[0m\n\u001b[1;32m----> 4\u001b[1;33m \u001b[0mraw_reduced\u001b[0m\u001b[1;33m(\u001b[0m\u001b[0mA\u001b[0m\u001b[1;33m)\u001b[0m\u001b[1;33m\u001b[0m\u001b[1;33m\u001b[0m\u001b[0m\n\u001b[0m",
      "\u001b[1;32m~\\AppData\\Local\\Temp\\ipykernel_21312\\1992503545.py\u001b[0m in \u001b[0;36mraw_reduced\u001b[1;34m(A)\u001b[0m\n\u001b[0;32m      9\u001b[0m     \u001b[1;31m# The following will find first non zero entry in first column also raw number of first non zero entry\u001b[0m\u001b[1;33m\u001b[0m\u001b[1;33m\u001b[0m\u001b[1;33m\u001b[0m\u001b[0m\n\u001b[0;32m     10\u001b[0m     \u001b[0mi\u001b[0m \u001b[1;33m=\u001b[0m \u001b[1;36m0\u001b[0m\u001b[1;33m\u001b[0m\u001b[1;33m\u001b[0m\u001b[0m\n\u001b[1;32m---> 11\u001b[1;33m     \u001b[1;32mwhile\u001b[0m \u001b[0mA\u001b[0m\u001b[1;33m[\u001b[0m\u001b[0mi\u001b[0m\u001b[1;33m,\u001b[0m\u001b[1;36m0\u001b[0m\u001b[1;33m]\u001b[0m \u001b[1;33m==\u001b[0m\u001b[1;36m0\u001b[0m\u001b[1;33m:\u001b[0m\u001b[1;33m\u001b[0m\u001b[1;33m\u001b[0m\u001b[0m\n\u001b[0m\u001b[0;32m     12\u001b[0m         \u001b[0mi\u001b[0m \u001b[1;33m+=\u001b[0m \u001b[1;36m1\u001b[0m\u001b[1;33m\u001b[0m\u001b[1;33m\u001b[0m\u001b[0m\n\u001b[0;32m     13\u001b[0m \u001b[1;33m\u001b[0m\u001b[0m\n",
      "\u001b[1;31mIndexError\u001b[0m: index 3 is out of bounds for axis 0 with size 3"
     ]
    }
   ],
   "source": [
    "A= np.array([[0,2,3,6,5],[0,5,4,5,8],[0,10,9,8,24]])\n",
    "\n",
    "print(A)\n",
    "raw_reduced(A)"
   ]
  },
  {
   "cell_type": "code",
   "execution_count": 28,
   "id": "b812b788",
   "metadata": {},
   "outputs": [
    {
     "name": "stdout",
     "output_type": "stream",
     "text": [
      "[[0 2]\n",
      " [0 5]]\n"
     ]
    },
    {
     "ename": "IndexError",
     "evalue": "index 2 is out of bounds for axis 0 with size 2",
     "output_type": "error",
     "traceback": [
      "\u001b[1;31m---------------------------------------------------------------------------\u001b[0m",
      "\u001b[1;31mIndexError\u001b[0m                                Traceback (most recent call last)",
      "\u001b[1;32m~\\AppData\\Local\\Temp\\ipykernel_21312\\3985337547.py\u001b[0m in \u001b[0;36m<module>\u001b[1;34m\u001b[0m\n\u001b[0;32m      2\u001b[0m \u001b[1;33m\u001b[0m\u001b[0m\n\u001b[0;32m      3\u001b[0m \u001b[0mprint\u001b[0m\u001b[1;33m(\u001b[0m\u001b[0mA\u001b[0m\u001b[1;33m)\u001b[0m\u001b[1;33m\u001b[0m\u001b[1;33m\u001b[0m\u001b[0m\n\u001b[1;32m----> 4\u001b[1;33m \u001b[0mraw_reduced\u001b[0m\u001b[1;33m(\u001b[0m\u001b[0mA\u001b[0m\u001b[1;33m)\u001b[0m\u001b[1;33m\u001b[0m\u001b[1;33m\u001b[0m\u001b[0m\n\u001b[0m",
      "\u001b[1;32m~\\AppData\\Local\\Temp\\ipykernel_21312\\1992503545.py\u001b[0m in \u001b[0;36mraw_reduced\u001b[1;34m(A)\u001b[0m\n\u001b[0;32m      9\u001b[0m     \u001b[1;31m# The following will find first non zero entry in first column also raw number of first non zero entry\u001b[0m\u001b[1;33m\u001b[0m\u001b[1;33m\u001b[0m\u001b[1;33m\u001b[0m\u001b[0m\n\u001b[0;32m     10\u001b[0m     \u001b[0mi\u001b[0m \u001b[1;33m=\u001b[0m \u001b[1;36m0\u001b[0m\u001b[1;33m\u001b[0m\u001b[1;33m\u001b[0m\u001b[0m\n\u001b[1;32m---> 11\u001b[1;33m     \u001b[1;32mwhile\u001b[0m \u001b[0mA\u001b[0m\u001b[1;33m[\u001b[0m\u001b[0mi\u001b[0m\u001b[1;33m,\u001b[0m\u001b[1;36m0\u001b[0m\u001b[1;33m]\u001b[0m \u001b[1;33m==\u001b[0m\u001b[1;36m0\u001b[0m\u001b[1;33m:\u001b[0m\u001b[1;33m\u001b[0m\u001b[1;33m\u001b[0m\u001b[0m\n\u001b[0m\u001b[0;32m     12\u001b[0m         \u001b[0mi\u001b[0m \u001b[1;33m+=\u001b[0m \u001b[1;36m1\u001b[0m\u001b[1;33m\u001b[0m\u001b[1;33m\u001b[0m\u001b[0m\n\u001b[0;32m     13\u001b[0m \u001b[1;33m\u001b[0m\u001b[0m\n",
      "\u001b[1;31mIndexError\u001b[0m: index 2 is out of bounds for axis 0 with size 2"
     ]
    }
   ],
   "source": [
    "A= np.array([[0,2],[0,5]])\n",
    "\n",
    "print(A)\n",
    "raw_reduced(A)"
   ]
  },
  {
   "cell_type": "markdown",
   "id": "f2d886ba",
   "metadata": {},
   "source": [
    "- This errors means we can use above defined function if and only if some element in the first raw is non zero. \n",
    "- We need to fix it\n",
    "- We will be calling this function only if some entry is non zero"
   ]
  },
  {
   "cell_type": "code",
   "execution_count": 29,
   "id": "91bf00fe",
   "metadata": {},
   "outputs": [],
   "source": [
    "# Now we need to solve when all elements in the column is 0 \n",
    "# If all the elemnts in the first column is 0 we move to column 2\n",
    "\n",
    "\n",
    "\n",
    "def function_2(A):\n",
    "    i = 0\n",
    "\n",
    "    if any(A[j,0] != 0 for j in range(0,3)):  # Let us try with 3 raws\n",
    "        return raw_reduced(A)\n",
    "    else:\n",
    "        print(\"Yes\")"
   ]
  },
  {
   "cell_type": "code",
   "execution_count": 30,
   "id": "1848a504",
   "metadata": {},
   "outputs": [],
   "source": [
    "def function_2(A):\n",
    "    # Check if any element in the first column of the first three rows is non-zero\n",
    "    if any(A[j,0] != 0 for j in range(3)):\n",
    "        B = raw_reduced(A)  # Call the raw_reduced function and assign the result to B\n",
    "        return B  # Call the interchange_rows function with B\n",
    "                  # Return the modified array C\n",
    "        \n",
    "    else:\n",
    "        print(\"Yes\")  # If the condition is not met, print \"Yes\"\n"
   ]
  },
  {
   "cell_type": "code",
   "execution_count": 31,
   "id": "339583c2",
   "metadata": {},
   "outputs": [
    {
     "name": "stdout",
     "output_type": "stream",
     "text": [
      "[[5 2]\n",
      " [3 5]]\n"
     ]
    },
    {
     "data": {
      "text/plain": [
       "array([[1. , 0.4],\n",
       "       [0. , 3.8]])"
      ]
     },
     "execution_count": 31,
     "metadata": {},
     "output_type": "execute_result"
    }
   ],
   "source": [
    "A= np.array([[5,2],[3,5]])\n",
    "print(A)\n",
    "\n",
    "function_2(A)"
   ]
  },
  {
   "cell_type": "code",
   "execution_count": 32,
   "id": "7ee9beb5",
   "metadata": {},
   "outputs": [
    {
     "name": "stdout",
     "output_type": "stream",
     "text": [
      "[[0 2]\n",
      " [3 5]]\n"
     ]
    },
    {
     "data": {
      "text/plain": [
       "array([[0.        , 2.        ],\n",
       "       [1.        , 1.66666667]])"
      ]
     },
     "execution_count": 32,
     "metadata": {},
     "output_type": "execute_result"
    }
   ],
   "source": [
    "A= np.array([[0,2],[3,5]])\n",
    "print(A)\n",
    "\n",
    "function_2(A)"
   ]
  },
  {
   "cell_type": "code",
   "execution_count": 33,
   "id": "449e8314",
   "metadata": {},
   "outputs": [
    {
     "ename": "NameError",
     "evalue": "name 'interchange_raws' is not defined",
     "output_type": "error",
     "traceback": [
      "\u001b[1;31m---------------------------------------------------------------------------\u001b[0m",
      "\u001b[1;31mNameError\u001b[0m                                 Traceback (most recent call last)",
      "\u001b[1;32m~\\AppData\\Local\\Temp\\ipykernel_21312\\3094703081.py\u001b[0m in \u001b[0;36m<module>\u001b[1;34m\u001b[0m\n\u001b[0;32m      2\u001b[0m \u001b[1;33m\u001b[0m\u001b[0m\n\u001b[0;32m      3\u001b[0m \u001b[0mB\u001b[0m \u001b[1;33m=\u001b[0m \u001b[0mraw_reduced\u001b[0m\u001b[1;33m(\u001b[0m\u001b[0mA\u001b[0m\u001b[1;33m)\u001b[0m\u001b[1;33m\u001b[0m\u001b[1;33m\u001b[0m\u001b[0m\n\u001b[1;32m----> 4\u001b[1;33m \u001b[0mC\u001b[0m \u001b[1;33m=\u001b[0m \u001b[0minterchange_raws\u001b[0m\u001b[1;33m(\u001b[0m\u001b[0mB\u001b[0m\u001b[1;33m)\u001b[0m\u001b[1;33m\u001b[0m\u001b[1;33m\u001b[0m\u001b[0m\n\u001b[0m\u001b[0;32m      5\u001b[0m \u001b[1;33m\u001b[0m\u001b[0m\n\u001b[0;32m      6\u001b[0m \u001b[0mprint\u001b[0m\u001b[1;33m(\u001b[0m\u001b[0mA\u001b[0m\u001b[1;33m)\u001b[0m\u001b[1;33m\u001b[0m\u001b[1;33m\u001b[0m\u001b[0m\n",
      "\u001b[1;31mNameError\u001b[0m: name 'interchange_raws' is not defined"
     ]
    }
   ],
   "source": [
    "A = np.array([[0,2],[4,5]])\n",
    "\n",
    "B = raw_reduced(A)\n",
    "C = interchange_raws(B)\n",
    "\n",
    "print(A)\n",
    "print(B)\n",
    "print(C)"
   ]
  },
  {
   "cell_type": "code",
   "execution_count": 34,
   "id": "6d9e578f",
   "metadata": {
    "scrolled": true
   },
   "outputs": [
    {
     "ename": "NameError",
     "evalue": "name 'interchange_raws' is not defined",
     "output_type": "error",
     "traceback": [
      "\u001b[1;31m---------------------------------------------------------------------------\u001b[0m",
      "\u001b[1;31mNameError\u001b[0m                                 Traceback (most recent call last)",
      "\u001b[1;32m~\\AppData\\Local\\Temp\\ipykernel_21312\\2104740456.py\u001b[0m in \u001b[0;36m<module>\u001b[1;34m\u001b[0m\n\u001b[1;32m----> 1\u001b[1;33m \u001b[0minterchange_raws\u001b[0m\u001b[1;33m(\u001b[0m\u001b[0mB\u001b[0m\u001b[1;33m)\u001b[0m\u001b[1;33m\u001b[0m\u001b[1;33m\u001b[0m\u001b[0m\n\u001b[0m",
      "\u001b[1;31mNameError\u001b[0m: name 'interchange_raws' is not defined"
     ]
    }
   ],
   "source": [
    "interchange_raws(B)"
   ]
  },
  {
   "cell_type": "code",
   "execution_count": 35,
   "id": "c4cf558f",
   "metadata": {},
   "outputs": [
    {
     "name": "stdout",
     "output_type": "stream",
     "text": [
      "[[ 0  2  3  6  5]\n",
      " [ 0  5  4  5  8]\n",
      " [ 0 10  9  8 24]]\n",
      "Yes\n"
     ]
    }
   ],
   "source": [
    "A= np.array([[0,2,3,6,5],[0,5,4,5,8],[0,10,9,8,24]])\n",
    "\n",
    "print(A)\n",
    "function_2(A)"
   ]
  },
  {
   "cell_type": "code",
   "execution_count": 36,
   "id": "4265a4b3",
   "metadata": {},
   "outputs": [
    {
     "name": "stdout",
     "output_type": "stream",
     "text": [
      "[[12  2  3  6  5]\n",
      " [25  5  4  5  8]\n",
      " [ 2 10  9  8 24]]\n"
     ]
    },
    {
     "data": {
      "text/plain": [
       "array([[ 1.        ,  0.16666667,  0.25      ,  0.5       ,  0.41666667],\n",
       "       [ 0.        ,  0.83333333, -2.25      , -7.5       , -2.41666667],\n",
       "       [ 0.        ,  9.66666667,  8.5       ,  7.        , 23.16666667]])"
      ]
     },
     "execution_count": 36,
     "metadata": {},
     "output_type": "execute_result"
    }
   ],
   "source": [
    "A= np.array([[12,2,3,6,5],[25,5,4,5,8],[2,10,9,8,24]])\n",
    "\n",
    "print(A)\n",
    "function_2(A)"
   ]
  },
  {
   "cell_type": "code",
   "execution_count": 37,
   "id": "3dbd0833",
   "metadata": {},
   "outputs": [
    {
     "name": "stdout",
     "output_type": "stream",
     "text": [
      "[[ 0  2  3  6  5]\n",
      " [25  5  4  5  8]\n",
      " [ 2 10  9  8 24]]\n"
     ]
    },
    {
     "data": {
      "text/plain": [
       "array([[ 0.  ,  2.  ,  3.  ,  6.  ,  5.  ],\n",
       "       [ 1.  ,  0.2 ,  0.16,  0.2 ,  0.32],\n",
       "       [ 0.  ,  9.6 ,  8.68,  7.6 , 23.36]])"
      ]
     },
     "execution_count": 37,
     "metadata": {},
     "output_type": "execute_result"
    }
   ],
   "source": [
    "A= np.array([[0,2,3,6,5],[25,5,4,5,8],[2,10,9,8,24]])\n",
    "\n",
    "print(A)\n",
    "function_2(A)"
   ]
  },
  {
   "cell_type": "markdown",
   "id": "631ee7a2",
   "metadata": {},
   "source": [
    "------\n",
    "-------"
   ]
  },
  {
   "cell_type": "markdown",
   "id": "e945effa",
   "metadata": {},
   "source": [
    "To interchange raw"
   ]
  },
  {
   "cell_type": "code",
   "execution_count": 38,
   "id": "f23028a4",
   "metadata": {},
   "outputs": [],
   "source": [
    "def interchange_raws(A):\n",
    "    i = 0             # Jus to show we are working with first column\n",
    "    if A[0,0] != 1:    # Interchange only if the first element is not one \n",
    "        for k in range(2):    # Find index of raw with element 1\n",
    "            if A[k, 0] != 0:\n",
    "                A[[0, k]] = A[[k, 0]]\n",
    "                break \n",
    "                \n",
    "    else:\n",
    "        return A"
   ]
  },
  {
   "cell_type": "markdown",
   "id": "aeee2f70",
   "metadata": {},
   "source": [
    "Function to rearrage raws such that raw with first 0 in the column interchange with raw with column value 1"
   ]
  },
  {
   "cell_type": "code",
   "execution_count": 39,
   "id": "bfacc9bb",
   "metadata": {},
   "outputs": [],
   "source": [
    "A= np.array([[0,2],[0,4],[1,4]])\n",
    "interchange_raws(A)"
   ]
  },
  {
   "cell_type": "code",
   "execution_count": 40,
   "id": "46fd2a01",
   "metadata": {},
   "outputs": [
    {
     "data": {
      "text/plain": [
       "array([[0, 2],\n",
       "       [0, 4],\n",
       "       [1, 4]])"
      ]
     },
     "execution_count": 40,
     "metadata": {},
     "output_type": "execute_result"
    }
   ],
   "source": [
    "A"
   ]
  },
  {
   "cell_type": "code",
   "execution_count": 41,
   "id": "c5b82554",
   "metadata": {},
   "outputs": [
    {
     "data": {
      "text/plain": [
       "2"
      ]
     },
     "execution_count": 41,
     "metadata": {},
     "output_type": "execute_result"
    }
   ],
   "source": [
    "k"
   ]
  },
  {
   "cell_type": "code",
   "execution_count": 42,
   "id": "ad79e452",
   "metadata": {},
   "outputs": [
    {
     "name": "stdout",
     "output_type": "stream",
     "text": [
      "[4 5 6]\n",
      "[1 2 3]\n"
     ]
    }
   ],
   "source": [
    " # Swap raws\n",
    "\n",
    "\n",
    "\n",
    "import numpy as np\n",
    "\n",
    "A = np.array([1, 2, 3])\n",
    "B = np.array([4, 5, 6])\n",
    "\n",
    "# Create a temporary variable to store the value of A\n",
    "temp = A\n",
    "\n",
    "# Assign the value of B to A\n",
    "A = B\n",
    "\n",
    "# Assign the value of temp to B\n",
    "B = temp\n",
    "\n",
    "print(A) \n",
    "print(B) "
   ]
  },
  {
   "cell_type": "code",
   "execution_count": 43,
   "id": "f517f7be",
   "metadata": {},
   "outputs": [
    {
     "name": "stdout",
     "output_type": "stream",
     "text": [
      "1\n"
     ]
    }
   ],
   "source": [
    "import numpy as np\n",
    "\n",
    "def find_index_of_first_non_zero_element(array):\n",
    "  \"\"\"Finds the index of the first non-zero element in the first column of a 3 by 3 NumPy array.\n",
    "\n",
    "  Args:\n",
    "    array: A 3 by 3 NumPy array.\n",
    "\n",
    "  Returns:\n",
    "    The index of the first non-zero element in the first column of the array, or None if there are no non-zero elements in the first column.\n",
    "  \"\"\"\n",
    "\n",
    "  for i in range(array.shape[0]):\n",
    "    if array[i, 0] != 0:\n",
    "      return i\n",
    "\n",
    "  return None\n",
    "\n",
    "# Example usage:\n",
    "\n",
    "array = np.array([[0, 1, 2], [3, 4, 5], [6, 7, 8]])\n",
    "index = find_index_of_first_non_zero_element(array)\n",
    "print(index)"
   ]
  },
  {
   "cell_type": "code",
   "execution_count": 44,
   "id": "d510251b",
   "metadata": {},
   "outputs": [],
   "source": [
    "A = np.array([[0, 1, 2], [0, 4, 5], [6, 7, 8]])\n",
    "\n",
    "for k in range(3):\n",
    "    if A[k, 0] != 0:\n",
    "        break"
   ]
  },
  {
   "cell_type": "code",
   "execution_count": 45,
   "id": "04a98658",
   "metadata": {},
   "outputs": [
    {
     "data": {
      "text/plain": [
       "2"
      ]
     },
     "execution_count": 45,
     "metadata": {},
     "output_type": "execute_result"
    }
   ],
   "source": [
    "k"
   ]
  },
  {
   "cell_type": "markdown",
   "id": "528c200e",
   "metadata": {},
   "source": [
    "-----\n",
    "------"
   ]
  },
  {
   "cell_type": "code",
   "execution_count": 46,
   "id": "894d6039",
   "metadata": {},
   "outputs": [],
   "source": [
    "#### To Generalise the function raw_reduced"
   ]
  },
  {
   "cell_type": "code",
   "execution_count": 47,
   "id": "52e19492",
   "metadata": {},
   "outputs": [],
   "source": [
    "def raw_reduced_new(A):\n",
    "    # Convert A to a floating-point data type to perform devision properly\n",
    "    A = A.astype(float)  \n",
    "    m = A.shape[0]         # Number of raws\n",
    "    n = A.shape[1]        # Number of columns\n",
    "    \n",
    "    #for i in range(n):\n",
    "    for i in range(0,1):\n",
    "        r = None\n",
    "        while A[i,i] == 0:\n",
    "            i+= 1\n",
    "            r = i\n",
    "            \n",
    "        p = A[r,i]\n",
    "        \n",
    "        for j in range(0,n):\n",
    "            A[r,j] = A[r,j]/p\n",
    "            \n",
    "        return A  "
   ]
  },
  {
   "cell_type": "code",
   "execution_count": 48,
   "id": "d8f9760e",
   "metadata": {},
   "outputs": [
    {
     "data": {
      "text/plain": [
       "array([[ 0.        ,  5.        ,  7.        ],\n",
       "       [31.        ,  0.        , 23.        ],\n",
       "       [ 0.        ,  0.30769231,  1.        ]])"
      ]
     },
     "execution_count": 48,
     "metadata": {},
     "output_type": "execute_result"
    }
   ],
   "source": [
    "A = np.array([\n",
    "  [0,5,  7],\n",
    "  [31,0, 23],\n",
    "  [0,4,13]\n",
    "])\n",
    "\n",
    "raw_reduced_new(A)"
   ]
  },
  {
   "cell_type": "code",
   "execution_count": 51,
   "id": "bc799a4f",
   "metadata": {},
   "outputs": [],
   "source": [
    "# Normalise the raws\n",
    "def raw_reduced(A):\n",
    "\n",
    "    # Convert A to a floating-point data type to perform devision properly\n",
    "    A = A.astype(float)  \n",
    "    m = A.shape[0]         # Number of raws\n",
    "    n = A.shape[1]        # Number of columns\n",
    "\n",
    "\n",
    "    # The following will find first non zero entry in first column also raw number of first non zero entry\n",
    "    i = 0\n",
    "    while A[i,0] ==0:\n",
    "        i += 1\n",
    "    \n",
    "    p = A[i,0]               # Set first non-zero element in the raw\n",
    "    for j in range(0,n):  \n",
    "        A[i,j] = A[i,j]/p    # Divide each element in the raw with first non zero element\n",
    "    \n",
    "    \n",
    "    if i != m-1:            # Do this only if the non zero raw is not last raw\n",
    "        for k in range(i+1,m):               # Moving to next raw\n",
    "            q = A[k,0] # Fixing non zero entry of the raw\n",
    "            for j in range(0,n):\n",
    "                A[k,j] = A[k,j] - (q*A[i,j])\n",
    "            \n",
    "    return A"
   ]
  },
  {
   "cell_type": "code",
   "execution_count": 52,
   "id": "3e3c26a4",
   "metadata": {},
   "outputs": [
    {
     "data": {
      "text/plain": [
       "array([[ 0. ,  5. ,  7. ],\n",
       "       [31. ,  0. , 23. ],\n",
       "       [ 1. ,  0.8,  2.6]])"
      ]
     },
     "execution_count": 52,
     "metadata": {},
     "output_type": "execute_result"
    }
   ],
   "source": [
    "A = np.array([\n",
    "  [0,5,  7],\n",
    "  [31,0, 23],\n",
    "  [5,4,13]\n",
    "])\n",
    "\n",
    "raw_reduced(A)"
   ]
  },
  {
   "cell_type": "markdown",
   "id": "124a1b02",
   "metadata": {},
   "source": [
    "#### Below code works for column 1"
   ]
  },
  {
   "cell_type": "code",
   "execution_count": 143,
   "id": "d59f3acb",
   "metadata": {},
   "outputs": [],
   "source": [
    "\n",
    "# Normalise the raws\n",
    "def raw_reduced(A):\n",
    "\n",
    "    # Convert A to a floating-point data type to perform devision properly\n",
    "    A = A.astype(float)  \n",
    "    m = A.shape[0]         # Number of raws\n",
    "    n = A.shape[1]        # Number of columns\n",
    "\n",
    "\n",
    "    # The following will find first non zero entry in first column also raw number of first non zero entry\n",
    "    i = 1\n",
    "    while A[i,1] ==0:\n",
    "        i += 1\n",
    "    \n",
    "    p = A[i,1]               # Set first non-zero element in the raw\n",
    "    for j in range(i-1,n):  \n",
    "        A[i,j] = A[i,j]/p    # Divide each element in the raw with first non zero element\n",
    "    \n",
    "    \n",
    "    if i != m-1:            # Do this only if the non zero raw is not last raw\n",
    "        for k in range(i+1,m):               # Moving to next raw\n",
    "            q = A[k,0] # Fixing non zero entry of the raw\n",
    "            for j in range(0,n):\n",
    "                A[k,j] = A[k,j] - (q*A[i,j])\n",
    "            \n",
    "    return A"
   ]
  },
  {
   "cell_type": "code",
   "execution_count": 144,
   "id": "ff42c8d5",
   "metadata": {},
   "outputs": [
    {
     "data": {
      "text/plain": [
       "array([[  0. ,   5. ,   7. ],\n",
       "       [  6.2,   1. ,   4.6],\n",
       "       [-26. ,  -1. , -10. ]])"
      ]
     },
     "execution_count": 144,
     "metadata": {},
     "output_type": "execute_result"
    }
   ],
   "source": [
    "A = np.array([\n",
    "  [0,5,  7],\n",
    "  [31,5, 23],\n",
    "  [5,4,13]\n",
    "])\n",
    "\n",
    "raw_reduced(A)"
   ]
  },
  {
   "cell_type": "markdown",
   "id": "a163edbf",
   "metadata": {},
   "source": [
    "---------"
   ]
  },
  {
   "cell_type": "markdown",
   "id": "a5e3fb91",
   "metadata": {},
   "source": [
    "-------"
   ]
  },
  {
   "cell_type": "code",
   "execution_count": 139,
   "id": "abe474a8",
   "metadata": {},
   "outputs": [],
   "source": [
    "# Normalise the raws\n",
    "def raw_reduced(A):\n",
    "\n",
    "    # Convert A to a floating-point data type to perform devision properly\n",
    "    A = A.astype(float)  \n",
    "    m = A.shape[0]         # Number of raws\n",
    "    n = A.shape[1]        # Number of columns\n",
    "\n",
    "\n",
    "    # The following will find first non zero entry in first column also raw number of first non zero entry\n",
    "    i = 1 # Use for loop here\n",
    "    c = i # fixing the column number\n",
    "    while A[i,c] ==0:\n",
    "        i += 1\n",
    "    \n",
    "    p = A[i,c]               # Set first non-zero element in the raw\n",
    "    for j in range(i-1,n):  \n",
    "        A[i,j] = A[i,j]/p    # Divide each element in the raw with first non zero element\n",
    "    \n",
    "    \n",
    "    if i != m-1:            # Do this only if the non zero raw is not last raw\n",
    "        for k in range(i+1,m):               # Moving to next raw\n",
    "            q = A[k,0] # Fixing non zero entry of the raw\n",
    "            for j in range(0,n):\n",
    "                A[k,j] = A[k,j] - (q*A[i,j])\n",
    "            \n",
    "    return A"
   ]
  },
  {
   "cell_type": "code",
   "execution_count": 140,
   "id": "3aa48caa",
   "metadata": {},
   "outputs": [
    {
     "data": {
      "text/plain": [
       "array([[ 0. ,  5. ,  7. ],\n",
       "       [ 2. ,  1. ,  1.5],\n",
       "       [-5. , -1. , -2.5]])"
      ]
     },
     "execution_count": 140,
     "metadata": {},
     "output_type": "execute_result"
    }
   ],
   "source": [
    "A = np.array([\n",
    "  [0,5,  7],\n",
    "  [8,4, 6],\n",
    "  [5,4,5]\n",
    "])\n",
    "\n",
    "raw_reduced(A)"
   ]
  },
  {
   "cell_type": "code",
   "execution_count": 133,
   "id": "6cc67498",
   "metadata": {},
   "outputs": [],
   "source": [
    "# Normalise the raws\n",
    "def raw_reduced(A):\n",
    "\n",
    "    # Convert A to a floating-point data type to perform devision properly\n",
    "    A = A.astype(float)  \n",
    "    m = A.shape[0]         # Number of raws\n",
    "    n = A.shape[1]        # Number of columns\n",
    "\n",
    "\n",
    "    # The following will find first non zero entry in first column also raw number of first non zero entry\n",
    "    for i in range(0,n): # Use for loop here\n",
    "        c = i # fixing the column number\n",
    "        while A[i,c] ==0: # search index for first non zero entry of the column\n",
    "                i += 1\n",
    "    \n",
    "        p = A[i,c]               # Set first non-zero element in the raw\n",
    "        for j in range(i-1,n):  \n",
    "                A[i,j] = A[i,j]/p    # Divide each element in the raw with first non zero element\n",
    "    \n",
    "    \n",
    "        if i != m-1:            # Do this only if the non zero raw is not last raw\n",
    "            for k in range(i+1,m):               # Moving to next raw\n",
    "                q = A[k,0] # Fixing non zero entry of the raw\n",
    "                for j in range(0,n):\n",
    "                    A[k,j] = A[k,j] - (q*A[i,j])\n",
    "            \n",
    "        return A"
   ]
  },
  {
   "cell_type": "code",
   "execution_count": 138,
   "id": "f0df3499",
   "metadata": {},
   "outputs": [
    {
     "data": {
      "text/plain": [
       "array([[ 0.        ,  0.71428571,  1.        ],\n",
       "       [ 1.        , -0.03571429,  0.        ],\n",
       "       [ 0.        ,  0.60714286,  0.        ]])"
      ]
     },
     "execution_count": 138,
     "metadata": {},
     "output_type": "execute_result"
    }
   ],
   "source": [
    "A = np.array([\n",
    "  [0,5,  7],\n",
    "  [8,4, 6],\n",
    "  [5,4,5]\n",
    "])\n",
    "\n",
    "raw_reduced(A)"
   ]
  },
  {
   "cell_type": "code",
   "execution_count": 132,
   "id": "5f67c215",
   "metadata": {},
   "outputs": [
    {
     "data": {
      "text/plain": [
       "4"
      ]
     },
     "execution_count": 132,
     "metadata": {},
     "output_type": "execute_result"
    }
   ],
   "source": [
    "A[2,1]"
   ]
  },
  {
   "cell_type": "code",
   "execution_count": 135,
   "id": "82040100",
   "metadata": {},
   "outputs": [],
   "source": [
    "# Chat Gpt code\n",
    "def raw_reduced(A):\n",
    "    # Convert A to a floating-point data type to perform division properly\n",
    "    A = A.astype(float)\n",
    "    m = A.shape[0]  # Number of rows\n",
    "    n = A.shape[1]  # Number of columns\n",
    "\n",
    "    # Iterate over columns\n",
    "    for i in range(n):\n",
    "        c = i  # fixing the column number\n",
    "        j = 0  # Initialize j here\n",
    "        while j < m and A[j, c] == 0:  # Search index for first non-zero entry of the column\n",
    "            j += 1\n",
    "\n",
    "        if j == m:  # If the column is all zeros, move to the next column\n",
    "            continue\n",
    "\n",
    "        p = A[j, c]  # Set first non-zero element in the row\n",
    "        for k in range(n):\n",
    "            A[j, k] = A[j, k] / p  # Divide each element in the row with first non-zero element\n",
    "\n",
    "        # Zero out the elements below the pivot\n",
    "        for k in range(j + 1, m):\n",
    "            q = A[k, c]  # Fixing non-zero entry of the row\n",
    "            for l in range(n):\n",
    "                A[k, l] = A[k, l] - (q * A[j, l])\n",
    "\n",
    "    return A\n"
   ]
  },
  {
   "cell_type": "code",
   "execution_count": 136,
   "id": "b283b241",
   "metadata": {},
   "outputs": [
    {
     "data": {
      "text/plain": [
       "array([[ 0.        ,  0.71428571,  1.        ],\n",
       "       [ 1.        , -0.52995392,  0.        ],\n",
       "       [ 0.        , -2.6359447 ,  0.        ]])"
      ]
     },
     "execution_count": 136,
     "metadata": {},
     "output_type": "execute_result"
    }
   ],
   "source": [
    "A = np.array([\n",
    "  [0,5,  7],\n",
    "  [31,0, 23],\n",
    "  [5,4,13]\n",
    "])\n",
    "\n",
    "raw_reduced(A)"
   ]
  },
  {
   "cell_type": "code",
   "execution_count": null,
   "id": "b1a8505c",
   "metadata": {},
   "outputs": [],
   "source": []
  }
 ],
 "metadata": {
  "kernelspec": {
   "display_name": "Python 3 (ipykernel)",
   "language": "python",
   "name": "python3"
  },
  "language_info": {
   "codemirror_mode": {
    "name": "ipython",
    "version": 3
   },
   "file_extension": ".py",
   "mimetype": "text/x-python",
   "name": "python",
   "nbconvert_exporter": "python",
   "pygments_lexer": "ipython3",
   "version": "3.7.15"
  }
 },
 "nbformat": 4,
 "nbformat_minor": 5
}
