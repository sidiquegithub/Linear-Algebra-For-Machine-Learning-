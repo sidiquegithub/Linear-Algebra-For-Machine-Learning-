{
 "cells": [
  {
   "cell_type": "code",
   "execution_count": 1,
   "id": "2094630c",
   "metadata": {},
   "outputs": [],
   "source": [
    "import numpy as np"
   ]
  },
  {
   "cell_type": "code",
   "execution_count": 2,
   "id": "59f2c9a0",
   "metadata": {},
   "outputs": [],
   "source": [
    "A = np.array([\n",
    "  [0,  7],\n",
    "  [5, 23]\n",
    "])\n",
    "\n",
    "\n",
    "\n",
    "# Convert A to a floating-point data type to perform devision properly\n",
    "A = A.astype(float)  \n",
    "\n",
    "\n",
    "# The following will find first non zero entry also raw number of first non zero entry\n",
    "i = 0\n",
    "while A[i,0] ==0:\n",
    "    i += 1\n",
    "    \n",
    "p = A[i,0]   # Set first non-zero element \n",
    "for j in range(0,2):  # 2 is the number corresponding to the columns\n",
    "    A[i,j] = A[i,j]/p"
   ]
  },
  {
   "cell_type": "code",
   "execution_count": 3,
   "id": "970eac5b",
   "metadata": {},
   "outputs": [
    {
     "data": {
      "text/plain": [
       "array([[0. , 7. ],\n",
       "       [1. , 4.6]])"
      ]
     },
     "execution_count": 3,
     "metadata": {},
     "output_type": "execute_result"
    }
   ],
   "source": [
    "A"
   ]
  },
  {
   "cell_type": "code",
   "execution_count": null,
   "id": "ea1760e6",
   "metadata": {},
   "outputs": [],
   "source": []
  },
  {
   "cell_type": "code",
   "execution_count": null,
   "id": "cd86ee29",
   "metadata": {},
   "outputs": [],
   "source": []
  },
  {
   "cell_type": "code",
   "execution_count": null,
   "id": "6bcaf20a",
   "metadata": {},
   "outputs": [],
   "source": []
  },
  {
   "cell_type": "code",
   "execution_count": null,
   "id": "0f71573b",
   "metadata": {},
   "outputs": [],
   "source": []
  },
  {
   "cell_type": "code",
   "execution_count": 4,
   "id": "e3fe0e26",
   "metadata": {},
   "outputs": [],
   "source": [
    "A = np.array([\n",
    "  [3,  7],\n",
    "  [5, 23]\n",
    "])\n",
    "\n",
    "\n",
    "# Convert A to a floating-point data type to perform devision properly\n",
    "A = A.astype(float)  \n",
    "m = A.shape[0]         # Number of raws\n",
    "n = A.shape[1]        # Number of columns\n",
    "\n",
    "\n",
    "# The following will find first non zero entry in first column also raw number of first non zero entry\n",
    "i = 0\n",
    "while A[i,0] ==0:\n",
    "    i += 1\n",
    "    \n",
    "p = A[i,0]   # Set first non-zero element \n",
    "for j in range(0,n):  \n",
    "    A[i,j] = A[i,j]/p"
   ]
  },
  {
   "cell_type": "code",
   "execution_count": 5,
   "id": "4a785b98",
   "metadata": {
    "scrolled": true
   },
   "outputs": [
    {
     "data": {
      "text/plain": [
       "array([[ 1.        ,  2.33333333],\n",
       "       [ 5.        , 23.        ]])"
      ]
     },
     "execution_count": 5,
     "metadata": {},
     "output_type": "execute_result"
    }
   ],
   "source": [
    "A"
   ]
  },
  {
   "cell_type": "code",
   "execution_count": null,
   "id": "c50447a5",
   "metadata": {},
   "outputs": [],
   "source": []
  },
  {
   "cell_type": "code",
   "execution_count": 6,
   "id": "56d43005",
   "metadata": {},
   "outputs": [],
   "source": [
    "# In above normalised the raw with first non zero entry\n",
    "# Now we will be making  all entries below the non zero entry as 0\n",
    "# We need only if the non zero entry is not the last raw\n",
    "\n",
    "if i != n-1:  # Do this only if the non zero raw is not last raw\n",
    "    i+= 1   # Moving to second raw\n",
    "    q = A[i,0] # Fixing non zero entry of the raw\n",
    "    for j in range(0,n):\n",
    "        A[i,j] = A[i,j] - (q*A[i-1,j])\n",
    "    "
   ]
  },
  {
   "cell_type": "code",
   "execution_count": 7,
   "id": "0f8b82f6",
   "metadata": {},
   "outputs": [
    {
     "data": {
      "text/plain": [
       "array([[ 1.        ,  2.33333333],\n",
       "       [ 0.        , 11.33333333]])"
      ]
     },
     "execution_count": 7,
     "metadata": {},
     "output_type": "execute_result"
    }
   ],
   "source": [
    "A"
   ]
  },
  {
   "cell_type": "code",
   "execution_count": null,
   "id": "e2182293",
   "metadata": {},
   "outputs": [],
   "source": []
  },
  {
   "cell_type": "code",
   "execution_count": 8,
   "id": "5c53ec4d",
   "metadata": {},
   "outputs": [],
   "source": [
    "A = np.array([\n",
    "  [3,  7],\n",
    "  [5, 23]\n",
    "])\n",
    "\n",
    "\n",
    "# Convert A to a floating-point data type to perform devision properly\n",
    "A = A.astype(float)  \n",
    "m = A.shape[0]         # Number of raws\n",
    "n = A.shape[1]        # Number of columns\n",
    "\n",
    "\n",
    "# The following will find first non zero entry in first column also raw number of first non zero entry\n",
    "i = 0\n",
    "while A[i,0] ==0:\n",
    "    i += 1\n",
    "    \n",
    "p = A[i,0]   # Set first non-zero element \n",
    "for j in range(0,n):  \n",
    "    A[i,j] = A[i,j]/p\n",
    "    \n",
    "    \n",
    "if i != n-1:  # Do this only if the non zero raw is not last raw\n",
    "    i+= 1   # Moving to second raw\n",
    "    q = A[i,0] # Fixing non zero entry of the raw\n",
    "    for j in range(0,n):\n",
    "        A[i,j] = A[i,j] - (q*A[i-1,j])"
   ]
  },
  {
   "cell_type": "code",
   "execution_count": 9,
   "id": "07684182",
   "metadata": {},
   "outputs": [
    {
     "data": {
      "text/plain": [
       "array([[ 1.        ,  2.33333333],\n",
       "       [ 0.        , 11.33333333]])"
      ]
     },
     "execution_count": 9,
     "metadata": {},
     "output_type": "execute_result"
    }
   ],
   "source": [
    "A"
   ]
  },
  {
   "cell_type": "code",
   "execution_count": 10,
   "id": "c3bfb26b",
   "metadata": {},
   "outputs": [],
   "source": [
    "A = np.array([\n",
    "  [0,  7],\n",
    "  [5, 23]\n",
    "])\n",
    "\n",
    "def raw_reduced(A):\n",
    "\n",
    "    # Convert A to a floating-point data type to perform devision properly\n",
    "    A = A.astype(float)  \n",
    "    m = A.shape[0]         # Number of raws\n",
    "    n = A.shape[1]        # Number of columns\n",
    "\n",
    "\n",
    "    # The following will find first non zero entry in first column also raw number of first non zero entry\n",
    "    i = 0\n",
    "    while A[i,0] ==0:\n",
    "        i += 1\n",
    "    \n",
    "    p = A[i,0]   # Set first non-zero element \n",
    "    for j in range(0,n):  \n",
    "        A[i,j] = A[i,j]/p\n",
    "    \n",
    "    \n",
    "    if i != n-1:  # Do this only if the non zero raw is not last raw\n",
    "        i+= 1   # Moving to second raw\n",
    "        q = A[i,0] # Fixing non zero entry of the raw\n",
    "        for j in range(0,n):\n",
    "            A[i,j] = A[i,j] - (q*A[i-1,j])\n",
    "            \n",
    "    "
   ]
  },
  {
   "cell_type": "code",
   "execution_count": 11,
   "id": "52293eb5",
   "metadata": {},
   "outputs": [],
   "source": [
    "raw_reduced(A)"
   ]
  },
  {
   "cell_type": "code",
   "execution_count": 12,
   "id": "b08a524c",
   "metadata": {},
   "outputs": [],
   "source": [
    "def raw_reduced(A):\n",
    "\n",
    "    # Convert A to a floating-point data type to perform devision properly\n",
    "    A = A.astype(float)  \n",
    "    m = A.shape[0]         # Number of raws\n",
    "    n = A.shape[1]        # Number of columns\n",
    "\n",
    "\n",
    "    # The following will find first non zero entry in first column also raw number of first non zero entry\n",
    "    i = 0\n",
    "    while A[i,0] ==0:\n",
    "        i += 1\n",
    "    \n",
    "    p = A[i,0]               # Set first non-zero element in the raw\n",
    "    for j in range(0,n):  \n",
    "        A[i,j] = A[i,j]/p    # Divide each element in the raw with first non zero element\n",
    "    \n",
    "    \n",
    "    if i != m-1:            # Do this only if the non zero raw is not last raw\n",
    "        i+=1               # Moving to next raw\n",
    "        q = A[i,0] # Fixing non zero entry of the raw\n",
    "        for j in range(0,n):\n",
    "            A[i,j] = A[i,j] - (q*A[i-1,j])\n",
    "            \n",
    "    return A"
   ]
  },
  {
   "cell_type": "code",
   "execution_count": 13,
   "id": "481a7848",
   "metadata": {},
   "outputs": [
    {
     "data": {
      "text/plain": [
       "array([[  1.,   7.],\n",
       "       [  0., -12.]])"
      ]
     },
     "execution_count": 13,
     "metadata": {},
     "output_type": "execute_result"
    }
   ],
   "source": [
    "A = np.array([\n",
    "  [1,  7],\n",
    "  [5, 23]\n",
    "])\n",
    "\n",
    "\n",
    "raw_reduced(A)"
   ]
  },
  {
   "cell_type": "code",
   "execution_count": 14,
   "id": "980f4fda",
   "metadata": {},
   "outputs": [
    {
     "name": "stdout",
     "output_type": "stream",
     "text": [
      "[[ 0  1]\n",
      " [23 31]]\n"
     ]
    },
    {
     "data": {
      "text/plain": [
       "array([[0.        , 1.        ],\n",
       "       [1.        , 1.34782609]])"
      ]
     },
     "execution_count": 14,
     "metadata": {},
     "output_type": "execute_result"
    }
   ],
   "source": [
    "A = np.array([[0,1],[23,31]])\n",
    "\n",
    "print(A)\n",
    "raw_reduced(A)"
   ]
  },
  {
   "cell_type": "markdown",
   "id": "a5a1976e",
   "metadata": {},
   "source": [
    "--------\n",
    "----------"
   ]
  },
  {
   "cell_type": "code",
   "execution_count": 15,
   "id": "67e7e6f2",
   "metadata": {},
   "outputs": [
    {
     "name": "stdout",
     "output_type": "stream",
     "text": [
      "[[ 1  2  3]\n",
      " [ 3  4  5]\n",
      " [10  9  8]]\n"
     ]
    },
    {
     "data": {
      "text/plain": [
       "array([[ 1.,  2.,  3.],\n",
       "       [ 0., -2., -4.],\n",
       "       [10.,  9.,  8.]])"
      ]
     },
     "execution_count": 15,
     "metadata": {},
     "output_type": "execute_result"
    }
   ],
   "source": [
    "A= np.array([[1,2,3],[3,4,5],[10,9,8]])\n",
    "\n",
    "print(A)\n",
    "raw_reduced(A)"
   ]
  },
  {
   "cell_type": "code",
   "execution_count": 16,
   "id": "445994f4",
   "metadata": {},
   "outputs": [
    {
     "name": "stdout",
     "output_type": "stream",
     "text": [
      "[[ 0  2  3]\n",
      " [ 3  4  5]\n",
      " [10  9  8]]\n"
     ]
    },
    {
     "data": {
      "text/plain": [
       "array([[ 0.        ,  2.        ,  3.        ],\n",
       "       [ 1.        ,  1.33333333,  1.66666667],\n",
       "       [ 0.        , -4.33333333, -8.66666667]])"
      ]
     },
     "execution_count": 16,
     "metadata": {},
     "output_type": "execute_result"
    }
   ],
   "source": [
    "A= np.array([[0,2,3],[3,4,5],[10,9,8]])\n",
    "\n",
    "print(A)\n",
    "raw_reduced(A)"
   ]
  },
  {
   "cell_type": "code",
   "execution_count": 17,
   "id": "516d7f34",
   "metadata": {},
   "outputs": [
    {
     "data": {
      "text/plain": [
       "2"
      ]
     },
     "execution_count": 17,
     "metadata": {},
     "output_type": "execute_result"
    }
   ],
   "source": [
    "A= np.array([[0,2,3],[3,4,5]])\n",
    "A.shape[0]"
   ]
  },
  {
   "cell_type": "markdown",
   "id": "026ce689",
   "metadata": {},
   "source": [
    "## A proper code"
   ]
  },
  {
   "cell_type": "code",
   "execution_count": 18,
   "id": "411439ec",
   "metadata": {},
   "outputs": [],
   "source": [
    "def raw_reduced(A):\n",
    "\n",
    "    # Convert A to a floating-point data type to perform devision properly\n",
    "    A = A.astype(float)  \n",
    "    m = A.shape[0]         # Number of raws\n",
    "    n = A.shape[1]        # Number of columns\n",
    "\n",
    "\n",
    "    # The following will find first non zero entry in first column also raw number of first non zero entry\n",
    "    i = 0\n",
    "    while A[i,0] ==0:\n",
    "        i += 1\n",
    "    \n",
    "    p = A[i,0]               # Set first non-zero element in the raw\n",
    "    for j in range(0,n):  \n",
    "        A[i,j] = A[i,j]/p    # Divide each element in the raw with first non zero element\n",
    "    \n",
    "    \n",
    "    if i != m-1:            # Do this only if the non zero raw is not last raw\n",
    "        for k in range(i+1,m):               # Moving to next raw\n",
    "            q = A[k,0] # Fixing non zero entry of the raw\n",
    "            for j in range(0,n):\n",
    "                A[k,j] = A[k,j] - (q*A[i,j])\n",
    "                \n",
    "            \n",
    "    return A"
   ]
  },
  {
   "cell_type": "code",
   "execution_count": 19,
   "id": "6f3bd9f5",
   "metadata": {},
   "outputs": [
    {
     "name": "stdout",
     "output_type": "stream",
     "text": [
      "1\n",
      "2\n"
     ]
    }
   ],
   "source": [
    "i = 0\n",
    "for k in range(i+1,3):\n",
    "    print(k)"
   ]
  },
  {
   "cell_type": "code",
   "execution_count": 20,
   "id": "ac13dc22",
   "metadata": {},
   "outputs": [
    {
     "name": "stdout",
     "output_type": "stream",
     "text": [
      "[[ 1  7]\n",
      " [ 5 23]]\n"
     ]
    },
    {
     "data": {
      "text/plain": [
       "array([[  1.,   7.],\n",
       "       [  0., -12.]])"
      ]
     },
     "execution_count": 20,
     "metadata": {},
     "output_type": "execute_result"
    }
   ],
   "source": [
    "A = np.array([\n",
    "  [1,  7],\n",
    "  [5, 23]\n",
    "])\n",
    "\n",
    "print(A)\n",
    "raw_reduced(A)"
   ]
  },
  {
   "cell_type": "code",
   "execution_count": 21,
   "id": "84610c83",
   "metadata": {},
   "outputs": [
    {
     "name": "stdout",
     "output_type": "stream",
     "text": [
      "[[ 0  7]\n",
      " [ 5 23]]\n"
     ]
    },
    {
     "data": {
      "text/plain": [
       "array([[0. , 7. ],\n",
       "       [1. , 4.6]])"
      ]
     },
     "execution_count": 21,
     "metadata": {},
     "output_type": "execute_result"
    }
   ],
   "source": [
    "A = np.array([\n",
    "  [0,  7],\n",
    "  [5, 23]\n",
    "])\n",
    "\n",
    "print(A)\n",
    "raw_reduced(A)"
   ]
  },
  {
   "cell_type": "code",
   "execution_count": 22,
   "id": "83e98f08",
   "metadata": {},
   "outputs": [
    {
     "name": "stdout",
     "output_type": "stream",
     "text": [
      "[[ 1  2  3]\n",
      " [ 3  4  5]\n",
      " [10  9  8]]\n"
     ]
    },
    {
     "data": {
      "text/plain": [
       "array([[  1.,   2.,   3.],\n",
       "       [  0.,  -2.,  -4.],\n",
       "       [  0., -11., -22.]])"
      ]
     },
     "execution_count": 22,
     "metadata": {},
     "output_type": "execute_result"
    }
   ],
   "source": [
    "A= np.array([[1,2,3],[3,4,5],[10,9,8]])\n",
    "\n",
    "print(A)\n",
    "raw_reduced(A)"
   ]
  },
  {
   "cell_type": "code",
   "execution_count": 23,
   "id": "544203df",
   "metadata": {},
   "outputs": [
    {
     "name": "stdout",
     "output_type": "stream",
     "text": [
      "[[ 0  2  3]\n",
      " [ 3  4  5]\n",
      " [10  9  8]]\n"
     ]
    },
    {
     "data": {
      "text/plain": [
       "array([[ 0.        ,  2.        ,  3.        ],\n",
       "       [ 1.        ,  1.33333333,  1.66666667],\n",
       "       [ 0.        , -4.33333333, -8.66666667]])"
      ]
     },
     "execution_count": 23,
     "metadata": {},
     "output_type": "execute_result"
    }
   ],
   "source": [
    "A= np.array([[0,2,3],[3,4,5],[10,9,8]])\n",
    "\n",
    "print(A)\n",
    "raw_reduced(A)"
   ]
  },
  {
   "cell_type": "code",
   "execution_count": 24,
   "id": "633f416e",
   "metadata": {},
   "outputs": [
    {
     "name": "stdout",
     "output_type": "stream",
     "text": [
      "[[0 2 3]\n",
      " [3 4 5]]\n"
     ]
    },
    {
     "data": {
      "text/plain": [
       "array([[0.        , 2.        , 3.        ],\n",
       "       [1.        , 1.33333333, 1.66666667]])"
      ]
     },
     "execution_count": 24,
     "metadata": {},
     "output_type": "execute_result"
    }
   ],
   "source": [
    "A= np.array([[0,2,3],[3,4,5]])\n",
    "\n",
    "print(A)\n",
    "raw_reduced(A)"
   ]
  },
  {
   "cell_type": "code",
   "execution_count": 25,
   "id": "f258afa4",
   "metadata": {},
   "outputs": [
    {
     "name": "stdout",
     "output_type": "stream",
     "text": [
      "[[ 0  2  3  6]\n",
      " [ 3  5  4  5]\n",
      " [21 10  9  8]]\n"
     ]
    },
    {
     "data": {
      "text/plain": [
       "array([[  0.        ,   2.        ,   3.        ,   6.        ],\n",
       "       [  1.        ,   1.66666667,   1.33333333,   1.66666667],\n",
       "       [  0.        , -25.        , -19.        , -27.        ]])"
      ]
     },
     "execution_count": 25,
     "metadata": {},
     "output_type": "execute_result"
    }
   ],
   "source": [
    "A= np.array([[0,2,3,6],[3,5,4,5],[21,10,9,8]])\n",
    "\n",
    "print(A)\n",
    "raw_reduced(A)"
   ]
  },
  {
   "cell_type": "code",
   "execution_count": null,
   "id": "8e501d7a",
   "metadata": {},
   "outputs": [],
   "source": []
  },
  {
   "cell_type": "code",
   "execution_count": 26,
   "id": "510bda8f",
   "metadata": {},
   "outputs": [
    {
     "name": "stdout",
     "output_type": "stream",
     "text": [
      "[[ 0  2  3  6  5]\n",
      " [ 3  5  4  5  8]\n",
      " [21 10  9  8 24]]\n"
     ]
    },
    {
     "data": {
      "text/plain": [
       "array([[  0.        ,   2.        ,   3.        ,   6.        ,\n",
       "          5.        ],\n",
       "       [  1.        ,   1.66666667,   1.33333333,   1.66666667,\n",
       "          2.66666667],\n",
       "       [  0.        , -25.        , -19.        , -27.        ,\n",
       "        -32.        ]])"
      ]
     },
     "execution_count": 26,
     "metadata": {},
     "output_type": "execute_result"
    }
   ],
   "source": [
    "A= np.array([[0,2,3,6,5],[3,5,4,5,8],[21,10,9,8,24]])\n",
    "\n",
    "print(A)\n",
    "raw_reduced(A)"
   ]
  },
  {
   "cell_type": "code",
   "execution_count": 27,
   "id": "7980fe14",
   "metadata": {},
   "outputs": [
    {
     "name": "stdout",
     "output_type": "stream",
     "text": [
      "[[ 0  2  3  6  5]\n",
      " [ 0  5  4  5  8]\n",
      " [ 0 10  9  8 24]]\n"
     ]
    },
    {
     "ename": "IndexError",
     "evalue": "index 3 is out of bounds for axis 0 with size 3",
     "output_type": "error",
     "traceback": [
      "\u001b[1;31m---------------------------------------------------------------------------\u001b[0m",
      "\u001b[1;31mIndexError\u001b[0m                                Traceback (most recent call last)",
      "\u001b[1;32m~\\AppData\\Local\\Temp\\ipykernel_21312\\3108210801.py\u001b[0m in \u001b[0;36m<module>\u001b[1;34m\u001b[0m\n\u001b[0;32m      2\u001b[0m \u001b[1;33m\u001b[0m\u001b[0m\n\u001b[0;32m      3\u001b[0m \u001b[0mprint\u001b[0m\u001b[1;33m(\u001b[0m\u001b[0mA\u001b[0m\u001b[1;33m)\u001b[0m\u001b[1;33m\u001b[0m\u001b[1;33m\u001b[0m\u001b[0m\n\u001b[1;32m----> 4\u001b[1;33m \u001b[0mraw_reduced\u001b[0m\u001b[1;33m(\u001b[0m\u001b[0mA\u001b[0m\u001b[1;33m)\u001b[0m\u001b[1;33m\u001b[0m\u001b[1;33m\u001b[0m\u001b[0m\n\u001b[0m",
      "\u001b[1;32m~\\AppData\\Local\\Temp\\ipykernel_21312\\1992503545.py\u001b[0m in \u001b[0;36mraw_reduced\u001b[1;34m(A)\u001b[0m\n\u001b[0;32m      9\u001b[0m     \u001b[1;31m# The following will find first non zero entry in first column also raw number of first non zero entry\u001b[0m\u001b[1;33m\u001b[0m\u001b[1;33m\u001b[0m\u001b[1;33m\u001b[0m\u001b[0m\n\u001b[0;32m     10\u001b[0m     \u001b[0mi\u001b[0m \u001b[1;33m=\u001b[0m \u001b[1;36m0\u001b[0m\u001b[1;33m\u001b[0m\u001b[1;33m\u001b[0m\u001b[0m\n\u001b[1;32m---> 11\u001b[1;33m     \u001b[1;32mwhile\u001b[0m \u001b[0mA\u001b[0m\u001b[1;33m[\u001b[0m\u001b[0mi\u001b[0m\u001b[1;33m,\u001b[0m\u001b[1;36m0\u001b[0m\u001b[1;33m]\u001b[0m \u001b[1;33m==\u001b[0m\u001b[1;36m0\u001b[0m\u001b[1;33m:\u001b[0m\u001b[1;33m\u001b[0m\u001b[1;33m\u001b[0m\u001b[0m\n\u001b[0m\u001b[0;32m     12\u001b[0m         \u001b[0mi\u001b[0m \u001b[1;33m+=\u001b[0m \u001b[1;36m1\u001b[0m\u001b[1;33m\u001b[0m\u001b[1;33m\u001b[0m\u001b[0m\n\u001b[0;32m     13\u001b[0m \u001b[1;33m\u001b[0m\u001b[0m\n",
      "\u001b[1;31mIndexError\u001b[0m: index 3 is out of bounds for axis 0 with size 3"
     ]
    }
   ],
   "source": [
    "A= np.array([[0,2,3,6,5],[0,5,4,5,8],[0,10,9,8,24]])\n",
    "\n",
    "print(A)\n",
    "raw_reduced(A)"
   ]
  },
  {
   "cell_type": "code",
   "execution_count": 28,
   "id": "b812b788",
   "metadata": {},
   "outputs": [
    {
     "name": "stdout",
     "output_type": "stream",
     "text": [
      "[[0 2]\n",
      " [0 5]]\n"
     ]
    },
    {
     "ename": "IndexError",
     "evalue": "index 2 is out of bounds for axis 0 with size 2",
     "output_type": "error",
     "traceback": [
      "\u001b[1;31m---------------------------------------------------------------------------\u001b[0m",
      "\u001b[1;31mIndexError\u001b[0m                                Traceback (most recent call last)",
      "\u001b[1;32m~\\AppData\\Local\\Temp\\ipykernel_21312\\3985337547.py\u001b[0m in \u001b[0;36m<module>\u001b[1;34m\u001b[0m\n\u001b[0;32m      2\u001b[0m \u001b[1;33m\u001b[0m\u001b[0m\n\u001b[0;32m      3\u001b[0m \u001b[0mprint\u001b[0m\u001b[1;33m(\u001b[0m\u001b[0mA\u001b[0m\u001b[1;33m)\u001b[0m\u001b[1;33m\u001b[0m\u001b[1;33m\u001b[0m\u001b[0m\n\u001b[1;32m----> 4\u001b[1;33m \u001b[0mraw_reduced\u001b[0m\u001b[1;33m(\u001b[0m\u001b[0mA\u001b[0m\u001b[1;33m)\u001b[0m\u001b[1;33m\u001b[0m\u001b[1;33m\u001b[0m\u001b[0m\n\u001b[0m",
      "\u001b[1;32m~\\AppData\\Local\\Temp\\ipykernel_21312\\1992503545.py\u001b[0m in \u001b[0;36mraw_reduced\u001b[1;34m(A)\u001b[0m\n\u001b[0;32m      9\u001b[0m     \u001b[1;31m# The following will find first non zero entry in first column also raw number of first non zero entry\u001b[0m\u001b[1;33m\u001b[0m\u001b[1;33m\u001b[0m\u001b[1;33m\u001b[0m\u001b[0m\n\u001b[0;32m     10\u001b[0m     \u001b[0mi\u001b[0m \u001b[1;33m=\u001b[0m \u001b[1;36m0\u001b[0m\u001b[1;33m\u001b[0m\u001b[1;33m\u001b[0m\u001b[0m\n\u001b[1;32m---> 11\u001b[1;33m     \u001b[1;32mwhile\u001b[0m \u001b[0mA\u001b[0m\u001b[1;33m[\u001b[0m\u001b[0mi\u001b[0m\u001b[1;33m,\u001b[0m\u001b[1;36m0\u001b[0m\u001b[1;33m]\u001b[0m \u001b[1;33m==\u001b[0m\u001b[1;36m0\u001b[0m\u001b[1;33m:\u001b[0m\u001b[1;33m\u001b[0m\u001b[1;33m\u001b[0m\u001b[0m\n\u001b[0m\u001b[0;32m     12\u001b[0m         \u001b[0mi\u001b[0m \u001b[1;33m+=\u001b[0m \u001b[1;36m1\u001b[0m\u001b[1;33m\u001b[0m\u001b[1;33m\u001b[0m\u001b[0m\n\u001b[0;32m     13\u001b[0m \u001b[1;33m\u001b[0m\u001b[0m\n",
      "\u001b[1;31mIndexError\u001b[0m: index 2 is out of bounds for axis 0 with size 2"
     ]
    }
   ],
   "source": [
    "A= np.array([[0,2],[0,5]])\n",
    "\n",
    "print(A)\n",
    "raw_reduced(A)"
   ]
  },
  {
   "cell_type": "markdown",
   "id": "f2d886ba",
   "metadata": {},
   "source": [
    "- This errors means we can use above defined function if and only if some element in the first raw is non zero. \n",
    "- We need to fix it\n",
    "- We will be calling this function only if some entry is non zero"
   ]
  },
  {
   "cell_type": "code",
   "execution_count": 29,
   "id": "91bf00fe",
   "metadata": {},
   "outputs": [],
   "source": [
    "# Now we need to solve when all elements in the column is 0 \n",
    "# If all the elemnts in the first column is 0 we move to column 2\n",
    "\n",
    "\n",
    "\n",
    "def function_2(A):\n",
    "    i = 0\n",
    "\n",
    "    if any(A[j,0] != 0 for j in range(0,3)):  # Let us try with 3 raws\n",
    "        return raw_reduced(A)\n",
    "    else:\n",
    "        print(\"Yes\")"
   ]
  },
  {
   "cell_type": "code",
   "execution_count": 30,
   "id": "1848a504",
   "metadata": {},
   "outputs": [],
   "source": [
    "def function_2(A):\n",
    "    # Check if any element in the first column of the first three rows is non-zero\n",
    "    if any(A[j,0] != 0 for j in range(3)):\n",
    "        B = raw_reduced(A)  # Call the raw_reduced function and assign the result to B\n",
    "        return B  # Call the interchange_rows function with B\n",
    "                  # Return the modified array C\n",
    "        \n",
    "    else:\n",
    "        print(\"Yes\")  # If the condition is not met, print \"Yes\"\n"
   ]
  },
  {
   "cell_type": "code",
   "execution_count": 31,
   "id": "339583c2",
   "metadata": {},
   "outputs": [
    {
     "name": "stdout",
     "output_type": "stream",
     "text": [
      "[[5 2]\n",
      " [3 5]]\n"
     ]
    },
    {
     "data": {
      "text/plain": [
       "array([[1. , 0.4],\n",
       "       [0. , 3.8]])"
      ]
     },
     "execution_count": 31,
     "metadata": {},
     "output_type": "execute_result"
    }
   ],
   "source": [
    "A= np.array([[5,2],[3,5]])\n",
    "print(A)\n",
    "\n",
    "function_2(A)"
   ]
  },
  {
   "cell_type": "code",
   "execution_count": 32,
   "id": "7ee9beb5",
   "metadata": {},
   "outputs": [
    {
     "name": "stdout",
     "output_type": "stream",
     "text": [
      "[[0 2]\n",
      " [3 5]]\n"
     ]
    },
    {
     "data": {
      "text/plain": [
       "array([[0.        , 2.        ],\n",
       "       [1.        , 1.66666667]])"
      ]
     },
     "execution_count": 32,
     "metadata": {},
     "output_type": "execute_result"
    }
   ],
   "source": [
    "A= np.array([[0,2],[3,5]])\n",
    "print(A)\n",
    "\n",
    "function_2(A)"
   ]
  },
  {
   "cell_type": "code",
   "execution_count": 33,
   "id": "449e8314",
   "metadata": {},
   "outputs": [
    {
     "ename": "NameError",
     "evalue": "name 'interchange_raws' is not defined",
     "output_type": "error",
     "traceback": [
      "\u001b[1;31m---------------------------------------------------------------------------\u001b[0m",
      "\u001b[1;31mNameError\u001b[0m                                 Traceback (most recent call last)",
      "\u001b[1;32m~\\AppData\\Local\\Temp\\ipykernel_21312\\3094703081.py\u001b[0m in \u001b[0;36m<module>\u001b[1;34m\u001b[0m\n\u001b[0;32m      2\u001b[0m \u001b[1;33m\u001b[0m\u001b[0m\n\u001b[0;32m      3\u001b[0m \u001b[0mB\u001b[0m \u001b[1;33m=\u001b[0m \u001b[0mraw_reduced\u001b[0m\u001b[1;33m(\u001b[0m\u001b[0mA\u001b[0m\u001b[1;33m)\u001b[0m\u001b[1;33m\u001b[0m\u001b[1;33m\u001b[0m\u001b[0m\n\u001b[1;32m----> 4\u001b[1;33m \u001b[0mC\u001b[0m \u001b[1;33m=\u001b[0m \u001b[0minterchange_raws\u001b[0m\u001b[1;33m(\u001b[0m\u001b[0mB\u001b[0m\u001b[1;33m)\u001b[0m\u001b[1;33m\u001b[0m\u001b[1;33m\u001b[0m\u001b[0m\n\u001b[0m\u001b[0;32m      5\u001b[0m \u001b[1;33m\u001b[0m\u001b[0m\n\u001b[0;32m      6\u001b[0m \u001b[0mprint\u001b[0m\u001b[1;33m(\u001b[0m\u001b[0mA\u001b[0m\u001b[1;33m)\u001b[0m\u001b[1;33m\u001b[0m\u001b[1;33m\u001b[0m\u001b[0m\n",
      "\u001b[1;31mNameError\u001b[0m: name 'interchange_raws' is not defined"
     ]
    }
   ],
   "source": [
    "A = np.array([[0,2],[4,5]])\n",
    "\n",
    "B = raw_reduced(A)\n",
    "C = interchange_raws(B)\n",
    "\n",
    "print(A)\n",
    "print(B)\n",
    "print(C)"
   ]
  },
  {
   "cell_type": "code",
   "execution_count": 34,
   "id": "6d9e578f",
   "metadata": {
    "scrolled": true
   },
   "outputs": [
    {
     "ename": "NameError",
     "evalue": "name 'interchange_raws' is not defined",
     "output_type": "error",
     "traceback": [
      "\u001b[1;31m---------------------------------------------------------------------------\u001b[0m",
      "\u001b[1;31mNameError\u001b[0m                                 Traceback (most recent call last)",
      "\u001b[1;32m~\\AppData\\Local\\Temp\\ipykernel_21312\\2104740456.py\u001b[0m in \u001b[0;36m<module>\u001b[1;34m\u001b[0m\n\u001b[1;32m----> 1\u001b[1;33m \u001b[0minterchange_raws\u001b[0m\u001b[1;33m(\u001b[0m\u001b[0mB\u001b[0m\u001b[1;33m)\u001b[0m\u001b[1;33m\u001b[0m\u001b[1;33m\u001b[0m\u001b[0m\n\u001b[0m",
      "\u001b[1;31mNameError\u001b[0m: name 'interchange_raws' is not defined"
     ]
    }
   ],
   "source": [
    "interchange_raws(B)"
   ]
  },
  {
   "cell_type": "code",
   "execution_count": 35,
   "id": "c4cf558f",
   "metadata": {},
   "outputs": [
    {
     "name": "stdout",
     "output_type": "stream",
     "text": [
      "[[ 0  2  3  6  5]\n",
      " [ 0  5  4  5  8]\n",
      " [ 0 10  9  8 24]]\n",
      "Yes\n"
     ]
    }
   ],
   "source": [
    "A= np.array([[0,2,3,6,5],[0,5,4,5,8],[0,10,9,8,24]])\n",
    "\n",
    "print(A)\n",
    "function_2(A)"
   ]
  },
  {
   "cell_type": "code",
   "execution_count": 36,
   "id": "4265a4b3",
   "metadata": {},
   "outputs": [
    {
     "name": "stdout",
     "output_type": "stream",
     "text": [
      "[[12  2  3  6  5]\n",
      " [25  5  4  5  8]\n",
      " [ 2 10  9  8 24]]\n"
     ]
    },
    {
     "data": {
      "text/plain": [
       "array([[ 1.        ,  0.16666667,  0.25      ,  0.5       ,  0.41666667],\n",
       "       [ 0.        ,  0.83333333, -2.25      , -7.5       , -2.41666667],\n",
       "       [ 0.        ,  9.66666667,  8.5       ,  7.        , 23.16666667]])"
      ]
     },
     "execution_count": 36,
     "metadata": {},
     "output_type": "execute_result"
    }
   ],
   "source": [
    "A= np.array([[12,2,3,6,5],[25,5,4,5,8],[2,10,9,8,24]])\n",
    "\n",
    "print(A)\n",
    "function_2(A)"
   ]
  },
  {
   "cell_type": "code",
   "execution_count": 37,
   "id": "3dbd0833",
   "metadata": {},
   "outputs": [
    {
     "name": "stdout",
     "output_type": "stream",
     "text": [
      "[[ 0  2  3  6  5]\n",
      " [25  5  4  5  8]\n",
      " [ 2 10  9  8 24]]\n"
     ]
    },
    {
     "data": {
      "text/plain": [
       "array([[ 0.  ,  2.  ,  3.  ,  6.  ,  5.  ],\n",
       "       [ 1.  ,  0.2 ,  0.16,  0.2 ,  0.32],\n",
       "       [ 0.  ,  9.6 ,  8.68,  7.6 , 23.36]])"
      ]
     },
     "execution_count": 37,
     "metadata": {},
     "output_type": "execute_result"
    }
   ],
   "source": [
    "A= np.array([[0,2,3,6,5],[25,5,4,5,8],[2,10,9,8,24]])\n",
    "\n",
    "print(A)\n",
    "function_2(A)"
   ]
  },
  {
   "cell_type": "markdown",
   "id": "631ee7a2",
   "metadata": {},
   "source": [
    "------\n",
    "-------"
   ]
  },
  {
   "cell_type": "markdown",
   "id": "e945effa",
   "metadata": {},
   "source": [
    "To interchange raw"
   ]
  },
  {
   "cell_type": "code",
   "execution_count": 38,
   "id": "f23028a4",
   "metadata": {},
   "outputs": [],
   "source": [
    "def interchange_raws(A):\n",
    "    i = 0             # Jus to show we are working with first column\n",
    "    if A[0,0] != 1:    # Interchange only if the first element is not one \n",
    "        for k in range(2):    # Find index of raw with element 1\n",
    "            if A[k, 0] != 0:\n",
    "                A[[0, k]] = A[[k, 0]]\n",
    "                break \n",
    "                \n",
    "    else:\n",
    "        return A"
   ]
  },
  {
   "cell_type": "markdown",
   "id": "aeee2f70",
   "metadata": {},
   "source": [
    "Function to rearrage raws such that raw with first 0 in the column interchange with raw with column value 1"
   ]
  },
  {
   "cell_type": "code",
   "execution_count": 39,
   "id": "bfacc9bb",
   "metadata": {},
   "outputs": [],
   "source": [
    "A= np.array([[0,2],[0,4],[1,4]])\n",
    "interchange_raws(A)"
   ]
  },
  {
   "cell_type": "code",
   "execution_count": 40,
   "id": "46fd2a01",
   "metadata": {},
   "outputs": [
    {
     "data": {
      "text/plain": [
       "array([[0, 2],\n",
       "       [0, 4],\n",
       "       [1, 4]])"
      ]
     },
     "execution_count": 40,
     "metadata": {},
     "output_type": "execute_result"
    }
   ],
   "source": [
    "A"
   ]
  },
  {
   "cell_type": "code",
   "execution_count": 41,
   "id": "c5b82554",
   "metadata": {},
   "outputs": [
    {
     "data": {
      "text/plain": [
       "2"
      ]
     },
     "execution_count": 41,
     "metadata": {},
     "output_type": "execute_result"
    }
   ],
   "source": [
    "k"
   ]
  },
  {
   "cell_type": "code",
   "execution_count": 42,
   "id": "ad79e452",
   "metadata": {},
   "outputs": [
    {
     "name": "stdout",
     "output_type": "stream",
     "text": [
      "[4 5 6]\n",
      "[1 2 3]\n"
     ]
    }
   ],
   "source": [
    " # Swap raws\n",
    "\n",
    "\n",
    "\n",
    "import numpy as np\n",
    "\n",
    "A = np.array([1, 2, 3])\n",
    "B = np.array([4, 5, 6])\n",
    "\n",
    "# Create a temporary variable to store the value of A\n",
    "temp = A\n",
    "\n",
    "# Assign the value of B to A\n",
    "A = B\n",
    "\n",
    "# Assign the value of temp to B\n",
    "B = temp\n",
    "\n",
    "print(A) \n",
    "print(B) "
   ]
  },
  {
   "cell_type": "code",
   "execution_count": 43,
   "id": "f517f7be",
   "metadata": {},
   "outputs": [
    {
     "name": "stdout",
     "output_type": "stream",
     "text": [
      "1\n"
     ]
    }
   ],
   "source": [
    "import numpy as np\n",
    "\n",
    "def find_index_of_first_non_zero_element(array):\n",
    "  \"\"\"Finds the index of the first non-zero element in the first column of a 3 by 3 NumPy array.\n",
    "\n",
    "  Args:\n",
    "    array: A 3 by 3 NumPy array.\n",
    "\n",
    "  Returns:\n",
    "    The index of the first non-zero element in the first column of the array, or None if there are no non-zero elements in the first column.\n",
    "  \"\"\"\n",
    "\n",
    "  for i in range(array.shape[0]):\n",
    "    if array[i, 0] != 0:\n",
    "      return i\n",
    "\n",
    "  return None\n",
    "\n",
    "# Example usage:\n",
    "\n",
    "array = np.array([[0, 1, 2], [3, 4, 5], [6, 7, 8]])\n",
    "index = find_index_of_first_non_zero_element(array)\n",
    "print(index)"
   ]
  },
  {
   "cell_type": "code",
   "execution_count": 44,
   "id": "d510251b",
   "metadata": {},
   "outputs": [],
   "source": [
    "A = np.array([[0, 1, 2], [0, 4, 5], [6, 7, 8]])\n",
    "\n",
    "for k in range(3):\n",
    "    if A[k, 0] != 0:\n",
    "        break"
   ]
  },
  {
   "cell_type": "code",
   "execution_count": 45,
   "id": "04a98658",
   "metadata": {},
   "outputs": [
    {
     "data": {
      "text/plain": [
       "2"
      ]
     },
     "execution_count": 45,
     "metadata": {},
     "output_type": "execute_result"
    }
   ],
   "source": [
    "k"
   ]
  },
  {
   "cell_type": "markdown",
   "id": "528c200e",
   "metadata": {},
   "source": [
    "-----\n",
    "------"
   ]
  },
  {
   "cell_type": "code",
   "execution_count": 46,
   "id": "894d6039",
   "metadata": {},
   "outputs": [],
   "source": [
    "#### To Generalise the function raw_reduced"
   ]
  },
  {
   "cell_type": "code",
   "execution_count": 47,
   "id": "52e19492",
   "metadata": {},
   "outputs": [],
   "source": [
    "def raw_reduced_new(A):\n",
    "    # Convert A to a floating-point data type to perform devision properly\n",
    "    A = A.astype(float)  \n",
    "    m = A.shape[0]         # Number of raws\n",
    "    n = A.shape[1]        # Number of columns\n",
    "    \n",
    "    #for i in range(n):\n",
    "    for i in range(0,1):\n",
    "        r = None\n",
    "        while A[i,i] == 0:\n",
    "            i+= 1\n",
    "            r = i\n",
    "            \n",
    "        p = A[r,i]\n",
    "        \n",
    "        for j in range(0,n):\n",
    "            A[r,j] = A[r,j]/p\n",
    "            \n",
    "        return A  "
   ]
  },
  {
   "cell_type": "code",
   "execution_count": 48,
   "id": "d8f9760e",
   "metadata": {},
   "outputs": [
    {
     "data": {
      "text/plain": [
       "array([[ 0.        ,  5.        ,  7.        ],\n",
       "       [31.        ,  0.        , 23.        ],\n",
       "       [ 0.        ,  0.30769231,  1.        ]])"
      ]
     },
     "execution_count": 48,
     "metadata": {},
     "output_type": "execute_result"
    }
   ],
   "source": [
    "A = np.array([\n",
    "  [0,5,  7],\n",
    "  [31,0, 23],\n",
    "  [0,4,13]\n",
    "])\n",
    "\n",
    "raw_reduced_new(A)"
   ]
  },
  {
   "cell_type": "code",
   "execution_count": 51,
   "id": "bc799a4f",
   "metadata": {},
   "outputs": [],
   "source": [
    "# Normalise the raws\n",
    "def raw_reduced(A):\n",
    "\n",
    "    # Convert A to a floating-point data type to perform devision properly\n",
    "    A = A.astype(float)  \n",
    "    m = A.shape[0]         # Number of raws\n",
    "    n = A.shape[1]        # Number of columns\n",
    "\n",
    "\n",
    "    # The following will find first non zero entry in first column also raw number of first non zero entry\n",
    "    i = 0\n",
    "    while A[i,0] ==0:\n",
    "        i += 1\n",
    "    \n",
    "    p = A[i,0]               # Set first non-zero element in the raw\n",
    "    for j in range(0,n):  \n",
    "        A[i,j] = A[i,j]/p    # Divide each element in the raw with first non zero element\n",
    "    \n",
    "    \n",
    "    if i != m-1:            # Do this only if the non zero raw is not last raw\n",
    "        for k in range(i+1,m):               # Moving to next raw\n",
    "            q = A[k,0] # Fixing non zero entry of the raw\n",
    "            for j in range(0,n):\n",
    "                A[k,j] = A[k,j] - (q*A[i,j])\n",
    "            \n",
    "    return A"
   ]
  },
  {
   "cell_type": "code",
   "execution_count": 52,
   "id": "3e3c26a4",
   "metadata": {},
   "outputs": [
    {
     "data": {
      "text/plain": [
       "array([[ 0. ,  5. ,  7. ],\n",
       "       [31. ,  0. , 23. ],\n",
       "       [ 1. ,  0.8,  2.6]])"
      ]
     },
     "execution_count": 52,
     "metadata": {},
     "output_type": "execute_result"
    }
   ],
   "source": [
    "A = np.array([\n",
    "  [0,5,  7],\n",
    "  [31,0, 23],\n",
    "  [5,4,13]\n",
    "])\n",
    "\n",
    "raw_reduced(A)"
   ]
  },
  {
   "cell_type": "markdown",
   "id": "124a1b02",
   "metadata": {},
   "source": [
    "#### Below code works for column 1"
   ]
  },
  {
   "cell_type": "code",
   "execution_count": 143,
   "id": "d59f3acb",
   "metadata": {},
   "outputs": [],
   "source": [
    "\n",
    "# Normalise the raws\n",
    "def raw_reduced(A):\n",
    "\n",
    "    # Convert A to a floating-point data type to perform devision properly\n",
    "    A = A.astype(float)  \n",
    "    m = A.shape[0]         # Number of raws\n",
    "    n = A.shape[1]        # Number of columns\n",
    "\n",
    "\n",
    "    # The following will find first non zero entry in first column also raw number of first non zero entry\n",
    "    i = 1\n",
    "    while A[i,1] ==0:\n",
    "        i += 1\n",
    "    \n",
    "    p = A[i,1]               # Set first non-zero element in the raw\n",
    "    for j in range(i-1,n):  \n",
    "        A[i,j] = A[i,j]/p    # Divide each element in the raw with first non zero element\n",
    "    \n",
    "    \n",
    "    if i != m-1:            # Do this only if the non zero raw is not last raw\n",
    "        for k in range(i+1,m):               # Moving to next raw\n",
    "            q = A[k,0] # Fixing non zero entry of the raw\n",
    "            for j in range(0,n):\n",
    "                A[k,j] = A[k,j] - (q*A[i,j])\n",
    "            \n",
    "    return A"
   ]
  },
  {
   "cell_type": "code",
   "execution_count": 144,
   "id": "ff42c8d5",
   "metadata": {},
   "outputs": [
    {
     "data": {
      "text/plain": [
       "array([[  0. ,   5. ,   7. ],\n",
       "       [  6.2,   1. ,   4.6],\n",
       "       [-26. ,  -1. , -10. ]])"
      ]
     },
     "execution_count": 144,
     "metadata": {},
     "output_type": "execute_result"
    }
   ],
   "source": [
    "A = np.array([\n",
    "  [0,5,  7],\n",
    "  [31,5, 23],\n",
    "  [5,4,13]\n",
    "])\n",
    "\n",
    "raw_reduced(A)"
   ]
  },
  {
   "cell_type": "markdown",
   "id": "a163edbf",
   "metadata": {},
   "source": [
    "---------"
   ]
  },
  {
   "cell_type": "markdown",
   "id": "a5e3fb91",
   "metadata": {},
   "source": [
    "-------"
   ]
  },
  {
   "cell_type": "code",
   "execution_count": 139,
   "id": "abe474a8",
   "metadata": {},
   "outputs": [],
   "source": [
    "# Normalise the raws\n",
    "def raw_reduced(A):\n",
    "\n",
    "    # Convert A to a floating-point data type to perform devision properly\n",
    "    A = A.astype(float)  \n",
    "    m = A.shape[0]         # Number of raws\n",
    "    n = A.shape[1]        # Number of columns\n",
    "\n",
    "\n",
    "    # The following will find first non zero entry in first column also raw number of first non zero entry\n",
    "    i = 1 # Use for loop here\n",
    "    c = i # fixing the column number\n",
    "    while A[i,c] ==0:\n",
    "        i += 1\n",
    "    \n",
    "    p = A[i,c]               # Set first non-zero element in the raw\n",
    "    for j in range(i-1,n):  \n",
    "        A[i,j] = A[i,j]/p    # Divide each element in the raw with first non zero element\n",
    "    \n",
    "    \n",
    "    if i != m-1:            # Do this only if the non zero raw is not last raw\n",
    "        for k in range(i+1,m):               # Moving to next raw\n",
    "            q = A[k,0] # Fixing non zero entry of the raw\n",
    "            for j in range(0,n):\n",
    "                A[k,j] = A[k,j] - (q*A[i,j])\n",
    "            \n",
    "    return A"
   ]
  },
  {
   "cell_type": "code",
   "execution_count": 140,
   "id": "3aa48caa",
   "metadata": {},
   "outputs": [
    {
     "data": {
      "text/plain": [
       "array([[ 0. ,  5. ,  7. ],\n",
       "       [ 2. ,  1. ,  1.5],\n",
       "       [-5. , -1. , -2.5]])"
      ]
     },
     "execution_count": 140,
     "metadata": {},
     "output_type": "execute_result"
    }
   ],
   "source": [
    "A = np.array([\n",
    "  [0,5,  7],\n",
    "  [8,4, 6],\n",
    "  [5,4,5]\n",
    "])\n",
    "\n",
    "raw_reduced(A)"
   ]
  },
  {
   "cell_type": "code",
   "execution_count": 133,
   "id": "6cc67498",
   "metadata": {},
   "outputs": [],
   "source": [
    "# Normalise the raws\n",
    "def raw_reduced(A):\n",
    "\n",
    "    # Convert A to a floating-point data type to perform devision properly\n",
    "    A = A.astype(float)  \n",
    "    m = A.shape[0]         # Number of raws\n",
    "    n = A.shape[1]        # Number of columns\n",
    "\n",
    "\n",
    "    # The following will find first non zero entry in first column also raw number of first non zero entry\n",
    "    for i in range(0,n): # Use for loop here\n",
    "        c = i # fixing the column number\n",
    "        while A[i,c] ==0: # search index for first non zero entry of the column\n",
    "                i += 1\n",
    "    \n",
    "        p = A[i,c]               # Set first non-zero element in the raw\n",
    "        for j in range(i-1,n):  \n",
    "                A[i,j] = A[i,j]/p    # Divide each element in the raw with first non zero element\n",
    "    \n",
    "    \n",
    "        if i != m-1:            # Do this only if the non zero raw is not last raw\n",
    "            for k in range(i+1,m):               # Moving to next raw\n",
    "                q = A[k,0] # Fixing non zero entry of the raw\n",
    "                for j in range(0,n):\n",
    "                    A[k,j] = A[k,j] - (q*A[i,j])\n",
    "            \n",
    "        return A"
   ]
  },
  {
   "cell_type": "code",
   "execution_count": 138,
   "id": "f0df3499",
   "metadata": {},
   "outputs": [
    {
     "data": {
      "text/plain": [
       "array([[ 0.        ,  0.71428571,  1.        ],\n",
       "       [ 1.        , -0.03571429,  0.        ],\n",
       "       [ 0.        ,  0.60714286,  0.        ]])"
      ]
     },
     "execution_count": 138,
     "metadata": {},
     "output_type": "execute_result"
    }
   ],
   "source": [
    "A = np.array([\n",
    "  [0,5,  7],\n",
    "  [8,4, 6],\n",
    "  [5,4,5]\n",
    "])\n",
    "\n",
    "raw_reduced(A)"
   ]
  },
  {
   "cell_type": "code",
   "execution_count": 132,
   "id": "5f67c215",
   "metadata": {},
   "outputs": [
    {
     "data": {
      "text/plain": [
       "4"
      ]
     },
     "execution_count": 132,
     "metadata": {},
     "output_type": "execute_result"
    }
   ],
   "source": [
    "A[2,1]"
   ]
  },
  {
   "cell_type": "code",
   "execution_count": 135,
   "id": "82040100",
   "metadata": {},
   "outputs": [],
   "source": [
    "# Chat Gpt code\n",
    "def raw_reduced(A):\n",
    "    # Convert A to a floating-point data type to perform division properly\n",
    "    A = A.astype(float)\n",
    "    m = A.shape[0]  # Number of rows\n",
    "    n = A.shape[1]  # Number of columns\n",
    "\n",
    "    # Iterate over columns\n",
    "    for i in range(n):\n",
    "        c = i  # fixing the column number\n",
    "        j = 0  # Initialize j here\n",
    "        while j < m and A[j, c] == 0:  # Search index for first non-zero entry of the column\n",
    "            j += 1\n",
    "\n",
    "        if j == m:  # If the column is all zeros, move to the next column\n",
    "            continue\n",
    "\n",
    "        p = A[j, c]  # Set first non-zero element in the row\n",
    "        for k in range(n):\n",
    "            A[j, k] = A[j, k] / p  # Divide each element in the row with first non-zero element\n",
    "\n",
    "        # Zero out the elements below the pivot\n",
    "        for k in range(j + 1, m):\n",
    "            q = A[k, c]  # Fixing non-zero entry of the row\n",
    "            for l in range(n):\n",
    "                A[k, l] = A[k, l] - (q * A[j, l])\n",
    "\n",
    "                \n",
    "    \n",
    "    return A\n"
   ]
  },
  {
   "cell_type": "code",
   "execution_count": 136,
   "id": "b283b241",
   "metadata": {},
   "outputs": [
    {
     "data": {
      "text/plain": [
       "array([[ 0.        ,  0.71428571,  1.        ],\n",
       "       [ 1.        , -0.52995392,  0.        ],\n",
       "       [ 0.        , -2.6359447 ,  0.        ]])"
      ]
     },
     "execution_count": 136,
     "metadata": {},
     "output_type": "execute_result"
    }
   ],
   "source": [
    "A = np.array([\n",
    "  [0,5,  7],\n",
    "  [31,0, 23],\n",
    "  [5,4,13]\n",
    "])\n",
    "\n",
    "raw_reduced(A)"
   ]
  },
  {
   "cell_type": "markdown",
   "id": "10484f8f",
   "metadata": {},
   "source": [
    "---\n",
    "----"
   ]
  },
  {
   "cell_type": "markdown",
   "id": "3ed6dc26",
   "metadata": {},
   "source": [
    "### Try to generalise the raw reduced function with iteration over the raws"
   ]
  },
  {
   "cell_type": "code",
   "execution_count": 5,
   "id": "b6392a64",
   "metadata": {},
   "outputs": [],
   "source": [
    "def normalised(A):\n",
    "    A = A.astype(float)\n",
    "    m = A.shape[0]  # Number of rows\n",
    "    n = A.shape[1]  # Number of columns\n",
    "    \n",
    "    # We iterate through each column \n",
    "    \n",
    "    # Raw reduced form upto second last column\n",
    "    for i in range(0,n-1):\n",
    "        c = i              # Fixing column number\n",
    "        j = i              # Initialise raw number\n",
    "        while  j< m and A[j,c] ==0:\n",
    "            j += 1\n",
    "        p = A[j,c]         # Fixing the non zer entry\n",
    "        \n",
    "        # Divide corresponding raw with non zer entry p \n",
    "        for k in range(c,n): # Avoiding raws before that columns\n",
    "            A[j,k] = A[j,k]/p\n",
    "        \n",
    "        # Make Changes to raws below the \n",
    "        if j != m-1:\n",
    "            for k in range(j+1,m):\n",
    "                q = A[k,c] # Fixing first non zero entry in the raw\n",
    "                for r in range(c,n):\n",
    "                    A[k,r] = A[k,r] - (q*A[j,r])\n",
    "                    \n",
    "         # Now interchange the raws\n",
    "        if A[i,i] != 1:         #Interchange only if the first element is not one\n",
    "            for k in range(i,m):\n",
    "                if A[k,i] !=0:\n",
    "                    A[[i,k]] = A[[k,i]]\n",
    "                    break\n",
    "    \n",
    "    \n",
    "    # Raw reduced form for the last column\n",
    "    # The following will find first non zero entry in first column also raw number of first non zero entry\n",
    "    i = n-1 \n",
    "    if A[i,i] == 0:\n",
    "        None\n",
    "        \n",
    "    else:\n",
    "        A[i,i] = A[i,i]/A[i,i]\n",
    "    \n",
    "    return A"
   ]
  },
  {
   "cell_type": "code",
   "execution_count": 6,
   "id": "d892d578",
   "metadata": {
    "scrolled": true
   },
   "outputs": [
    {
     "name": "stdout",
     "output_type": "stream",
     "text": [
      "[[0 1 3]\n",
      " [0 0 6]\n",
      " [1 3 0]]\n",
      "[[1. 3. 0.]\n",
      " [0. 1. 3.]\n",
      " [0. 0. 1.]]\n"
     ]
    }
   ],
   "source": [
    "A = np.array([[0,1,3],[0,0,6],[1,3,0]])\n",
    "print(A)\n",
    "\n",
    "print(normalised(A))"
   ]
  },
  {
   "cell_type": "code",
   "execution_count": 7,
   "id": "75934e54",
   "metadata": {},
   "outputs": [
    {
     "name": "stdout",
     "output_type": "stream",
     "text": [
      "[[2 1 3]\n",
      " [0 0 6]\n",
      " [4 0 6]]\n",
      "[[ 1.   0.5  1.5]\n",
      " [ 0.   1.  -0. ]\n",
      " [ 0.   0.   1. ]]\n"
     ]
    }
   ],
   "source": [
    "A = np.array([[2,1,3],[0,0,6],[4,0,6]])\n",
    "print(A)\n",
    "\n",
    "print(normalised(A))"
   ]
  },
  {
   "cell_type": "code",
   "execution_count": 8,
   "id": "c3ad154d",
   "metadata": {},
   "outputs": [
    {
     "name": "stdout",
     "output_type": "stream",
     "text": [
      "[[2 1 3]\n",
      " [0 6 6]\n",
      " [0 6 6]]\n",
      "[[1.  0.5 1.5]\n",
      " [0.  1.  1. ]\n",
      " [0.  0.  0. ]]\n"
     ]
    }
   ],
   "source": [
    "A = np.array([[2,1,3],[0,6,6],[0,6,6]])\n",
    "print(A)\n",
    "\n",
    "print(normalised(A))"
   ]
  },
  {
   "cell_type": "code",
   "execution_count": 9,
   "id": "7a594898",
   "metadata": {},
   "outputs": [
    {
     "name": "stdout",
     "output_type": "stream",
     "text": [
      "[[2 1]\n",
      " [0 6]\n",
      " [0 6]]\n",
      "[[1.  0.5]\n",
      " [0.  1. ]\n",
      " [0.  6. ]]\n"
     ]
    }
   ],
   "source": [
    "A = np.array([[2,1],[0,6],[0,6]])\n",
    "print(A)\n",
    "\n",
    "print(normalised(A))"
   ]
  },
  {
   "cell_type": "code",
   "execution_count": 10,
   "id": "ec9ab887",
   "metadata": {},
   "outputs": [
    {
     "name": "stdout",
     "output_type": "stream",
     "text": [
      "[[2 1 3 5]\n",
      " [0 6 6 2]\n",
      " [0 6 6 6]]\n"
     ]
    },
    {
     "ename": "IndexError",
     "evalue": "index 3 is out of bounds for axis 0 with size 3",
     "output_type": "error",
     "traceback": [
      "\u001b[1;31m---------------------------------------------------------------------------\u001b[0m",
      "\u001b[1;31mIndexError\u001b[0m                                Traceback (most recent call last)",
      "\u001b[1;32m~\\AppData\\Local\\Temp\\ipykernel_14248\\3966493132.py\u001b[0m in \u001b[0;36m<module>\u001b[1;34m\u001b[0m\n\u001b[0;32m      2\u001b[0m \u001b[0mprint\u001b[0m\u001b[1;33m(\u001b[0m\u001b[0mA\u001b[0m\u001b[1;33m)\u001b[0m\u001b[1;33m\u001b[0m\u001b[1;33m\u001b[0m\u001b[0m\n\u001b[0;32m      3\u001b[0m \u001b[1;33m\u001b[0m\u001b[0m\n\u001b[1;32m----> 4\u001b[1;33m \u001b[0mprint\u001b[0m\u001b[1;33m(\u001b[0m\u001b[0mnormalised\u001b[0m\u001b[1;33m(\u001b[0m\u001b[0mA\u001b[0m\u001b[1;33m)\u001b[0m\u001b[1;33m)\u001b[0m\u001b[1;33m\u001b[0m\u001b[1;33m\u001b[0m\u001b[0m\n\u001b[0m",
      "\u001b[1;32m~\\AppData\\Local\\Temp\\ipykernel_14248\\3827297810.py\u001b[0m in \u001b[0;36mnormalised\u001b[1;34m(A)\u001b[0m\n\u001b[0;32m     12\u001b[0m         \u001b[1;32mwhile\u001b[0m  \u001b[0mj\u001b[0m\u001b[1;33m<\u001b[0m \u001b[0mm\u001b[0m \u001b[1;32mand\u001b[0m \u001b[0mA\u001b[0m\u001b[1;33m[\u001b[0m\u001b[0mj\u001b[0m\u001b[1;33m,\u001b[0m\u001b[0mc\u001b[0m\u001b[1;33m]\u001b[0m \u001b[1;33m==\u001b[0m\u001b[1;36m0\u001b[0m\u001b[1;33m:\u001b[0m\u001b[1;33m\u001b[0m\u001b[1;33m\u001b[0m\u001b[0m\n\u001b[0;32m     13\u001b[0m             \u001b[0mj\u001b[0m \u001b[1;33m+=\u001b[0m \u001b[1;36m1\u001b[0m\u001b[1;33m\u001b[0m\u001b[1;33m\u001b[0m\u001b[0m\n\u001b[1;32m---> 14\u001b[1;33m         \u001b[0mp\u001b[0m \u001b[1;33m=\u001b[0m \u001b[0mA\u001b[0m\u001b[1;33m[\u001b[0m\u001b[0mj\u001b[0m\u001b[1;33m,\u001b[0m\u001b[0mc\u001b[0m\u001b[1;33m]\u001b[0m         \u001b[1;31m# Fixing the non zer entry\u001b[0m\u001b[1;33m\u001b[0m\u001b[1;33m\u001b[0m\u001b[0m\n\u001b[0m\u001b[0;32m     15\u001b[0m \u001b[1;33m\u001b[0m\u001b[0m\n\u001b[0;32m     16\u001b[0m         \u001b[1;31m# Divide corresponding raw with non zer entry p\u001b[0m\u001b[1;33m\u001b[0m\u001b[1;33m\u001b[0m\u001b[1;33m\u001b[0m\u001b[0m\n",
      "\u001b[1;31mIndexError\u001b[0m: index 3 is out of bounds for axis 0 with size 3"
     ]
    }
   ],
   "source": [
    "A = np.array([[2,1,3,5],[0,6,6,2],[0,6,6,6]])\n",
    "print(A)\n",
    "\n",
    "print(normalised(A))"
   ]
  },
  {
   "cell_type": "code",
   "execution_count": null,
   "id": "fb28cedd",
   "metadata": {},
   "outputs": [],
   "source": [
    "## SO above code work for any square matrix"
   ]
  },
  {
   "cell_type": "code",
   "execution_count": 11,
   "id": "d77c631a",
   "metadata": {},
   "outputs": [
    {
     "name": "stdout",
     "output_type": "stream",
     "text": [
      "[[2 1 3 5]\n",
      " [0 6 6 2]\n",
      " [0 6 6 6]\n",
      " [0 0 0 0]]\n"
     ]
    },
    {
     "ename": "IndexError",
     "evalue": "index 4 is out of bounds for axis 0 with size 4",
     "output_type": "error",
     "traceback": [
      "\u001b[1;31m---------------------------------------------------------------------------\u001b[0m",
      "\u001b[1;31mIndexError\u001b[0m                                Traceback (most recent call last)",
      "\u001b[1;32m~\\AppData\\Local\\Temp\\ipykernel_14248\\4220369821.py\u001b[0m in \u001b[0;36m<module>\u001b[1;34m\u001b[0m\n\u001b[0;32m      2\u001b[0m \u001b[0mprint\u001b[0m\u001b[1;33m(\u001b[0m\u001b[0mA\u001b[0m\u001b[1;33m)\u001b[0m\u001b[1;33m\u001b[0m\u001b[1;33m\u001b[0m\u001b[0m\n\u001b[0;32m      3\u001b[0m \u001b[1;33m\u001b[0m\u001b[0m\n\u001b[1;32m----> 4\u001b[1;33m \u001b[0mprint\u001b[0m\u001b[1;33m(\u001b[0m\u001b[0mnormalised\u001b[0m\u001b[1;33m(\u001b[0m\u001b[0mA\u001b[0m\u001b[1;33m)\u001b[0m\u001b[1;33m)\u001b[0m\u001b[1;33m\u001b[0m\u001b[1;33m\u001b[0m\u001b[0m\n\u001b[0m",
      "\u001b[1;32m~\\AppData\\Local\\Temp\\ipykernel_14248\\3827297810.py\u001b[0m in \u001b[0;36mnormalised\u001b[1;34m(A)\u001b[0m\n\u001b[0;32m     12\u001b[0m         \u001b[1;32mwhile\u001b[0m  \u001b[0mj\u001b[0m\u001b[1;33m<\u001b[0m \u001b[0mm\u001b[0m \u001b[1;32mand\u001b[0m \u001b[0mA\u001b[0m\u001b[1;33m[\u001b[0m\u001b[0mj\u001b[0m\u001b[1;33m,\u001b[0m\u001b[0mc\u001b[0m\u001b[1;33m]\u001b[0m \u001b[1;33m==\u001b[0m\u001b[1;36m0\u001b[0m\u001b[1;33m:\u001b[0m\u001b[1;33m\u001b[0m\u001b[1;33m\u001b[0m\u001b[0m\n\u001b[0;32m     13\u001b[0m             \u001b[0mj\u001b[0m \u001b[1;33m+=\u001b[0m \u001b[1;36m1\u001b[0m\u001b[1;33m\u001b[0m\u001b[1;33m\u001b[0m\u001b[0m\n\u001b[1;32m---> 14\u001b[1;33m         \u001b[0mp\u001b[0m \u001b[1;33m=\u001b[0m \u001b[0mA\u001b[0m\u001b[1;33m[\u001b[0m\u001b[0mj\u001b[0m\u001b[1;33m,\u001b[0m\u001b[0mc\u001b[0m\u001b[1;33m]\u001b[0m         \u001b[1;31m# Fixing the non zer entry\u001b[0m\u001b[1;33m\u001b[0m\u001b[1;33m\u001b[0m\u001b[0m\n\u001b[0m\u001b[0;32m     15\u001b[0m \u001b[1;33m\u001b[0m\u001b[0m\n\u001b[0;32m     16\u001b[0m         \u001b[1;31m# Divide corresponding raw with non zer entry p\u001b[0m\u001b[1;33m\u001b[0m\u001b[1;33m\u001b[0m\u001b[1;33m\u001b[0m\u001b[0m\n",
      "\u001b[1;31mIndexError\u001b[0m: index 4 is out of bounds for axis 0 with size 4"
     ]
    }
   ],
   "source": [
    "A = np.array([[2,1,3,5],[0,6,6,2],[0,6,6,6],[0,0,0,0]])\n",
    "print(A)\n",
    "\n",
    "print(normalised(A))"
   ]
  },
  {
   "cell_type": "code",
   "execution_count": 1,
   "id": "3aa20042",
   "metadata": {},
   "outputs": [],
   "source": [
    "def normalised(A):\n",
    "    A = A.astype(float)\n",
    "    m = A.shape[0]  # Number of rows\n",
    "    n = A.shape[1]  # Number of columns\n",
    "    \n",
    "    # We iterate through each column \n",
    "    \n",
    "    # Raw reduced form upto second last column\n",
    "    for i in range(0,n):\n",
    "        c = i              # Fixing column number\n",
    "        j = i              # Initialise raw number\n",
    "        while  j< m and A[j,c] ==0:\n",
    "            j += 1\n",
    "#            if j == m:\n",
    "#                break\n",
    "                \n",
    "        if j ==m:\n",
    "            continue\n",
    "        p = A[j,c]         # Fixing the non zer entry\n",
    "        \n",
    "        # Divide corresponding raw with non zer entry p \n",
    "        for k in range(c,n): # Avoiding raws before that columns\n",
    "            A[j,k] = A[j,k]/p\n",
    "        \n",
    "        # Make Changes to raws below the \n",
    "        if j != m-1:\n",
    "            for k in range(j+1,m):\n",
    "                q = A[k,c] # Fixing first non zero entry in the raw\n",
    "                for r in range(c,n):\n",
    "                    A[k,r] = A[k,r] - (q*A[j,r])\n",
    "                    \n",
    "         # Now interchange the raws\n",
    "        if A[i,i] != 1:         #Interchange only if the first element is not one\n",
    "            for k in range(i,m):\n",
    "                if A[k,i] !=0:\n",
    "                    A[[i,k]] = A[[k,i]]\n",
    "                    break\n",
    "    \n",
    "    \n",
    "    # Raw reduced form for the last column\n",
    "    # The following will find first non zero entry in first column also raw number of first non zero entry\n",
    "#    for i in {n-1}:\n",
    "        \n",
    "#        if A[i,i] == 0:\n",
    "#            None\n",
    "        \n",
    "#        else:\n",
    "#            A[i,i] = A[i,i]/A[i,i]\n",
    "    \n",
    "    return A"
   ]
  },
  {
   "cell_type": "code",
   "execution_count": 2,
   "id": "bd79a7ac",
   "metadata": {},
   "outputs": [
    {
     "ename": "NameError",
     "evalue": "name 'np' is not defined",
     "output_type": "error",
     "traceback": [
      "\u001b[1;31m---------------------------------------------------------------------------\u001b[0m",
      "\u001b[1;31mNameError\u001b[0m                                 Traceback (most recent call last)",
      "\u001b[1;32m~\\AppData\\Local\\Temp\\ipykernel_11296\\1031889512.py\u001b[0m in \u001b[0;36m<module>\u001b[1;34m\u001b[0m\n\u001b[1;32m----> 1\u001b[1;33m \u001b[0mA\u001b[0m \u001b[1;33m=\u001b[0m \u001b[0mnp\u001b[0m\u001b[1;33m.\u001b[0m\u001b[0marray\u001b[0m\u001b[1;33m(\u001b[0m\u001b[1;33m[\u001b[0m\u001b[1;33m[\u001b[0m\u001b[1;36m2\u001b[0m\u001b[1;33m,\u001b[0m\u001b[1;36m1\u001b[0m\u001b[1;33m,\u001b[0m\u001b[1;36m3\u001b[0m\u001b[1;33m]\u001b[0m\u001b[1;33m,\u001b[0m\u001b[1;33m[\u001b[0m\u001b[1;36m0\u001b[0m\u001b[1;33m,\u001b[0m\u001b[1;36m6\u001b[0m\u001b[1;33m,\u001b[0m\u001b[1;36m6\u001b[0m\u001b[1;33m]\u001b[0m\u001b[1;33m,\u001b[0m\u001b[1;33m[\u001b[0m\u001b[1;36m0\u001b[0m\u001b[1;33m,\u001b[0m\u001b[1;36m6\u001b[0m\u001b[1;33m,\u001b[0m\u001b[1;36m6\u001b[0m\u001b[1;33m]\u001b[0m\u001b[1;33m]\u001b[0m\u001b[1;33m)\u001b[0m\u001b[1;33m\u001b[0m\u001b[1;33m\u001b[0m\u001b[0m\n\u001b[0m\u001b[0;32m      2\u001b[0m \u001b[0mprint\u001b[0m\u001b[1;33m(\u001b[0m\u001b[0mA\u001b[0m\u001b[1;33m)\u001b[0m\u001b[1;33m\u001b[0m\u001b[1;33m\u001b[0m\u001b[0m\n\u001b[0;32m      3\u001b[0m \u001b[1;33m\u001b[0m\u001b[0m\n\u001b[0;32m      4\u001b[0m \u001b[0mprint\u001b[0m\u001b[1;33m(\u001b[0m\u001b[0mnormalised\u001b[0m\u001b[1;33m(\u001b[0m\u001b[0mA\u001b[0m\u001b[1;33m)\u001b[0m\u001b[1;33m)\u001b[0m\u001b[1;33m\u001b[0m\u001b[1;33m\u001b[0m\u001b[0m\n",
      "\u001b[1;31mNameError\u001b[0m: name 'np' is not defined"
     ]
    }
   ],
   "source": [
    "A = np.array([[2,1,3],[0,6,6],[0,6,6]])\n",
    "print(A)\n",
    "\n",
    "print(normalised(A))"
   ]
  },
  {
   "cell_type": "code",
   "execution_count": 120,
   "id": "59555a6c",
   "metadata": {},
   "outputs": [
    {
     "name": "stdout",
     "output_type": "stream",
     "text": [
      "[[2 1 3 5]\n",
      " [0 0 6 2]\n",
      " [0 0 6 6]\n",
      " [0 0 6 6]]\n",
      "[[1.  0.5 1.5 2.5]\n",
      " [0.  0.  6.  2. ]\n",
      " [0.  0.  1.  1. ]\n",
      " [0.  0.  0.  0. ]]\n"
     ]
    }
   ],
   "source": [
    "A = np.array([[2,1,3,5],[0,0,6,2],[0,0,6,6],[0,0,6,6]])\n",
    "print(A)\n",
    "\n",
    "print(normalised(A))"
   ]
  },
  {
   "cell_type": "code",
   "execution_count": 124,
   "id": "9a9a14c4",
   "metadata": {
    "scrolled": true
   },
   "outputs": [
    {
     "name": "stdout",
     "output_type": "stream",
     "text": [
      "[[2 1 3 5]\n",
      " [0 6 6 2]\n",
      " [0 6 6 6]\n",
      " [0 6 6 6]]\n",
      "[[1.         0.5        1.5        2.5       ]\n",
      " [0.         1.         1.         0.33333333]\n",
      " [0.         0.         0.         4.        ]\n",
      " [0.         0.         0.         1.        ]]\n"
     ]
    }
   ],
   "source": [
    "A = np.array([[2,1,3,5],[0,6,6,2],[0,6,6,6],[0,6,6,6]])\n",
    "print(A)\n",
    "\n",
    "print(normalised(A))"
   ]
  },
  {
   "cell_type": "markdown",
   "id": "5f95a585",
   "metadata": {},
   "source": [
    "Now find first non zero entry of the raw and make sure all entries belowe the same are zero."
   ]
  },
  {
   "cell_type": "code",
   "execution_count": 125,
   "id": "aa66331a",
   "metadata": {},
   "outputs": [
    {
     "name": "stdout",
     "output_type": "stream",
     "text": [
      "[[0 6 6 6]\n",
      " [2 1 3 5]\n",
      " [0 6 6 2]\n",
      " [0 6 6 6]]\n",
      "[[ 1.   0.5  1.5  2.5]\n",
      " [ 0.   1.   1.   1. ]\n",
      " [ 0.   0.   0.  -4. ]\n",
      " [ 0.   0.   0.   0. ]]\n"
     ]
    }
   ],
   "source": [
    "A = np.array([[0,6,6,6],[2,1,3,5],[0,6,6,2],[0,6,6,6]])\n",
    "print(A)\n",
    "\n",
    "print(normalised(A))"
   ]
  },
  {
   "cell_type": "markdown",
   "id": "4d877532",
   "metadata": {},
   "source": [
    "the above shows an issue. This may happen again for other matrices and not only in last column.  "
   ]
  },
  {
   "cell_type": "markdown",
   "id": "6cb7b5db",
   "metadata": {},
   "source": [
    "This may bebecause we are starting iteration from A[i,i] which may not be the first non zero in that raw"
   ]
  },
  {
   "cell_type": "markdown",
   "id": "9aead907",
   "metadata": {},
   "source": [
    "Solution\n",
    "- Either add new code belowe which ensures all entries below first non zero entry are zero \n",
    "- Or add code just after rearrange that search first non zero entry\n",
    "- "
   ]
  },
  {
   "cell_type": "code",
   "execution_count": 114,
   "id": "b26a5a8d",
   "metadata": {},
   "outputs": [
    {
     "name": "stdout",
     "output_type": "stream",
     "text": [
      "[[2 1 3 5 8]\n",
      " [0 6 6 2 9]\n",
      " [0 6 6 6 6]\n",
      " [0 6 6 6 6]\n",
      " [0 6 6 6 6]]\n",
      "[[ 1.          0.5         1.5         2.5         4.        ]\n",
      " [ 0.          1.          1.          0.33333333  1.5       ]\n",
      " [ 0.          0.          0.          4.         -3.        ]\n",
      " [ 0.          0.          0.          1.         -0.75      ]\n",
      " [ 0.          0.          0.          0.          0.        ]]\n"
     ]
    }
   ],
   "source": [
    "# LEt us check mistake for 5 by 5 matrix with raw rank twp or three\n",
    "A = np.array([[2,1,3,5,8],[0,6,6,2,9],[0,6,6,6,6],[0,6,6,6,6],[0,6,6,6,6]])\n",
    "print(A)\n",
    "\n",
    "print(normalised(A))"
   ]
  },
  {
   "cell_type": "markdown",
   "id": "4931d1ee",
   "metadata": {},
   "source": [
    "- Clear mistake if we treated last step seperately"
   ]
  },
  {
   "cell_type": "markdown",
   "id": "835e3ca4",
   "metadata": {},
   "source": [
    "- Code works onlu upto i = 1 . May be break after that."
   ]
  },
  {
   "cell_type": "code",
   "execution_count": 115,
   "id": "c23c2775",
   "metadata": {},
   "outputs": [
    {
     "name": "stdout",
     "output_type": "stream",
     "text": [
      "[[2 1 3 5]\n",
      " [0 6 6 2]\n",
      " [0 6 6 6]\n",
      " [3 3 2 5]]\n",
      "[[1.         0.5        1.5        2.5       ]\n",
      " [0.         1.         1.         0.33333333]\n",
      " [0.         0.         1.         0.75      ]\n",
      " [0.         0.         0.         1.        ]]\n"
     ]
    }
   ],
   "source": [
    "A = np.array([[2,1,3,5],[0,6,6,2],[0,6,6,6],[3,3,2,5]])\n",
    "print(A)\n",
    "\n",
    "print(normalised(A))"
   ]
  },
  {
   "cell_type": "code",
   "execution_count": 116,
   "id": "9c4293b5",
   "metadata": {},
   "outputs": [
    {
     "name": "stdout",
     "output_type": "stream",
     "text": [
      "[[2 1 3 5]\n",
      " [0 6 6 2]\n",
      " [0 6 6 2]\n",
      " [0 6 6 2]]\n",
      "[[1.         0.5        1.5        2.5       ]\n",
      " [0.         1.         1.         0.33333333]\n",
      " [0.         0.         0.         0.        ]\n",
      " [0.         0.         0.         0.        ]]\n"
     ]
    }
   ],
   "source": [
    " A = np.array([[2,1,3,5],[0,6,6,2],[0,6,6,2],[0,6,6,2]])\n",
    "print(A)\n",
    "\n",
    "print(normalised(A))"
   ]
  },
  {
   "cell_type": "code",
   "execution_count": null,
   "id": "dda6356e",
   "metadata": {},
   "outputs": [],
   "source": []
  },
  {
   "cell_type": "code",
   "execution_count": null,
   "id": "d6f85889",
   "metadata": {},
   "outputs": [],
   "source": []
  },
  {
   "cell_type": "code",
   "execution_count": null,
   "id": "18131229",
   "metadata": {},
   "outputs": [],
   "source": []
  },
  {
   "cell_type": "code",
   "execution_count": 96,
   "id": "651a9053",
   "metadata": {},
   "outputs": [
    {
     "name": "stdout",
     "output_type": "stream",
     "text": [
      "[[2 1 3 5 7]\n",
      " [0 8 6 6 2]\n",
      " [1 0 6 6 6]\n",
      " [4 0 6 6 6]\n",
      " [4 0 6 6 6]]\n",
      "[[1.         0.5        1.5        2.5        3.5       ]\n",
      " [0.         1.         0.75       0.75       0.25      ]\n",
      " [0.         0.         1.         0.79487179 0.53846154]\n",
      " [0.         0.         0.         1.         2.25      ]\n",
      " [0.         0.         0.         0.         0.        ]]\n"
     ]
    }
   ],
   "source": [
    "A = np.array([[2,1,3,5,7],[0,8,6,6,2],[1,0,6,6,6],[4,0,6,6,6],[4,0,6,6,6]])\n",
    "print(A)\n",
    "\n",
    "print(normalised(A))"
   ]
  },
  {
   "cell_type": "code",
   "execution_count": 97,
   "id": "09e91b2c",
   "metadata": {},
   "outputs": [
    {
     "name": "stdout",
     "output_type": "stream",
     "text": [
      "[[2 1 3 5 7]\n",
      " [0 8 6 6 2]\n",
      " [1 0 6 6 6]\n",
      " [4 0 6 6 6]\n",
      " [4 0 6 6 6]]\n",
      "5\n"
     ]
    }
   ],
   "source": [
    "print(A)\n",
    "print(A.shape[0])"
   ]
  },
  {
   "cell_type": "code",
   "execution_count": 98,
   "id": "e13bdd07",
   "metadata": {},
   "outputs": [
    {
     "data": {
      "text/plain": [
       "5"
      ]
     },
     "execution_count": 98,
     "metadata": {},
     "output_type": "execute_result"
    }
   ],
   "source": [
    "A.shape[1]"
   ]
  },
  {
   "cell_type": "code",
   "execution_count": 99,
   "id": "d5e18d01",
   "metadata": {},
   "outputs": [
    {
     "name": "stdout",
     "output_type": "stream",
     "text": [
      "1\n"
     ]
    }
   ],
   "source": [
    "for i in {5-4}:\n",
    "    print(i)"
   ]
  },
  {
   "cell_type": "code",
   "execution_count": 100,
   "id": "a02d9bf8",
   "metadata": {},
   "outputs": [
    {
     "name": "stdout",
     "output_type": "stream",
     "text": [
      "[[2 1 3 5]\n",
      " [0 6 6 6]\n",
      " [0 6 6 6]\n",
      " [0 6 6 6]]\n",
      "[[1.  0.5 1.5 2.5]\n",
      " [0.  1.  1.  1. ]\n",
      " [0.  0.  0.  0. ]\n",
      " [0.  0.  0.  0. ]]\n"
     ]
    }
   ],
   "source": [
    "A = np.array([[2,1,3,5],[0,6,6,6],[0,6,6,6],[0,6,6,6]])\n",
    "print(A)\n",
    "\n",
    "print(normalised(A))"
   ]
  },
  {
   "cell_type": "code",
   "execution_count": 101,
   "id": "a19a6642",
   "metadata": {},
   "outputs": [
    {
     "name": "stdout",
     "output_type": "stream",
     "text": [
      "[[2 1 3 5]\n",
      " [0 6 6 6]\n",
      " [0 6 6 6]\n",
      " [0 6 6 8]]\n",
      "[[1.  0.5 1.5 2.5]\n",
      " [0.  1.  1.  1. ]\n",
      " [0.  0.  0.  0. ]\n",
      " [0.  0.  0.  2. ]]\n"
     ]
    }
   ],
   "source": [
    "A = np.array([[2,1,3,5],[0,6,6,6],[0,6,6,6],[0,6,6,8]])\n",
    "print(A)\n",
    "\n",
    "print(normalised(A))"
   ]
  },
  {
   "cell_type": "code",
   "execution_count": 102,
   "id": "e538e493",
   "metadata": {},
   "outputs": [
    {
     "name": "stdout",
     "output_type": "stream",
     "text": [
      "[[2 1 3 5]\n",
      " [0 6 6 6]\n",
      " [0 6 6 1]\n",
      " [0 6 6 6]]\n",
      "[[ 1.   0.5  1.5  2.5]\n",
      " [ 0.   1.   1.   1. ]\n",
      " [ 0.   0.   0.  -5. ]\n",
      " [ 0.   0.   0.   0. ]]\n"
     ]
    }
   ],
   "source": [
    "A = np.array([[2,1,3,5],[0,6,6,6],[0,6,6,1],[0,6,6,6]])\n",
    "print(A)\n",
    "\n",
    "print(normalised(A))"
   ]
  },
  {
   "cell_type": "code",
   "execution_count": 117,
   "id": "61a97c80",
   "metadata": {},
   "outputs": [
    {
     "name": "stdout",
     "output_type": "stream",
     "text": [
      "[[2 1 3 5]\n",
      " [0 6 6 2]\n",
      " [0 6 6 6]\n",
      " [0 0 0 0]]\n",
      "[[1.         0.5        1.5        2.5       ]\n",
      " [0.         1.         1.         0.33333333]\n",
      " [0.         0.         0.         4.        ]\n",
      " [0.         0.         0.         0.        ]]\n"
     ]
    }
   ],
   "source": [
    "A = np.array([[2,1,3,5],[0,6,6,2],[0,6,6,6],[0,0,0,0]])\n",
    "print(A)\n",
    "\n",
    "print(normalised(A))"
   ]
  },
  {
   "cell_type": "markdown",
   "id": "d21a63e8",
   "metadata": {},
   "source": [
    "------------------\n",
    "----------"
   ]
  },
  {
   "cell_type": "code",
   "execution_count": 4,
   "id": "9d2470ac",
   "metadata": {},
   "outputs": [],
   "source": [
    "def normalised(A):\n",
    "    A = A.astype(float)\n",
    "    m = A.shape[0]  # Number of rows\n",
    "    n = A.shape[1]  # Number of columns\n",
    "    \n",
    "    # We iterate through each column \n",
    "    \n",
    "    # Raw reduced form upto last column\n",
    "    for i in range(0,n):\n",
    "        c = i              # Fixing column number\n",
    "        j = i              # Initialise raw number\n",
    "        while  j< m and A[j,c] ==0:\n",
    "            j += 1\n",
    "\n",
    "                \n",
    "        if j ==m:\n",
    "            continue       # Move to next value of i if j becomes m. More than the number of raws\n",
    "       \n",
    "        \n",
    "        p = A[j,c]         # Fixing the non zer entry\n",
    "        \n",
    "        # Divide corresponding raw with non zer entry p \n",
    "        for k in range(c,n): # Avoiding raws before that columns\n",
    "            A[j,k] = A[j,k]/p\n",
    "        \n",
    "        # Make Changes to raws below the \n",
    "        if j != m-1:\n",
    "            for k in range(j+1,m):\n",
    "                q = A[k,c] # Fixing first non zero entry in the raw\n",
    "                for r in range(c,n):\n",
    "                    A[k,r] = A[k,r] - (q*A[j,r])\n",
    "                    \n",
    "         # Now interchange the raws\n",
    "        if A[i,i] != 1:         #Interchange only if the first element is not one\n",
    "            for k in range(i,m):\n",
    "                if A[k,i] !=0:\n",
    "                    A[[i,k]] = A[[k,i]]\n",
    "                    break\n",
    "    return A"
   ]
  },
  {
   "cell_type": "markdown",
   "id": "fbafb228",
   "metadata": {},
   "source": [
    "Now find first non zero entry of the raw and make sure all entries belowe the same are zero."
   ]
  },
  {
   "cell_type": "code",
   "execution_count": 5,
   "id": "95c0a93d",
   "metadata": {},
   "outputs": [
    {
     "name": "stdout",
     "output_type": "stream",
     "text": [
      "[[2 1 3 5]\n",
      " [0 6 6 2]\n",
      " [0 6 6 6]\n",
      " [0 6 6 6]]\n",
      "[[1.         0.5        1.5        2.5       ]\n",
      " [0.         1.         1.         0.33333333]\n",
      " [0.         0.         0.         4.        ]\n",
      " [0.         0.         0.         1.        ]]\n"
     ]
    }
   ],
   "source": [
    "A = np.array([[2,1,3,5],[0,6,6,2],[0,6,6,6],[0,6,6,6]])\n",
    "print(A)\n",
    "\n",
    "print(normalised(A))"
   ]
  },
  {
   "cell_type": "code",
   "execution_count": 6,
   "id": "ad5ce158",
   "metadata": {},
   "outputs": [
    {
     "name": "stdout",
     "output_type": "stream",
     "text": [
      "[[2 1 3 5 7]\n",
      " [0 8 6 6 2]\n",
      " [1 0 6 6 6]\n",
      " [4 0 6 6 6]\n",
      " [4 0 6 6 6]]\n",
      "[[1.         0.5        1.5        2.5        3.5       ]\n",
      " [0.         1.         0.75       0.75       0.25      ]\n",
      " [0.         0.         1.         0.79487179 0.53846154]\n",
      " [0.         0.         0.         1.         2.25      ]\n",
      " [0.         0.         0.         0.         0.        ]]\n"
     ]
    }
   ],
   "source": [
    "A = np.array([[2,1,3,5,7],[0,8,6,6,2],[1,0,6,6,6],[4,0,6,6,6],[4,0,6,6,6]])\n",
    "print(A)\n",
    "\n",
    "print(normalised(A))"
   ]
  },
  {
   "cell_type": "code",
   "execution_count": null,
   "id": "bda42656",
   "metadata": {},
   "outputs": [],
   "source": []
  },
  {
   "cell_type": "code",
   "execution_count": null,
   "id": "d976717a",
   "metadata": {
    "scrolled": true
   },
   "outputs": [],
   "source": []
  },
  {
   "cell_type": "code",
   "execution_count": null,
   "id": "41fccf62",
   "metadata": {},
   "outputs": [],
   "source": []
  },
  {
   "cell_type": "code",
   "execution_count": 9,
   "id": "1ad6fe31",
   "metadata": {},
   "outputs": [
    {
     "name": "stdout",
     "output_type": "stream",
     "text": [
      "1\n"
     ]
    }
   ],
   "source": [
    "import numpy as np\n",
    "\n",
    "# Create a matrix\n",
    "matrix = np.array([[0, 2, 3], [0, 0, 6], [7, 8, 9]])\n",
    "\n",
    "# Get the row index\n",
    "row_index = 0\n",
    "\n",
    "# Find the first non-zero entry of the row\n",
    "first_non_zero_entry = np.where(matrix[row_index] != 0)[0][0]\n",
    "\n",
    "# Print the first non-zero entry\n",
    "print(first_non_zero_entry)"
   ]
  },
  {
   "cell_type": "markdown",
   "id": "823e6143",
   "metadata": {},
   "source": [
    "--------\n",
    "-----------"
   ]
  },
  {
   "cell_type": "code",
   "execution_count": null,
   "id": "02782bb4",
   "metadata": {},
   "outputs": [],
   "source": []
  },
  {
   "cell_type": "code",
   "execution_count": null,
   "id": "69b8c156",
   "metadata": {},
   "outputs": [],
   "source": [
    "# Now we need to ensure all the entries below the first non zero entry of each column is 0 "
   ]
  },
  {
   "cell_type": "code",
   "execution_count": 48,
   "id": "6d89e077",
   "metadata": {},
   "outputs": [],
   "source": [
    "def replace_zero(A):\n",
    "    n_r = A.shape[0]    # No of raws\n",
    "    n_c = A.shape[1]    # No of columns\n",
    "    \n",
    "    for j in range(n_r):\n",
    "        \n",
    "        i = 0\n",
    "        while i < n_c and A[j,i] ==0:\n",
    "            i += 1\n",
    "            \n",
    "        if i == n_c:\n",
    "            continue\n",
    "         \n",
    "        A[j,i] = A[j,i]/A[j,i]     # Making non zero entry 1\n",
    "        \n",
    "        # To replace all values below the non zero entry as zero\n",
    "        \n",
    "        \n",
    "    return A"
   ]
  },
  {
   "cell_type": "code",
   "execution_count": 49,
   "id": "8da28c0a",
   "metadata": {},
   "outputs": [
    {
     "name": "stdout",
     "output_type": "stream",
     "text": [
      "[[1 2 3]\n",
      " [0 0 4]\n",
      " [0 0 5]]\n",
      "[[1 2 3]\n",
      " [0 0 1]\n",
      " [0 0 1]]\n"
     ]
    }
   ],
   "source": [
    "A = np.array([[1,2,3],[0,0,4],[0,0,5]])\n",
    "print(A)\n",
    "print(replace_zero(A))"
   ]
  },
  {
   "cell_type": "markdown",
   "id": "a8e2e4d3",
   "metadata": {},
   "source": [
    "# CODE"
   ]
  },
  {
   "cell_type": "code",
   "execution_count": 2,
   "id": "0fe019bd",
   "metadata": {},
   "outputs": [],
   "source": [
    "# Let us make changes in the function normalised\n",
    "\n",
    "def normalised(A):\n",
    "    A = A.astype(float)\n",
    "    m = A.shape[0]  # Number of rows\n",
    "    n = A.shape[1]  # Number of columns\n",
    "    \n",
    "    # We iterate through each column \n",
    "    \n",
    "    # Raw reduced form upto last column\n",
    "    for i in range(0,n):\n",
    "        c = i              # Fixing column number\n",
    "        j = i              # Initialise raw number\n",
    "        while  j< m and A[j,c] ==0:\n",
    "            j += 1\n",
    "\n",
    "                \n",
    "        if j ==m:\n",
    "            continue       # Move to next value of i if j becomes m. More than the number of raws\n",
    "       \n",
    "        \n",
    "        p = A[j,c]         # Fixing the non zer entry\n",
    "        \n",
    "        # Divide corresponding raw with non zer entry p \n",
    "        for k in range(c,n): # Avoiding raws before that columns\n",
    "            A[j,k] = A[j,k]/p\n",
    "        \n",
    "        # Make Changes to raws below the \n",
    "        if j != m-1:\n",
    "            for k in range(j+1,m):\n",
    "                q = A[k,c] # Fixing first non zero entry in the raw\n",
    "                for r in range(c,n):\n",
    "                    A[k,r] = A[k,r] - (q*A[j,r])\n",
    "                    \n",
    "         # Now interchange the raws\n",
    "        if A[i,i] != 1:         #Interchange only if the first element is not one\n",
    "            for k in range(i,m):\n",
    "                if A[k,i] !=0:\n",
    "                    A[[i,k]] = A[[k,i]]\n",
    "                    break\n",
    "    \n",
    "    \n",
    "    # To make first non zero entry 1 and below elements as 0\n",
    "    for j in range(m):\n",
    "        \n",
    "        i = 0\n",
    "        while i < n and A[j,i] ==0:   # Search for first non zero entry\n",
    "            i += 1\n",
    "            \n",
    "        if i == n:\n",
    "            continue\n",
    "         \n",
    "        A[j,i] = A[j,i]/A[j,i]     # Making non zero entry 1\n",
    "        \n",
    "        \n",
    "        # Set all entries below 1 as zero\n",
    "        for l in range(j+1,m):\n",
    "            A[l,i] = 0\n",
    "                    \n",
    "    return A"
   ]
  },
  {
   "cell_type": "code",
   "execution_count": 3,
   "id": "a4652a24",
   "metadata": {},
   "outputs": [
    {
     "name": "stdout",
     "output_type": "stream",
     "text": [
      "[[2 1 3 5]\n",
      " [0 6 6 2]\n",
      " [0 6 6 6]\n",
      " [0 6 6 6]]\n",
      "[[1.         0.5        1.5        2.5       ]\n",
      " [0.         1.         1.         0.33333333]\n",
      " [0.         0.         0.         1.        ]\n",
      " [0.         0.         0.         0.        ]]\n"
     ]
    }
   ],
   "source": [
    "A = np.array([[2,1,3,5],[0,6,6,2],[0,6,6,6],[0,6,6,6]])\n",
    "print(A)\n",
    "\n",
    "print(normalised(A))"
   ]
  },
  {
   "cell_type": "code",
   "execution_count": 4,
   "id": "e83fa7e1",
   "metadata": {},
   "outputs": [
    {
     "name": "stdout",
     "output_type": "stream",
     "text": [
      "[[2 1 3 5 9]\n",
      " [0 6 6 2 1]\n",
      " [0 6 6 6 1]\n",
      " [0 6 6 6 1]\n",
      " [0 6 6 6 1]]\n",
      "[[1.         0.5        1.5        2.5        4.5       ]\n",
      " [0.         1.         1.         0.33333333 0.16666667]\n",
      " [0.         0.         0.         1.         0.        ]\n",
      " [0.         0.         0.         0.         0.        ]\n",
      " [0.         0.         0.         0.         0.        ]]\n"
     ]
    }
   ],
   "source": [
    "A = np.array([[2,1,3,5,9],[0,6,6,2,1],[0,6,6,6,1],[0,6,6,6,1],[0,6,6,6,1]])\n",
    "print(A)\n",
    "\n",
    "print(normalised(A))"
   ]
  },
  {
   "cell_type": "code",
   "execution_count": 5,
   "id": "9dcec781",
   "metadata": {},
   "outputs": [
    {
     "name": "stdout",
     "output_type": "stream",
     "text": [
      "[[2 1 3 5 9]\n",
      " [0 6 6 2 1]\n",
      " [0 6 6 6 1]\n",
      " [0 6 6 6 1]]\n",
      "[[1.         0.5        1.5        2.5        4.5       ]\n",
      " [0.         1.         1.         0.33333333 0.16666667]\n",
      " [0.         0.         0.         1.         0.        ]\n",
      " [0.         0.         0.         0.         0.        ]]\n"
     ]
    }
   ],
   "source": [
    "A = np.array([[2,1,3,5,9],[0,6,6,2,1],[0,6,6,6,1],[0,6,6,6,1]])\n",
    "print(A)\n",
    "\n",
    "print(normalised(A))"
   ]
  },
  {
   "cell_type": "code",
   "execution_count": 6,
   "id": "cec7391f",
   "metadata": {},
   "outputs": [
    {
     "name": "stdout",
     "output_type": "stream",
     "text": [
      "[[2 1 3 5]\n",
      " [0 6 6 2]\n",
      " [0 6 6 6]\n",
      " [0 6 6 6]\n",
      " [0 6 6 6]]\n",
      "[[1.         0.5        1.5        2.5       ]\n",
      " [0.         1.         1.         0.33333333]\n",
      " [0.         0.         0.         1.        ]\n",
      " [0.         0.         0.         0.        ]\n",
      " [0.         0.         0.         0.        ]]\n"
     ]
    }
   ],
   "source": [
    "A = np.array([[2,1,3,5],[0,6,6,2],[0,6,6,6],[0,6,6,6],[0,6,6,6]])\n",
    "print(A)\n",
    "\n",
    "print(normalised(A))"
   ]
  },
  {
   "cell_type": "code",
   "execution_count": 7,
   "id": "facac49e",
   "metadata": {},
   "outputs": [
    {
     "name": "stdout",
     "output_type": "stream",
     "text": [
      "[[2 1 3 5]\n",
      " [0 6 6 2]\n",
      " [0 6 6 6]\n",
      " [0 0 0 0]]\n",
      "[[1.         0.5        1.5        2.5       ]\n",
      " [0.         1.         1.         0.33333333]\n",
      " [0.         0.         0.         1.        ]\n",
      " [0.         0.         0.         0.        ]]\n"
     ]
    }
   ],
   "source": [
    "A = np.array([[2,1,3,5],[0,6,6,2],[0,6,6,6],[0,0,0,0]])\n",
    "print(A)\n",
    "\n",
    "print(normalised(A))"
   ]
  },
  {
   "cell_type": "code",
   "execution_count": 8,
   "id": "8d188d48",
   "metadata": {},
   "outputs": [
    {
     "name": "stdout",
     "output_type": "stream",
     "text": [
      "[[2 1]\n",
      " [0 6]\n",
      " [6 6]\n",
      " [0 0]]\n",
      "[[1.  0.5]\n",
      " [0.  1. ]\n",
      " [0.  0. ]\n",
      " [0.  0. ]]\n"
     ]
    }
   ],
   "source": [
    "A = np.array([[2,1],[0,6],[6,6],[0,0]])\n",
    "print(A)\n",
    "\n",
    "print(normalised(A))"
   ]
  },
  {
   "cell_type": "code",
   "execution_count": 9,
   "id": "cc4b840c",
   "metadata": {},
   "outputs": [
    {
     "name": "stdout",
     "output_type": "stream",
     "text": [
      "[[0 1 0 0]\n",
      " [0 0 0 2]\n",
      " [0 0 0 0]\n",
      " [0 0 1 0]\n",
      " [0 0 0 1]]\n",
      "[[0. 1. 0. 0.]\n",
      " [0. 0. 0. 1.]\n",
      " [0. 0. 1. 0.]\n",
      " [0. 0. 0. 0.]\n",
      " [0. 0. 0. 0.]]\n"
     ]
    }
   ],
   "source": [
    "A = np.array([[0,1,0,0,],[0,0,0,2],[0,0,0,0],[0,0,1,0],[0,0,0,1]])\n",
    "print(A)\n",
    "\n",
    "print(normalised(A))"
   ]
  },
  {
   "cell_type": "code",
   "execution_count": 10,
   "id": "f428dd3b",
   "metadata": {},
   "outputs": [
    {
     "name": "stdout",
     "output_type": "stream",
     "text": [
      "[[0 2 0 0 0]\n",
      " [0 0 0 0 2]\n",
      " [0 0 0 0 0]\n",
      " [0 0 1 0 0]\n",
      " [0 0 0 0 1]]\n",
      "[[0. 1. 0. 0. 0.]\n",
      " [0. 0. 0. 0. 1.]\n",
      " [0. 0. 1. 0. 0.]\n",
      " [0. 0. 0. 0. 0.]\n",
      " [0. 0. 0. 0. 0.]]\n"
     ]
    }
   ],
   "source": [
    "A = np.array([[0,2,0,0,0],[0,0,0,0,2],[0,0,0,0,0],[0,0,1,0,0],[0,0,0,0,1]])\n",
    "print(A)\n",
    "\n",
    "print(normalised(A))"
   ]
  },
  {
   "cell_type": "markdown",
   "id": "afc66f8d",
   "metadata": {},
   "source": [
    "- we need more rearrangement"
   ]
  },
  {
   "cell_type": "markdown",
   "id": "9d7610ee",
   "metadata": {},
   "source": [
    "- We will split the amtrix if the second enntry is -1 \n",
    "- Re arrange remaining in increasing order\n",
    "- Joint them"
   ]
  },
  {
   "cell_type": "code",
   "execution_count": null,
   "id": "b854e05f",
   "metadata": {},
   "outputs": [],
   "source": []
  },
  {
   "cell_type": "code",
   "execution_count": null,
   "id": "400ea9e8",
   "metadata": {},
   "outputs": [],
   "source": []
  },
  {
   "cell_type": "code",
   "execution_count": null,
   "id": "92f6e219",
   "metadata": {},
   "outputs": [],
   "source": []
  },
  {
   "cell_type": "code",
   "execution_count": null,
   "id": "cd085d09",
   "metadata": {},
   "outputs": [],
   "source": []
  },
  {
   "cell_type": "markdown",
   "id": "4fbd2a77",
   "metadata": {},
   "source": [
    "#### The following will split matrices into zero raws and non zero raws"
   ]
  },
  {
   "cell_type": "code",
   "execution_count": 40,
   "id": "1d81968e",
   "metadata": {},
   "outputs": [
    {
     "name": "stdout",
     "output_type": "stream",
     "text": [
      "[[0 0 1 2]\n",
      " [0 3 0 0]]\n",
      "[[0 0 0 0]]\n"
     ]
    }
   ],
   "source": [
    "# Given matrix and row_index_pairs\n",
    "A = np.array([[0, 0, 1, 2],\n",
    "                   [0, 3, 0, 0],\n",
    "                   [0, 0, 0, 0]])\n",
    "# Find the indices of the first non-zero entry in each row\n",
    "indices = (A != 0).argmax(axis=1)\n",
    "\n",
    "# Store the row number and corresponding index in a list of tuples\n",
    "row_index_pairs = [(row, index) if A[row, index] != 0 else (row, -1) for row, index in enumerate(indices)]\n",
    "\n",
    "\n",
    "# Split the matrix based on row_index_pairs\n",
    "rows_with_nonzero = [A[row] for row, index in row_index_pairs if index != -1]\n",
    "rows_with_all_zero = [A[row] for row, index in row_index_pairs if index == -1]\n",
    "\n",
    "# Convert lists to numpy arrays\n",
    "matrix_with_nonzero = np.array(rows_with_nonzero)\n",
    "matrix_with_all_zero = np.array(rows_with_all_zero)\n",
    "\n",
    "print(matrix_with_nonzero)\n",
    "print(matrix_with_all_zero)"
   ]
  },
  {
   "cell_type": "code",
   "execution_count": 41,
   "id": "635a6f1d",
   "metadata": {},
   "outputs": [
    {
     "data": {
      "text/plain": [
       "array([2, 1, 0], dtype=int64)"
      ]
     },
     "execution_count": 41,
     "metadata": {},
     "output_type": "execute_result"
    }
   ],
   "source": [
    "indices"
   ]
  },
  {
   "cell_type": "code",
   "execution_count": 42,
   "id": "50dbb62c",
   "metadata": {},
   "outputs": [
    {
     "data": {
      "text/plain": [
       "[(0, 2), (1, 1), (2, -1)]"
      ]
     },
     "execution_count": 42,
     "metadata": {},
     "output_type": "execute_result"
    }
   ],
   "source": [
    "row_index_pairs"
   ]
  },
  {
   "cell_type": "code",
   "execution_count": 43,
   "id": "fcb16058",
   "metadata": {},
   "outputs": [],
   "source": [
    "filtered_row_index_pairs = [pair for pair in row_index_pairs if pair[1] != -1]\n"
   ]
  },
  {
   "cell_type": "code",
   "execution_count": 44,
   "id": "9a471d75",
   "metadata": {},
   "outputs": [
    {
     "data": {
      "text/plain": [
       "[(0, 2), (1, 1)]"
      ]
     },
     "execution_count": 44,
     "metadata": {},
     "output_type": "execute_result"
    }
   ],
   "source": [
    "filtered_row_index_pairs"
   ]
  },
  {
   "cell_type": "code",
   "execution_count": 45,
   "id": "a6191687",
   "metadata": {},
   "outputs": [
    {
     "name": "stdout",
     "output_type": "stream",
     "text": [
      "New matrix after interchanging rows:\n",
      "[[0 3 0 0]\n",
      " [0 0 1 2]]\n"
     ]
    }
   ],
   "source": [
    "# Create a new matrix to hold the interchanged rows\n",
    "new_matrix = np.zeros_like(matrix_with_nonzero)\n",
    "\n",
    "# Interchange rows according to filtered_row_index_pairs\n",
    "for original_row, new_row_index in filtered_row_index_pairs:\n",
    "    new_index = new_row_index - 1\n",
    "    if 0 <= new_index < new_matrix.shape[0]:\n",
    "        new_matrix[new_index] = matrix_with_nonzero[original_row]\n",
    "\n",
    "print(\"New matrix after interchanging rows:\")\n",
    "print(new_matrix)"
   ]
  },
  {
   "cell_type": "code",
   "execution_count": 46,
   "id": "41a0a5d9",
   "metadata": {},
   "outputs": [
    {
     "name": "stdout",
     "output_type": "stream",
     "text": [
      "Combined matrix:\n",
      "[[0 3 0 0]\n",
      " [0 0 1 2]\n",
      " [0 0 0 0]]\n"
     ]
    }
   ],
   "source": [
    "combined_matrix = np.vstack((new_matrix, matrix_with_all_zero))\n",
    "\n",
    "print(\"Combined matrix:\")\n",
    "print(combined_matrix)"
   ]
  },
  {
   "cell_type": "markdown",
   "id": "92128a50",
   "metadata": {},
   "source": [
    "--------\n",
    "----------"
   ]
  },
  {
   "cell_type": "markdown",
   "id": "018edc11",
   "metadata": {},
   "source": [
    "- Now Change main code"
   ]
  },
  {
   "cell_type": "code",
   "execution_count": 53,
   "id": "0c125cde",
   "metadata": {},
   "outputs": [],
   "source": [
    "# Let us make changes in the function normalised\n",
    "\n",
    "def normalised(A):\n",
    "    A = A.astype(float)\n",
    "    m = A.shape[0]  # Number of rows\n",
    "    n = A.shape[1]  # Number of columns\n",
    "    \n",
    "    # We iterate through each column \n",
    "    \n",
    "    # Raw reduced form upto last column\n",
    "    for i in range(0,n):\n",
    "        c = i              # Fixing column number\n",
    "        j = i              # Initialise raw number\n",
    "        while  j< m and A[j,c] ==0:\n",
    "            j += 1\n",
    "\n",
    "                \n",
    "        if j ==m:\n",
    "            continue       # Move to next value of i if j becomes m. More than the number of raws\n",
    "       \n",
    "        \n",
    "        p = A[j,c]         # Fixing the non zer entry\n",
    "        \n",
    "        \n",
    "        \n",
    "        # Divide corresponding raw with non zer entry p \n",
    "        for k in range(c,n): # Avoiding raws before that columns\n",
    "            A[j,k] = A[j,k]/p\n",
    "    \n",
    "        # Make Changes to raws below the \n",
    "        if j != m-1:\n",
    "            for k in range(j+1,m):\n",
    "                q = A[k,c] # Fixing first non zero entry in the raw\n",
    "                for r in range(c,n):\n",
    "                    A[k,r] = A[k,r] - (q*A[j,r])\n",
    "        \n",
    "        \n",
    "        \n",
    "        \n",
    "        # Now interchange the raws\n",
    "        if A[i,i] != 1:         #Interchange only if the first element is not one\n",
    "            for k in range(i,m):\n",
    "                if A[k,i] !=0:\n",
    "                    A[[i,k]] = A[[k,i]]\n",
    "                    break\n",
    "    \n",
    "    \n",
    "    \n",
    "    \n",
    "    \n",
    "    # To make first non zero entry 1 and below elements as 0\n",
    "    for j in range(m):\n",
    "        \n",
    "        i = 0\n",
    "        while i < n and A[j,i] ==0:   # Search for first non zero entry\n",
    "            i += 1\n",
    "            \n",
    "        if i == n:\n",
    "            continue\n",
    "         \n",
    "        A[j,i] = A[j,i]/A[j,i]     # Making non zero entry 1\n",
    "        \n",
    "        \n",
    "        # Set all entries below 1 as zero\n",
    "        for l in range(j+1,m):\n",
    "            A[l,i] = 0\n",
    "            \n",
    "            \n",
    "            \n",
    "            \n",
    "            \n",
    "            \n",
    "    # The final interchange\n",
    "    # Find the indices of the first non-zero entry in each row\n",
    "    indices = (A != 0).argmax(axis=1)\n",
    "\n",
    "    # Store the row number and corresponding index in a list of tuples\n",
    "    row_index_pairs = [(row, index) if A[row, index] != 0 else (row, -1) for row, index in enumerate(indices)]\n",
    "\n",
    "\n",
    "    # Split the matrix based on row_index_pairs\n",
    "    rows_with_nonzero = [A[row] for row, index in row_index_pairs if index != -1]\n",
    "    rows_with_all_zero = [A[row] for row, index in row_index_pairs if index == -1]\n",
    "\n",
    "    # Convert lists to numpy arrays\n",
    "    matrix_with_nonzero = np.array(rows_with_nonzero)\n",
    "    matrix_with_all_zero = np.array(rows_with_all_zero)\n",
    "    \n",
    "    filtered_row_index_pairs = [pair for pair in row_index_pairs if pair[1] != -1]\n",
    "    \n",
    "    \n",
    "    # Create a new matrix to hold the interchanged rows\n",
    "    new_matrix = np.zeros_like(matrix_with_nonzero)\n",
    "\n",
    "    # Interchange rows according to filtered_row_index_pairs\n",
    "    for original_row, new_row_index in filtered_row_index_pairs:\n",
    "        new_index = new_row_index - 1\n",
    "        if 0 <= new_index < new_matrix.shape[0]:\n",
    "            new_matrix[new_index] = matrix_with_nonzero[original_row]\n",
    "     \n",
    "    combined_matrix = np.vstack((new_matrix, matrix_with_all_zero))\n",
    "\n",
    "                    \n",
    "    return combined_matrix"
   ]
  },
  {
   "cell_type": "code",
   "execution_count": 54,
   "id": "beb9b48b",
   "metadata": {
    "scrolled": true
   },
   "outputs": [
    {
     "name": "stdout",
     "output_type": "stream",
     "text": [
      "[[0 2 0 0 0]\n",
      " [0 0 0 0 2]\n",
      " [0 0 0 0 0]\n",
      " [0 0 1 0 0]\n",
      " [0 0 0 0 1]]\n",
      "[[0. 1. 0. 0. 0.]\n",
      " [0. 0. 1. 0. 0.]\n",
      " [0. 0. 0. 0. 0.]\n",
      " [0. 0. 0. 0. 0.]\n",
      " [0. 0. 0. 0. 0.]]\n"
     ]
    }
   ],
   "source": [
    "A = np.array([[0,2,0,0,0],[0,0,0,0,2],[0,0,0,0,0],[0,0,1,0,0],[0,0,0,0,1]])\n",
    "print(A)\n",
    "\n",
    "print(normalised(A))"
   ]
  },
  {
   "cell_type": "code",
   "execution_count": 55,
   "id": "a46bc1b0",
   "metadata": {},
   "outputs": [
    {
     "data": {
      "text/plain": [
       "array([2, 1, 0], dtype=int64)"
      ]
     },
     "execution_count": 55,
     "metadata": {},
     "output_type": "execute_result"
    }
   ],
   "source": [
    "indices"
   ]
  },
  {
   "cell_type": "markdown",
   "id": "2dd66f9f",
   "metadata": {},
   "source": [
    "# CODE"
   ]
  },
  {
   "cell_type": "code",
   "execution_count": 184,
   "id": "c097d594",
   "metadata": {},
   "outputs": [],
   "source": [
    "def normalised(A):\n",
    "    A = A.astype(float)\n",
    "    m = A.shape[0]  # Number of rows\n",
    "    n = A.shape[1]  # Number of columns\n",
    "    \n",
    "    # We iterate through each column \n",
    "    \n",
    "    # Raw reduced form upto last column\n",
    "    for i in range(0,n):\n",
    "        c = i              # Fixing column number\n",
    "        j = i              # Initialise raw number\n",
    "        \n",
    "        # If all columnelement are zero we move to next column\n",
    "        \n",
    "        all_zeros = all(A[j, i] == 0 for j in range(i, m))\n",
    "        if all_zeros:\n",
    "            continue  \n",
    "        \n",
    "        \n",
    "        while  j< m and A[j,c] ==0:\n",
    "            j += 1\n",
    "\n",
    "        if j ==m:\n",
    "            continue       # Move to next value of i if j becomes m. More than the number of raws        \n",
    "        \n",
    "       \n",
    "        \n",
    "        p = A[j,c]         # Fixing the non zero entry\n",
    "        \n",
    "        \n",
    "        \n",
    "        # Divide corresponding raw with non zero entry p \n",
    "        for k in range(c,n): # Avoiding raws before that columns\n",
    "            A[j,k] = A[j,k]/p\n",
    "    \n",
    "        # Make Changes to raws below the \n",
    "        if j != m-1:\n",
    "            for k in range(j+1,m):\n",
    "                q = A[k,c] # Fixing first non zero entry in the raw\n",
    "                for r in range(c,n):\n",
    "                    A[k,r] = A[k,r] - (q*A[j,r])\n",
    "        \n",
    "        \n",
    "        \n",
    "        \n",
    "        # Now interchange the raws\n",
    "        if A[i,i] != 1:         #Interchange only if the first element is not one\n",
    "            for k in range(i,m):\n",
    "                if A[k,i] !=0:\n",
    "                    A[[i,k]] = A[[k,i]]\n",
    "                    break\n",
    "    \n",
    "    \n",
    "    \n",
    "    \n",
    "    \n",
    "    # To make first non zero entry 1 and below elements as 0\n",
    "    for j in range(m):\n",
    "        \n",
    "        i = 0\n",
    "        while i < n and A[j,i] ==0:   # Search for first non zero entry\n",
    "            i += 1\n",
    "            \n",
    "        if i == n:\n",
    "            continue\n",
    "         \n",
    "        A[j,i] = A[j,i]/A[j,i]     # Making non zero entry 1\n",
    "        \n",
    "        \n",
    "        # Set all entries below 1 as zero\n",
    "        for l in range(j+1,m):\n",
    "            A[l,i] = 0\n",
    "            \n",
    "    \n",
    "    # Final Interchange \n",
    "    # We will find indices of first non zero entry in each raw\n",
    "    # We break matrix with all zero element and matrix with some non zero element\n",
    "    # We rearrange matrix with some non zero according to the index\n",
    "    # Then we use vstack to combine this matrix with zero matrix \n",
    "    \n",
    "    \n",
    "    \n",
    "    \n",
    "    \n",
    "    # Find the indices of the first non-zero entry in each row\n",
    "    indices = (A != 0).argmax(axis=1)\n",
    "    \n",
    "    # Store the row number and corresponding index in a list of tuples\n",
    "    row_index_pairs = [(row, index) if A[row, index] != 0 else (row, -1) for row, index in enumerate(indices)]\n",
    "\n",
    "\n",
    "    # Split the matrix based on row_index_pairs\n",
    "    rows_with_nonzero = [A[row] for row, index in row_index_pairs if index != -1]\n",
    "    rows_with_all_zero = [A[row] for row, index in row_index_pairs if index == -1]\n",
    "\n",
    "    # Convert lists to numpy arrays\n",
    "    matrix_with_nonzero = np.array(rows_with_nonzero)\n",
    "    matrix_with_all_zero = np.array(rows_with_all_zero)\n",
    "    \n",
    "\n",
    "    \n",
    "    # Rearrange Non Zero Matrix\n",
    "    # Find the column indices of the leading pivots\n",
    "    pivot_indices = [np.argmax(row != 0) for row in matrix_with_nonzero ]\n",
    "    \n",
    "    # Sort rows based on pivot indices\n",
    "    sorted_indices = np.argsort(pivot_indices)\n",
    "    rearranged_non_zero_matrix = matrix_with_nonzero[sorted_indices]\n",
    "    \n",
    "\n",
    "    if matrix_with_all_zero.size>0:\n",
    "        print(\"Rank Of the Matrix = \", rearranged_non_zero_matrix.shape[0] )\n",
    "        combined_matrix = np.vstack((rearranged_non_zero_matrix, matrix_with_all_zero))\n",
    "        \n",
    "        \n",
    "    else:\n",
    "        print(\"Rank of the Matrix is \", m)\n",
    "        combined_matrix = rearranged_non_zero_matrix\n",
    "    \n",
    "    \n",
    "    \n",
    "    return combined_matrix\n",
    "    \n",
    "\n",
    "    "
   ]
  },
  {
   "cell_type": "code",
   "execution_count": 185,
   "id": "87fd1107",
   "metadata": {},
   "outputs": [
    {
     "name": "stdout",
     "output_type": "stream",
     "text": [
      "[[0 2 0 0 0]\n",
      " [0 0 0 0 2]\n",
      " [0 0 0 0 0]\n",
      " [0 0 1 0 0]\n",
      " [0 0 0 0 1]]\n",
      "Rank Of the Matrix =  3\n",
      "[[0. 1. 0. 0. 0.]\n",
      " [0. 0. 1. 0. 0.]\n",
      " [0. 0. 0. 0. 1.]\n",
      " [0. 0. 0. 0. 0.]\n",
      " [0. 0. 0. 0. 0.]]\n"
     ]
    }
   ],
   "source": [
    "A = np.array([[0,2,0,0,0],[0,0,0,0,2],[0,0,0,0,0],[0,0,1,0,0],[0,0,0,0,1]])\n",
    "print(A)\n",
    "\n",
    "print(normalised(A))"
   ]
  },
  {
   "cell_type": "code",
   "execution_count": null,
   "id": "ecb668f3",
   "metadata": {},
   "outputs": [],
   "source": []
  },
  {
   "cell_type": "code",
   "execution_count": 186,
   "id": "4ed93afd",
   "metadata": {},
   "outputs": [
    {
     "name": "stdout",
     "output_type": "stream",
     "text": [
      "[[1 2 0 0 0]\n",
      " [0 0 0 0 2]\n",
      " [0 0 0 0 0]\n",
      " [0 0 1 0 0]\n",
      " [0 0 0 0 1]]\n",
      "Rank Of the Matrix =  3\n",
      "[[1. 2. 0. 0. 0.]\n",
      " [0. 0. 1. 0. 0.]\n",
      " [0. 0. 0. 0. 1.]\n",
      " [0. 0. 0. 0. 0.]\n",
      " [0. 0. 0. 0. 0.]]\n"
     ]
    }
   ],
   "source": [
    "A = np.array([[1,2,0,0,0],[0,0,0,0,2],[0,0,0,0,0],[0,0,1,0,0],[0,0,0,0,1]])\n",
    "print(A)\n",
    "\n",
    "print(normalised(A))"
   ]
  },
  {
   "cell_type": "code",
   "execution_count": 187,
   "id": "c18394ec",
   "metadata": {},
   "outputs": [
    {
     "name": "stdout",
     "output_type": "stream",
     "text": [
      "[[0 0 0 0 0]\n",
      " [0 0 0 0 2]\n",
      " [0 0 0 0 0]\n",
      " [0 0 1 0 0]\n",
      " [0 0 0 0 1]]\n",
      "Rank Of the Matrix =  2\n",
      "[[0. 0. 1. 0. 0.]\n",
      " [0. 0. 0. 0. 1.]\n",
      " [0. 0. 0. 0. 0.]\n",
      " [0. 0. 0. 0. 0.]\n",
      " [0. 0. 0. 0. 0.]]\n"
     ]
    }
   ],
   "source": [
    "A = np.array([[0,0,0,0,0],[0,0,0,0,2],[0,0,0,0,0],[0,0,1,0,0],[0,0,0,0,1]])\n",
    "print(A)\n",
    "\n",
    "print(normalised(A))"
   ]
  },
  {
   "cell_type": "code",
   "execution_count": 188,
   "id": "7c828f1d",
   "metadata": {},
   "outputs": [
    {
     "name": "stdout",
     "output_type": "stream",
     "text": [
      "[[1 2 0]\n",
      " [0 0 2]\n",
      " [0 0 0]\n",
      " [0 0 1]\n",
      " [0 0 0]]\n",
      "Rank Of the Matrix =  2\n",
      "[[1. 2. 0.]\n",
      " [0. 0. 1.]\n",
      " [0. 0. 0.]\n",
      " [0. 0. 0.]\n",
      " [0. 0. 0.]]\n"
     ]
    }
   ],
   "source": [
    "A = np.array([[1,2,0],[0,0,2],[0,0,0],[0,0,1],[0,0,0]])\n",
    "print(A)\n",
    "\n",
    "print(normalised(A))"
   ]
  },
  {
   "cell_type": "code",
   "execution_count": 189,
   "id": "c12db5a9",
   "metadata": {},
   "outputs": [
    {
     "name": "stdout",
     "output_type": "stream",
     "text": [
      "[[1 2 0]\n",
      " [0 0 0]\n",
      " [0 0 1]\n",
      " [0 0 0]\n",
      " [0 0 2]]\n",
      "Rank Of the Matrix =  2\n",
      "[[1. 2. 0.]\n",
      " [0. 0. 1.]\n",
      " [0. 0. 0.]\n",
      " [0. 0. 0.]\n",
      " [0. 0. 0.]]\n"
     ]
    }
   ],
   "source": [
    "A = np.array([[1,2,0],[0,0,0],[0,0,1],[0,0,0],[0,0,2]])\n",
    "print(A)\n",
    "\n",
    "print(normalised(A))"
   ]
  },
  {
   "cell_type": "code",
   "execution_count": null,
   "id": "028f868f",
   "metadata": {},
   "outputs": [],
   "source": []
  },
  {
   "cell_type": "code",
   "execution_count": 190,
   "id": "da164d93",
   "metadata": {},
   "outputs": [
    {
     "name": "stdout",
     "output_type": "stream",
     "text": [
      "[[1 2 0 0 0]\n",
      " [0 0 0 1 2]\n",
      " [0 0 3 3 1]\n",
      " [1 6 0 0 0]]\n",
      "Rank of the Matrix is  4\n",
      "[[1.         2.         0.         0.         0.        ]\n",
      " [0.         1.         0.         0.         0.        ]\n",
      " [0.         0.         1.         1.         0.33333333]\n",
      " [0.         0.         0.         1.         2.        ]]\n"
     ]
    }
   ],
   "source": [
    "A = np.array([[1,2,0,0,0,],[0,0,0,1,2],[0,0,3,3,1],[1,6,0,0,0]])\n",
    "print(A)\n",
    "\n",
    "\n",
    "print(normalised(A))"
   ]
  },
  {
   "cell_type": "code",
   "execution_count": 191,
   "id": "194082cb",
   "metadata": {},
   "outputs": [],
   "source": [
    "x =[]"
   ]
  },
  {
   "cell_type": "code",
   "execution_count": 192,
   "id": "519bc82b",
   "metadata": {},
   "outputs": [
    {
     "name": "stdout",
     "output_type": "stream",
     "text": [
      "Yes\n"
     ]
    }
   ],
   "source": [
    "if x == []:\n",
    "    print(\"Yes\")\n",
    "else:\n",
    "    print(\"No\")"
   ]
  },
  {
   "cell_type": "code",
   "execution_count": 193,
   "id": "ed4bc4fc",
   "metadata": {},
   "outputs": [
    {
     "name": "stdout",
     "output_type": "stream",
     "text": [
      "[[0 0 1]\n",
      " [0 0 2]\n",
      " [1 2 0]]\n"
     ]
    }
   ],
   "source": [
    "import numpy as np\n",
    "\n",
    "def normalised(A):\n",
    "    # Identify non-zero rows\n",
    "    non_zero_mask = np.any(A != 0, axis=1)\n",
    "    matrix_with_nonzero = A[non_zero_mask]\n",
    "\n",
    "    # Sort rows based on some criterion (e.g., sum of rows)\n",
    "    row_sums = np.sum(matrix_with_nonzero, axis=1)\n",
    "    sorted_indices = np.argsort(row_sums)\n",
    "    sorted_pairs = [(i, row_sums[i]) for i in sorted_indices]\n",
    "\n",
    "    # Prepare the rearranged matrix\n",
    "    rearranged_matrix = np.zeros_like(matrix_with_nonzero)\n",
    "\n",
    "    # Rearrange based on sorted pairs\n",
    "    for i, (row, index) in enumerate(sorted_pairs):\n",
    "        if i < matrix_with_nonzero.shape[0]:\n",
    "            rearranged_matrix[i] = matrix_with_nonzero[row]\n",
    "        else:\n",
    "            break\n",
    "\n",
    "    return rearranged_matrix\n",
    "\n",
    "# Example usage\n",
    "A = np.array([[1, 2, 0],\n",
    "              [0, 0, 0],\n",
    "              [0, 0, 1],\n",
    "              [0, 0, 0],\n",
    "              [0, 0, 2]])\n",
    "\n",
    "print(normalised(A))\n"
   ]
  },
  {
   "cell_type": "code",
   "execution_count": 194,
   "id": "e3a222b6",
   "metadata": {},
   "outputs": [],
   "source": [
    "import numpy as np\n",
    "\n",
    "def normalised(A):\n",
    "    A = A.astype(float)\n",
    "    m = A.shape[0]  # Number of rows\n",
    "    n = A.shape[1]  # Number of columns\n",
    "    \n",
    "    # We iterate through each column \n",
    "    for i in range(n):\n",
    "        c = i  # Fixing column number\n",
    "        j = i  # Initialize row number\n",
    "        while j < m and A[j, c] == 0:\n",
    "            j += 1\n",
    "                \n",
    "        if j == m:\n",
    "            continue  # Move to next column if no pivot is found\n",
    "        \n",
    "        p = A[j, c]  # Fixing the non-zero entry\n",
    "        \n",
    "        # Divide corresponding row by non-zero entry p \n",
    "        A[j, c:] = A[j, c:] / p\n",
    "    \n",
    "        # Make changes to rows below\n",
    "        for k in range(j + 1, m):\n",
    "            q = A[k, c]  # Fixing first non-zero entry in the row\n",
    "            A[k, c:] = A[k, c:] - q * A[j, c:]\n",
    "        \n",
    "        # Now interchange the rows\n",
    "        if A[i, i] != 1:  # Interchange only if the first element is not one\n",
    "            for k in range(i, m):\n",
    "                if A[k, i] != 0:\n",
    "                    A[[i, k]] = A[[k, i]]\n",
    "                    break\n",
    "    \n",
    "    # To make the first non-zero entry 1 and below elements as 0\n",
    "    for j in range(m):\n",
    "        i = 0\n",
    "        while i < n and A[j, i] == 0:  # Search for first non-zero entry\n",
    "            i += 1\n",
    "            \n",
    "        if i == n:\n",
    "            continue\n",
    "         \n",
    "        A[j, i] = A[j, i] / A[j, i]  # Making non-zero entry 1\n",
    "        \n",
    "        # Set all entries below 1 to zero\n",
    "        for l in range(j + 1, m):\n",
    "            A[l, i] = 0\n",
    "    \n",
    "    # Rearranging the rows\n",
    "    # Find the indices of the first non-zero entry in each row\n",
    "    indices = (A != 0).argmax(axis=1)\n",
    "    \n",
    "    # Store the row number and corresponding index in a list of tuples\n",
    "    row_index_pairs = [(row, index) if A[row, index] != 0 else (row, -1) for row, index in enumerate(indices)]\n",
    "    \n",
    "    # Split the matrix based on row_index_pairs\n",
    "    rows_with_nonzero = [A[row] for row, index in row_index_pairs if index != -1]\n",
    "    rows_with_all_zero = [A[row] for row, index in row_index_pairs if index == -1]\n",
    "    \n",
    "    # Convert lists to numpy arrays\n",
    "    matrix_with_nonzero = np.array(rows_with_nonzero)\n",
    "    matrix_with_all_zero = np.array(rows_with_all_zero) if rows_with_all_zero else np.empty((0, n))\n",
    "    \n",
    "    # Sort rows with non-zero elements by the index of the first non-zero element\n",
    "    filtered_row_index_pairs = [pair for pair in row_index_pairs if pair[1] != -1]\n",
    "    sorted_pairs = sorted(filtered_row_index_pairs, key=lambda pair: pair[1])\n",
    "    \n",
    "    # Create a new matrix with rearranged rows\n",
    "    rearranged_matrix = np.zeros_like(matrix_with_nonzero)\n",
    "    \n",
    "    for i, (row, index) in enumerate(sorted_pairs):\n",
    "        rearranged_matrix[i] = matrix_with_nonzero[i]  # Use i instead of row to avoid index out of bounds\n",
    "    \n",
    "    # Combine the rearranged non-zero rows with the all-zero rows\n",
    "    combined_matrix = np.vstack((rearranged_matrix, matrix_with_all_zero))\n",
    "    \n",
    "    return combined_matrix\n",
    "\n",
    "\n"
   ]
  },
  {
   "cell_type": "code",
   "execution_count": 195,
   "id": "57dfb805",
   "metadata": {},
   "outputs": [
    {
     "name": "stdout",
     "output_type": "stream",
     "text": [
      "[[1 2 0]\n",
      " [0 0 0]\n",
      " [0 0 1]\n",
      " [0 0 0]\n",
      " [0 0 2]]\n",
      "[[1. 2. 0.]\n",
      " [0. 0. 1.]\n",
      " [0. 0. 0.]\n",
      " [0. 0. 0.]\n",
      " [0. 0. 0.]]\n"
     ]
    }
   ],
   "source": [
    "# Example usage\n",
    "A = np.array([[1, 2, 0],\n",
    "              [0, 0, 0],\n",
    "              [0, 0, 1],\n",
    "              [0, 0, 0],\n",
    "              [0, 0, 2]])\n",
    "print(A)\n",
    "print(normalised(A))"
   ]
  },
  {
   "cell_type": "code",
   "execution_count": 196,
   "id": "360d2b6b",
   "metadata": {},
   "outputs": [
    {
     "name": "stdout",
     "output_type": "stream",
     "text": [
      "[[1 2 0 0 0]\n",
      " [0 0 0 0 2]\n",
      " [0 0 0 0 0]\n",
      " [0 0 1 0 0]\n",
      " [0 0 0 0 1]]\n",
      "[[1. 2. 0. 0. 0.]\n",
      " [0. 0. 0. 0. 1.]\n",
      " [0. 0. 1. 0. 0.]\n",
      " [0. 0. 0. 0. 0.]\n",
      " [0. 0. 0. 0. 0.]]\n"
     ]
    }
   ],
   "source": [
    "A = np.array([[1,2,0,0,0],[0,0,0,0,2],[0,0,0,0,0],[0,0,1,0,0],[0,0,0,0,1]])\n",
    "print(A)\n",
    "\n",
    "print(normalised(A))"
   ]
  },
  {
   "cell_type": "code",
   "execution_count": null,
   "id": "98b527b6",
   "metadata": {},
   "outputs": [],
   "source": []
  },
  {
   "cell_type": "code",
   "execution_count": null,
   "id": "73a127e2",
   "metadata": {},
   "outputs": [],
   "source": []
  },
  {
   "cell_type": "code",
   "execution_count": null,
   "id": "99122299",
   "metadata": {},
   "outputs": [],
   "source": []
  },
  {
   "cell_type": "code",
   "execution_count": 197,
   "id": "5ac75635",
   "metadata": {},
   "outputs": [],
   "source": [
    "# Let us make changes in the function normalised\n",
    "\n",
    "def normalised(A):\n",
    "    A = A.astype(float)\n",
    "    m = A.shape[0]  # Number of rows\n",
    "    n = A.shape[1]  # Number of columns\n",
    "    \n",
    "    # We iterate through each column \n",
    "    \n",
    "    # Raw reduced form upto last column\n",
    "    for i in range(0,n):\n",
    "        c = i              # Fixing column number\n",
    "        j = i              # Initialise raw number\n",
    "        while  j< m and A[j,c] ==0:\n",
    "            j += 1\n",
    "\n",
    "                \n",
    "        if j ==m:\n",
    "            continue       # Move to next value of i if j becomes m. More than the number of raws\n",
    "       \n",
    "        \n",
    "        p = A[j,c]         # Fixing the non zer entry\n",
    "        \n",
    "        \n",
    "        \n",
    "        # Divide corresponding raw with non zer entry p \n",
    "        for k in range(c,n): # Avoiding raws before that columns\n",
    "            A[j,k] = A[j,k]/p\n",
    "    \n",
    "        # Make Changes to raws below the \n",
    "        if j != m-1:\n",
    "            for k in range(j+1,m):\n",
    "                q = A[k,c] # Fixing first non zero entry in the raw\n",
    "                for r in range(c,n):\n",
    "                    A[k,r] = A[k,r] - (q*A[j,r])\n",
    "        \n",
    "        \n",
    "        \n",
    "        \n",
    "        # Now interchange the raws\n",
    "        if A[i,i] != 1:         #Interchange only if the first element is not one\n",
    "            for k in range(i,m):\n",
    "                if A[k,i] !=0:\n",
    "                    A[[i,k]] = A[[k,i]]\n",
    "                    break\n",
    "    \n",
    "    \n",
    "    \n",
    "    \n",
    "    \n",
    "    # To make first non zero entry 1 and below elements as 0\n",
    "    for j in range(m):\n",
    "        \n",
    "        i = 0\n",
    "        while i < n and A[j,i] ==0:   # Search for first non zero entry\n",
    "            i += 1\n",
    "            \n",
    "        if i == n:\n",
    "            continue\n",
    "         \n",
    "        A[j,i] = A[j,i]/A[j,i]     # Making non zero entry 1\n",
    "        \n",
    "        \n",
    "        # Set all entries below 1 as zero\n",
    "        for l in range(j+1,m):\n",
    "            A[l,i] = 0\n",
    "            \n",
    "    return A"
   ]
  },
  {
   "cell_type": "code",
   "execution_count": 198,
   "id": "2eb0ed9a",
   "metadata": {},
   "outputs": [
    {
     "name": "stdout",
     "output_type": "stream",
     "text": [
      "[[0 2 0 0 0]\n",
      " [0 0 0 0 2]\n",
      " [0 0 0 0 0]\n",
      " [0 0 1 0 0]\n",
      " [0 0 0 0 1]]\n",
      "[[0. 1. 0. 0. 0.]\n",
      " [0. 0. 0. 0. 1.]\n",
      " [0. 0. 1. 0. 0.]\n",
      " [0. 0. 0. 0. 0.]\n",
      " [0. 0. 0. 0. 0.]]\n"
     ]
    }
   ],
   "source": [
    "A = np.array([[0,2,0,0,0],[0,0,0,0,2],[0,0,0,0,0],[0,0,1,0,0],[0,0,0,0,1]])\n",
    "print(A)\n",
    "\n",
    "print(normalised(A))"
   ]
  },
  {
   "cell_type": "code",
   "execution_count": 199,
   "id": "e0b046ab",
   "metadata": {},
   "outputs": [
    {
     "data": {
      "text/plain": [
       "array([[0, 2, 0, 0, 0],\n",
       "       [0, 0, 0, 0, 2],\n",
       "       [0, 0, 0, 0, 0],\n",
       "       [0, 0, 1, 0, 0],\n",
       "       [0, 0, 0, 0, 1]])"
      ]
     },
     "execution_count": 199,
     "metadata": {},
     "output_type": "execute_result"
    }
   ],
   "source": [
    "A"
   ]
  },
  {
   "cell_type": "code",
   "execution_count": null,
   "id": "6200b8fb",
   "metadata": {},
   "outputs": [],
   "source": []
  },
  {
   "cell_type": "code",
   "execution_count": 200,
   "id": "114587da",
   "metadata": {},
   "outputs": [
    {
     "name": "stdout",
     "output_type": "stream",
     "text": [
      "Rearranged matrix:\n",
      "[[1 0 0]\n",
      " [0 2 1]\n",
      " [0 0 3]]\n"
     ]
    }
   ],
   "source": [
    "import numpy as np\n",
    "\n",
    "def rearrange_rows_by_pivot(A):\n",
    "    # Find the column indices of the leading pivots\n",
    "    pivot_indices = [np.argmax(row != 0) for row in A]\n",
    "    \n",
    "    # Sort rows based on pivot indices\n",
    "    sorted_indices = np.argsort(pivot_indices)\n",
    "    rearranged_A = A[sorted_indices]\n",
    "    \n",
    "    return rearranged_A\n",
    "\n",
    "# Example usage\n",
    "A = np.array([[0, 2, 1],\n",
    "              [1, 0, 0],\n",
    "              [0, 0, 3]])\n",
    "\n",
    "rearranged_matrix = rearrange_rows_by_pivot(A)\n",
    "print(\"Rearranged matrix:\")\n",
    "print(rearranged_matrix)\n"
   ]
  },
  {
   "cell_type": "code",
   "execution_count": null,
   "id": "df5ebd2e",
   "metadata": {},
   "outputs": [],
   "source": []
  },
  {
   "cell_type": "code",
   "execution_count": null,
   "id": "dea6b587",
   "metadata": {},
   "outputs": [],
   "source": []
  },
  {
   "cell_type": "code",
   "execution_count": null,
   "id": "63911630",
   "metadata": {},
   "outputs": [],
   "source": []
  },
  {
   "cell_type": "code",
   "execution_count": null,
   "id": "d977ff96",
   "metadata": {},
   "outputs": [],
   "source": []
  },
  {
   "cell_type": "code",
   "execution_count": null,
   "id": "86bd37db",
   "metadata": {},
   "outputs": [],
   "source": []
  },
  {
   "cell_type": "code",
   "execution_count": null,
   "id": "c37c600e",
   "metadata": {},
   "outputs": [],
   "source": []
  },
  {
   "cell_type": "code",
   "execution_count": null,
   "id": "6408a112",
   "metadata": {},
   "outputs": [],
   "source": []
  },
  {
   "cell_type": "code",
   "execution_count": null,
   "id": "92d28e5d",
   "metadata": {},
   "outputs": [],
   "source": []
  },
  {
   "cell_type": "code",
   "execution_count": null,
   "id": "285fafbf",
   "metadata": {},
   "outputs": [],
   "source": []
  },
  {
   "cell_type": "markdown",
   "id": "45e0f185",
   "metadata": {},
   "source": [
    "### A function to solve system of linear equations"
   ]
  },
  {
   "cell_type": "code",
   "execution_count": 40,
   "id": "0046acaa",
   "metadata": {},
   "outputs": [],
   "source": [
    "def system_of_equations(A,B):\n",
    "    \"\"\" This will take any matrix as out put and gives its raw reduced form and the rank of the matrix\n",
    "    \"\"\"\n",
    "    # Print the given matrix in the out put\n",
    "    print(\"Cofeeicient Matrix is:\")\n",
    "    print(A)\n",
    "    \n",
    "    print(\"Constant Matrix is :\")\n",
    "    print(B)\n",
    "    \n",
    "    def normalised(A):\n",
    "        \"\"\" This will take any matrix as out put and gives its raw reduced form and the rank of the matrix\n",
    "        \"\"\"\n",
    "        # Print the given matrix in the out put\n",
    "        #print(\"Matrix is:\")\n",
    "        #print(A)\n",
    "\n",
    "        A = A.astype(float)\n",
    "        m = A.shape[0]  # Number of rows\n",
    "        n = A.shape[1]  # Number of columns\n",
    "        r = int()\n",
    "        # We iterate through each column \n",
    "\n",
    "        # Raw reduced form upto last column\n",
    "        for i in range(0,n):\n",
    "            c = i              # Fixing column number\n",
    "            j = i              # Initialise raw number\n",
    "\n",
    "            # If all columnelement are zero we move to next column\n",
    "\n",
    "            all_zeros = all(A[j, i] == 0 for j in range(i, m))\n",
    "            if all_zeros:\n",
    "                continue  \n",
    "\n",
    "\n",
    "            while  j< m and A[j,c] ==0:\n",
    "                j += 1\n",
    "\n",
    "            if j ==m:\n",
    "                continue       # Move to next value of i if j becomes m. More than the number of raws        \n",
    "\n",
    "\n",
    "\n",
    "            p = A[j,c]         # Fixing the non zero entry\n",
    "\n",
    "\n",
    "\n",
    "            # Divide corresponding raw with non zero entry p \n",
    "            for k in range(c,n): # Avoiding raws before that columns\n",
    "                A[j,k] = A[j,k]/p\n",
    "\n",
    "            # Make Changes to raws below the \n",
    "            if j != m-1:\n",
    "                for k in range(j+1,m):\n",
    "                    q = A[k,c] # Fixing first non zero entry in the raw\n",
    "                    for r in range(c,n):\n",
    "                        A[k,r] = A[k,r] - (q*A[j,r])\n",
    "\n",
    "\n",
    "\n",
    "\n",
    "            # Now interchange the raws\n",
    "            if A[i,i] != 1:         #Interchange only if the first element is not one\n",
    "                for k in range(i,m):\n",
    "                    if A[k,i] !=0:\n",
    "                        A[[i,k]] = A[[k,i]]\n",
    "                        break\n",
    "\n",
    "\n",
    "\n",
    "\n",
    "\n",
    "        # To make first non zero entry 1 and below elements as 0\n",
    "        for j in range(m):\n",
    "\n",
    "            i = 0\n",
    "            while i < n and A[j,i] ==0:   # Search for first non zero entry\n",
    "                i += 1\n",
    "\n",
    "            if i == n:\n",
    "                continue\n",
    "\n",
    "            A[j,i] = A[j,i]/A[j,i]     # Making non zero entry 1\n",
    "\n",
    "\n",
    "            # Set all entries below 1 as zero\n",
    "            for l in range(j+1,m):\n",
    "                A[l,i] = 0\n",
    "\n",
    "\n",
    "        # Final Interchange \n",
    "        # We will find indices of first non zero entry in each raw\n",
    "        # We break matrix with all zero element and matrix with some non zero element\n",
    "        # We rearrange matrix with some non zero according to the index\n",
    "        # Then we use vstack to combine this matrix with zero matrix \n",
    "\n",
    "\n",
    "\n",
    "\n",
    "\n",
    "        # Find the indices of the first non-zero entry in each row\n",
    "        indices = (A != 0).argmax(axis=1)\n",
    "\n",
    "        # Store the row number and corresponding index in a list of tuples\n",
    "        row_index_pairs = [(row, index) if A[row, index] != 0 else (row, -1) for row, index in enumerate(indices)]\n",
    "\n",
    "\n",
    "        # Split the matrix based on row_index_pairs\n",
    "        rows_with_nonzero = [A[row] for row, index in row_index_pairs if index != -1]\n",
    "        rows_with_all_zero = [A[row] for row, index in row_index_pairs if index == -1]\n",
    "\n",
    "        # Convert lists to numpy arrays\n",
    "        matrix_with_nonzero = np.array(rows_with_nonzero)\n",
    "        matrix_with_all_zero = np.array(rows_with_all_zero)\n",
    "\n",
    "\n",
    "\n",
    "        # Rearrange Non Zero Matrix\n",
    "        # Find the column indices of the leading pivots\n",
    "        pivot_indices = [np.argmax(row != 0) for row in matrix_with_nonzero ]\n",
    "\n",
    "        # Sort rows based on pivot indices\n",
    "        sorted_indices = np.argsort(pivot_indices)\n",
    "        rearranged_non_zero_matrix = matrix_with_nonzero[sorted_indices]\n",
    "\n",
    "\n",
    "        if matrix_with_all_zero.size>0:\n",
    "            r = rearranged_non_zero_matrix.shape[0]\n",
    "            #print(\"Rank Of the Matrix = \", r )\n",
    "            combined_matrix = np.vstack((rearranged_non_zero_matrix, matrix_with_all_zero))\n",
    "\n",
    "\n",
    "        else:\n",
    "            r = m\n",
    "            #print(\"Rank of the Matrix is \", r)\n",
    "            combined_matrix = rearranged_non_zero_matrix\n",
    "\n",
    "\n",
    "        # print(\"Raw Reduced Echlon form is\")\n",
    "        return r, combined_matrix\n",
    "    \n",
    "    \n",
    "   \n",
    "    Aug = np.column_stack((A,B))     # Augmented Matrix\n",
    "    \n",
    "    r_A,RRE_A = normalised(A)        # Rank and Raw Reduced Form of coefficient matrix\n",
    "    r_Aug,RRE_Aug = normalised(Aug)  # Rank and Raw Reduced Form of Augmented Matrix\n",
    "    \n",
    "    if r_A == r_Aug:\n",
    "        print(\"System is consistent\")\n",
    "        \n",
    "    else:\n",
    "        print(\"System is inconsistent\")"
   ]
  },
  {
   "cell_type": "code",
   "execution_count": 42,
   "id": "e0ecefbe",
   "metadata": {},
   "outputs": [
    {
     "name": "stdout",
     "output_type": "stream",
     "text": [
      "Cofeeicient Matrix is:\n",
      "[[0 0 2 3]\n",
      " [1 0 3 1]\n",
      " [1 1 2 0]]\n",
      "Constant Matrix is :\n",
      "[0 0 0]\n",
      "System is consistent\n"
     ]
    }
   ],
   "source": [
    "A = np.array([[0,0,2,3],\n",
    "              [1,0,3,1],\n",
    "              [1,1,2,0]\n",
    "    \n",
    "            ])\n",
    "B = np.array([0,0,0])\n",
    "\n",
    "system_of_equations(A,B)"
   ]
  },
  {
   "cell_type": "code",
   "execution_count": 43,
   "id": "f0cbeb40",
   "metadata": {},
   "outputs": [
    {
     "name": "stdout",
     "output_type": "stream",
     "text": [
      "Cofeeicient Matrix is:\n",
      "[[1 2]\n",
      " [3 6]]\n",
      "Constant Matrix is :\n",
      "[1 7]\n",
      "System is inconsistent\n"
     ]
    }
   ],
   "source": [
    "A = np.array([[1,2],\n",
    "              [3,6],\n",
    "              \n",
    "    \n",
    "            ])\n",
    "B = np.array([1,7])\n",
    "\n",
    "system_of_equations(A,B)"
   ]
  },
  {
   "cell_type": "code",
   "execution_count": null,
   "id": "a7027ddc",
   "metadata": {},
   "outputs": [],
   "source": []
  },
  {
   "cell_type": "code",
   "execution_count": null,
   "id": "602ff223",
   "metadata": {},
   "outputs": [],
   "source": []
  },
  {
   "cell_type": "code",
   "execution_count": null,
   "id": "3fd3e3f2",
   "metadata": {},
   "outputs": [],
   "source": []
  },
  {
   "cell_type": "code",
   "execution_count": null,
   "id": "6b31a9f4",
   "metadata": {},
   "outputs": [],
   "source": []
  },
  {
   "cell_type": "code",
   "execution_count": null,
   "id": "38737b27",
   "metadata": {},
   "outputs": [],
   "source": []
  },
  {
   "cell_type": "code",
   "execution_count": null,
   "id": "5d71b335",
   "metadata": {},
   "outputs": [],
   "source": []
  },
  {
   "cell_type": "code",
   "execution_count": null,
   "id": "366e6948",
   "metadata": {},
   "outputs": [],
   "source": []
  },
  {
   "cell_type": "code",
   "execution_count": null,
   "id": "133308f4",
   "metadata": {},
   "outputs": [],
   "source": []
  },
  {
   "cell_type": "code",
   "execution_count": null,
   "id": "bf2bc442",
   "metadata": {},
   "outputs": [],
   "source": []
  },
  {
   "cell_type": "code",
   "execution_count": null,
   "id": "a86b0ffd",
   "metadata": {},
   "outputs": [],
   "source": []
  },
  {
   "cell_type": "code",
   "execution_count": null,
   "id": "ba7322e6",
   "metadata": {},
   "outputs": [],
   "source": []
  },
  {
   "cell_type": "code",
   "execution_count": null,
   "id": "00580ff8",
   "metadata": {},
   "outputs": [],
   "source": []
  },
  {
   "cell_type": "code",
   "execution_count": null,
   "id": "76bcb838",
   "metadata": {},
   "outputs": [],
   "source": []
  },
  {
   "cell_type": "code",
   "execution_count": null,
   "id": "cb2d116a",
   "metadata": {},
   "outputs": [],
   "source": []
  },
  {
   "cell_type": "code",
   "execution_count": null,
   "id": "893f30d3",
   "metadata": {},
   "outputs": [],
   "source": []
  },
  {
   "cell_type": "code",
   "execution_count": null,
   "id": "7445615b",
   "metadata": {},
   "outputs": [],
   "source": []
  },
  {
   "cell_type": "code",
   "execution_count": null,
   "id": "3765c15f",
   "metadata": {},
   "outputs": [],
   "source": []
  },
  {
   "cell_type": "code",
   "execution_count": null,
   "id": "a60c2dde",
   "metadata": {},
   "outputs": [],
   "source": []
  },
  {
   "cell_type": "code",
   "execution_count": null,
   "id": "07af3f37",
   "metadata": {},
   "outputs": [],
   "source": []
  },
  {
   "cell_type": "code",
   "execution_count": 23,
   "id": "67bf8dad",
   "metadata": {},
   "outputs": [],
   "source": [
    "def normalised(A):\n",
    "    \"\"\" This will take any matrix as out put and gives its raw reduced form and the rank of the matrix\n",
    "    \"\"\"\n",
    "    # Print the given matrix in the out put\n",
    "    print(\"Matrix is:\")\n",
    "    print(A)\n",
    "    \n",
    "    A = A.astype(float)\n",
    "    m = A.shape[0]  # Number of rows\n",
    "    n = A.shape[1]  # Number of columns\n",
    "    r = int()\n",
    "    # We iterate through each column \n",
    "    \n",
    "    # Raw reduced form upto last column\n",
    "    for i in range(0,n):\n",
    "        c = i              # Fixing column number\n",
    "        j = i              # Initialise raw number\n",
    "        \n",
    "        # If all columnelement are zero we move to next column\n",
    "        \n",
    "        all_zeros = all(A[j, i] == 0 for j in range(i, m))\n",
    "        if all_zeros:\n",
    "            continue  \n",
    "        \n",
    "        \n",
    "        while  j< m and A[j,c] ==0:\n",
    "            j += 1\n",
    "\n",
    "        if j ==m:\n",
    "            continue       # Move to next value of i if j becomes m. More than the number of raws        \n",
    "        \n",
    "       \n",
    "        \n",
    "        p = A[j,c]         # Fixing the non zero entry\n",
    "        \n",
    "        \n",
    "        \n",
    "        # Divide corresponding raw with non zero entry p \n",
    "        for k in range(c,n): # Avoiding raws before that columns\n",
    "            A[j,k] = A[j,k]/p\n",
    "    \n",
    "        # Make Changes to raws below the \n",
    "        if j != m-1:\n",
    "            for k in range(j+1,m):\n",
    "                q = A[k,c] # Fixing first non zero entry in the raw\n",
    "                for r in range(c,n):\n",
    "                    A[k,r] = A[k,r] - (q*A[j,r])\n",
    "        \n",
    "        \n",
    "        \n",
    "        \n",
    "        # Now interchange the raws\n",
    "        if A[i,i] != 1:         #Interchange only if the first element is not one\n",
    "            for k in range(i,m):\n",
    "                if A[k,i] !=0:\n",
    "                    A[[i,k]] = A[[k,i]]\n",
    "                    break\n",
    "    \n",
    "    \n",
    "    \n",
    "    \n",
    "    \n",
    "    # To make first non zero entry 1 and below elements as 0\n",
    "    for j in range(m):\n",
    "        \n",
    "        i = 0\n",
    "        while i < n and A[j,i] ==0:   # Search for first non zero entry\n",
    "            i += 1\n",
    "            \n",
    "        if i == n:\n",
    "            continue\n",
    "         \n",
    "        A[j,i] = A[j,i]/A[j,i]     # Making non zero entry 1\n",
    "        \n",
    "        \n",
    "        # Set all entries below 1 as zero\n",
    "        for l in range(j+1,m):\n",
    "            A[l,i] = 0\n",
    "            \n",
    "    \n",
    "    # Final Interchange \n",
    "    # We will find indices of first non zero entry in each raw\n",
    "    # We break matrix with all zero element and matrix with some non zero element\n",
    "    # We rearrange matrix with some non zero according to the index\n",
    "    # Then we use vstack to combine this matrix with zero matrix \n",
    "    \n",
    "    \n",
    "    \n",
    "    \n",
    "    \n",
    "    # Find the indices of the first non-zero entry in each row\n",
    "    indices = (A != 0).argmax(axis=1)\n",
    "    \n",
    "    # Store the row number and corresponding index in a list of tuples\n",
    "    row_index_pairs = [(row, index) if A[row, index] != 0 else (row, -1) for row, index in enumerate(indices)]\n",
    "\n",
    "\n",
    "    # Split the matrix based on row_index_pairs\n",
    "    rows_with_nonzero = [A[row] for row, index in row_index_pairs if index != -1]\n",
    "    rows_with_all_zero = [A[row] for row, index in row_index_pairs if index == -1]\n",
    "\n",
    "    # Convert lists to numpy arrays\n",
    "    matrix_with_nonzero = np.array(rows_with_nonzero)\n",
    "    matrix_with_all_zero = np.array(rows_with_all_zero)\n",
    "    \n",
    "\n",
    "    \n",
    "    # Rearrange Non Zero Matrix\n",
    "    # Find the column indices of the leading pivots\n",
    "    pivot_indices = [np.argmax(row != 0) for row in matrix_with_nonzero ]\n",
    "    \n",
    "    # Sort rows based on pivot indices\n",
    "    sorted_indices = np.argsort(pivot_indices)\n",
    "    rearranged_non_zero_matrix = matrix_with_nonzero[sorted_indices]\n",
    "    \n",
    "\n",
    "    if matrix_with_all_zero.size>0:\n",
    "        r = rearranged_non_zero_matrix.shape[0]\n",
    "        print(\"Rank Of the Matrix = \", r )\n",
    "        combined_matrix = np.vstack((rearranged_non_zero_matrix, matrix_with_all_zero))\n",
    "        \n",
    "        \n",
    "    else:\n",
    "        r = m\n",
    "        print(\"Rank of the Matrix is \", r)\n",
    "        combined_matrix = rearranged_non_zero_matrix\n",
    "    \n",
    "    \n",
    "    # print(\"Raw Reduced Echlon form is\")\n",
    "    return r, combined_matrix"
   ]
  },
  {
   "cell_type": "code",
   "execution_count": 24,
   "id": "841b7e41",
   "metadata": {},
   "outputs": [
    {
     "name": "stdout",
     "output_type": "stream",
     "text": [
      "Matrix is:\n",
      "[[0 2 0 0 0]\n",
      " [0 0 0 0 2]\n",
      " [0 0 0 0 0]\n",
      " [0 0 1 0 0]\n",
      " [0 0 0 0 1]]\n",
      "Rank Of the Matrix =  3\n",
      "(3, array([[0., 1., 0., 0., 0.],\n",
      "       [0., 0., 1., 0., 0.],\n",
      "       [0., 0., 0., 0., 1.],\n",
      "       [0., 0., 0., 0., 0.],\n",
      "       [0., 0., 0., 0., 0.]]))\n"
     ]
    }
   ],
   "source": [
    "A = np.array([[0,2,0,0,0],[0,0,0,0,2],[0,0,0,0,0],[0,0,1,0,0],[0,0,0,0,1]])\n",
    "\n",
    "\n",
    "print(normalised(A))"
   ]
  },
  {
   "cell_type": "code",
   "execution_count": 25,
   "id": "52aff7f2",
   "metadata": {},
   "outputs": [
    {
     "name": "stdout",
     "output_type": "stream",
     "text": [
      "[[1 2 0 0 0]\n",
      " [0 0 0 0 2]\n",
      " [0 0 0 0 0]\n",
      " [0 0 1 0 0]\n",
      " [0 0 0 0 1]]\n",
      "Matrix is:\n",
      "[[1 2 0 0 0]\n",
      " [0 0 0 0 2]\n",
      " [0 0 0 0 0]\n",
      " [0 0 1 0 0]\n",
      " [0 0 0 0 1]]\n",
      "Rank Of the Matrix =  3\n",
      "(3, array([[1., 2., 0., 0., 0.],\n",
      "       [0., 0., 1., 0., 0.],\n",
      "       [0., 0., 0., 0., 1.],\n",
      "       [0., 0., 0., 0., 0.],\n",
      "       [0., 0., 0., 0., 0.]]))\n"
     ]
    }
   ],
   "source": [
    "A = np.array([[1,2,0,0,0],[0,0,0,0,2],[0,0,0,0,0],[0,0,1,0,0],[0,0,0,0,1]])\n",
    "print(A)\n",
    "\n",
    "print(normalised(A))"
   ]
  },
  {
   "cell_type": "code",
   "execution_count": 26,
   "id": "249ffcdf",
   "metadata": {},
   "outputs": [
    {
     "name": "stdout",
     "output_type": "stream",
     "text": [
      "Matrix is:\n",
      "[[0 0 0 0 0]\n",
      " [0 0 0 0 2]\n",
      " [0 0 0 0 0]\n",
      " [0 0 1 0 0]\n",
      " [0 0 0 0 1]]\n",
      "Rank Of the Matrix =  2\n",
      "(2, array([[0., 0., 1., 0., 0.],\n",
      "       [0., 0., 0., 0., 1.],\n",
      "       [0., 0., 0., 0., 0.],\n",
      "       [0., 0., 0., 0., 0.],\n",
      "       [0., 0., 0., 0., 0.]]))\n"
     ]
    }
   ],
   "source": [
    "A = np.array([[0,0,0,0,0],[0,0,0,0,2],[0,0,0,0,0],[0,0,1,0,0],[0,0,0,0,1]])\n",
    "\n",
    "\n",
    "print(normalised(A))"
   ]
  },
  {
   "cell_type": "code",
   "execution_count": null,
   "id": "502f7f62",
   "metadata": {},
   "outputs": [],
   "source": []
  }
 ],
 "metadata": {
  "kernelspec": {
   "display_name": "Python 3 (ipykernel)",
   "language": "python",
   "name": "python3"
  },
  "language_info": {
   "codemirror_mode": {
    "name": "ipython",
    "version": 3
   },
   "file_extension": ".py",
   "mimetype": "text/x-python",
   "name": "python",
   "nbconvert_exporter": "python",
   "pygments_lexer": "ipython3",
   "version": "3.7.15"
  }
 },
 "nbformat": 4,
 "nbformat_minor": 5
}
