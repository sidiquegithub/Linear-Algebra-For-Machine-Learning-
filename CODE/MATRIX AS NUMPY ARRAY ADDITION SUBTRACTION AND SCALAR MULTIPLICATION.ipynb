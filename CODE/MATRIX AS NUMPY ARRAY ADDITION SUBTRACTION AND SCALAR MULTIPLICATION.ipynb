{
 "cells": [
  {
   "cell_type": "markdown",
   "id": "de15792b",
   "metadata": {},
   "source": [
    "- Special Matrices\n",
    "    - Identity\n",
    "    - One Matrix\n",
    "    - Diagonal Matrix\n",
    "\n",
    "#### <font color = Blue> Methods\n",
    "- Order of the Matrix\n",
    "    - Matrix.shape  \n",
    "- Determinant of the matrix\n",
    "    - scipy.linalg.det(Matrix) \n",
    "- Inverse of the matrix\n",
    "    - scipy.linalg.inv(Matrix)\n",
    "###     \n",
    "- Each element in a matrix\n",
    "- Question Define a function to print each element in the matrix\n",
    "- Question Define a function to Check whether two matrices are equal\n",
    "- Matrix Multiplication\n",
    "- To check a matrix is symmetric or not\n",
    "- To check a matrix is skew symmetric or not\n",
    "- Matrix partition and one of its use"
   ]
  },
  {
   "cell_type": "code",
   "execution_count": 1,
   "id": "161088bb",
   "metadata": {},
   "outputs": [],
   "source": [
    "import numpy as np\n",
    "import scipy as sc\n",
    "import scipy.linalg as la"
   ]
  },
  {
   "cell_type": "markdown",
   "id": "c66e4f75",
   "metadata": {},
   "source": [
    "#### <font color = White> Some special matrices"
   ]
  },
  {
   "cell_type": "code",
   "execution_count": 2,
   "id": "3dab987e",
   "metadata": {},
   "outputs": [
    {
     "name": "stdout",
     "output_type": "stream",
     "text": [
      "[[1. 0. 0.]\n",
      " [0. 1. 0.]\n",
      " [0. 0. 1.]]\n"
     ]
    }
   ],
   "source": [
    "# Identity matrix\n",
    "# numpy.eye(order of the matrix)\n",
    "\n",
    "print(np.eye(3))"
   ]
  },
  {
   "cell_type": "code",
   "execution_count": 3,
   "id": "a77c616a",
   "metadata": {},
   "outputs": [
    {
     "name": "stdout",
     "output_type": "stream",
     "text": [
      "[[1. 1. 1.]\n",
      " [1. 1. 1.]]\n"
     ]
    }
   ],
   "source": [
    "# Matrix with all elements ones\n",
    "# numpy.ones((number of raws,number of column))\n",
    "\n",
    "print(np.ones((2,3)))"
   ]
  },
  {
   "cell_type": "code",
   "execution_count": 71,
   "id": "01bd2427",
   "metadata": {},
   "outputs": [
    {
     "data": {
      "text/plain": [
       "array([[1, 0, 0],\n",
       "       [0, 2, 0],\n",
       "       [0, 0, 3]])"
      ]
     },
     "execution_count": 71,
     "metadata": {},
     "output_type": "execute_result"
    }
   ],
   "source": [
    "# Diagonal Matrix\n",
    "# Create a list of values for the diagonal\n",
    "diagonal_values = [1, 2, 3]\n",
    "\n",
    "# Create a diagonal matrix from the list of values\n",
    "diagonal_matrix = np.diag(diagonal_values)\n",
    "\n",
    "# Print the diagonal matrix\n",
    "diagonal_matrix"
   ]
  },
  {
   "cell_type": "markdown",
   "id": "552fd2e4",
   "metadata": {},
   "source": [
    "#### <font color = Blue> Methods\n",
    "- Order of the Matrix\n",
    "    - Matrix.shape  \n",
    "- Determinant of the matrix\n",
    "    - scipy.linalg.det(Matrix) \n",
    "- Inverse of the matrix\n",
    "    - scipy.linalg.inv(Matrix)"
   ]
  },
  {
   "cell_type": "markdown",
   "id": "bd0f3ab5",
   "metadata": {},
   "source": [
    "####  <font color = White>CREATING  1by1 MATRICES, THEIR ADDITION, SUBTRACTION AND SCALAR MULTIPLICATION"
   ]
  },
  {
   "cell_type": "markdown",
   "id": "9fbab3aa",
   "metadata": {},
   "source": [
    "1 by 1 matrix is given by\n",
    "- A = numpy.array([[a]])"
   ]
  },
  {
   "cell_type": "code",
   "execution_count": 4,
   "id": "edc9b350",
   "metadata": {},
   "outputs": [
    {
     "name": "stdout",
     "output_type": "stream",
     "text": [
      "Sum of matrices A and B: [[7]]\n",
      "Sum of matrices A and B: [[-3]]\n",
      "3 A is the matrix :  [[6]]\n"
     ]
    }
   ],
   "source": [
    "# Addition,  Subtraction, Scalar Multiplication\n",
    "A = np.array([[2]])\n",
    "B = np.array([[5]])\n",
    "\n",
    "print('Sum of matrices A and B:', A + B)\n",
    "print('Sum of matrices A and B:', A - B) \n",
    "print(\"3 A is the matrix : \", 3*A)"
   ]
  },
  {
   "cell_type": "code",
   "execution_count": 5,
   "id": "3104a160",
   "metadata": {},
   "outputs": [
    {
     "data": {
      "text/plain": [
       "(1, 1)"
      ]
     },
     "execution_count": 5,
     "metadata": {},
     "output_type": "execute_result"
    }
   ],
   "source": [
    "#Order of the matrix\n",
    "A.shape"
   ]
  },
  {
   "cell_type": "code",
   "execution_count": 6,
   "id": "890c270d",
   "metadata": {},
   "outputs": [
    {
     "data": {
      "text/plain": [
       "2.0"
      ]
     },
     "execution_count": 6,
     "metadata": {},
     "output_type": "execute_result"
    }
   ],
   "source": [
    "# Determinant of the matrix\n",
    "# Determinant of a one by one matrix is the entry itself\n",
    "\n",
    "la.det(A)"
   ]
  },
  {
   "cell_type": "code",
   "execution_count": 7,
   "id": "294c054e",
   "metadata": {},
   "outputs": [
    {
     "data": {
      "text/plain": [
       "-3.0"
      ]
     },
     "execution_count": 7,
     "metadata": {},
     "output_type": "execute_result"
    }
   ],
   "source": [
    "la.det(A-B)"
   ]
  },
  {
   "cell_type": "code",
   "execution_count": 8,
   "id": "f21e22e2",
   "metadata": {},
   "outputs": [
    {
     "data": {
      "text/plain": [
       "array([[0.5]])"
      ]
     },
     "execution_count": 8,
     "metadata": {},
     "output_type": "execute_result"
    }
   ],
   "source": [
    "# Inverse \n",
    "la.inv(A)"
   ]
  },
  {
   "cell_type": "code",
   "execution_count": 9,
   "id": "084a52bc",
   "metadata": {},
   "outputs": [
    {
     "data": {
      "text/plain": [
       "array([[0.2]])"
      ]
     },
     "execution_count": 9,
     "metadata": {},
     "output_type": "execute_result"
    }
   ],
   "source": [
    "la.inv(B)"
   ]
  },
  {
   "cell_type": "markdown",
   "id": "cb9664f2",
   "metadata": {},
   "source": [
    "####  <font Color = White>CREATING  2by2 MATRICES"
   ]
  },
  {
   "cell_type": "code",
   "execution_count": 10,
   "id": "11230b52",
   "metadata": {},
   "outputs": [
    {
     "data": {
      "text/plain": [
       "array([[ 1,  2],\n",
       "       [ 4, -1]])"
      ]
     },
     "execution_count": 10,
     "metadata": {},
     "output_type": "execute_result"
    }
   ],
   "source": [
    "A = np.array([[1,2],[4,-1]])\n",
    "A"
   ]
  },
  {
   "cell_type": "code",
   "execution_count": 11,
   "id": "0f696f73",
   "metadata": {},
   "outputs": [
    {
     "data": {
      "text/plain": [
       "(2, 2)"
      ]
     },
     "execution_count": 11,
     "metadata": {},
     "output_type": "execute_result"
    }
   ],
   "source": [
    "# Order\n",
    "A.shape"
   ]
  },
  {
   "cell_type": "code",
   "execution_count": 12,
   "id": "27515142",
   "metadata": {},
   "outputs": [
    {
     "data": {
      "text/plain": [
       "-9.0"
      ]
     },
     "execution_count": 12,
     "metadata": {},
     "output_type": "execute_result"
    }
   ],
   "source": [
    "# Determinant\n",
    "la.det(A)"
   ]
  },
  {
   "cell_type": "code",
   "execution_count": 13,
   "id": "7120d247",
   "metadata": {
    "scrolled": true
   },
   "outputs": [
    {
     "data": {
      "text/plain": [
       "array([[ 0.11111111,  0.22222222],\n",
       "       [ 0.44444444, -0.11111111]])"
      ]
     },
     "execution_count": 13,
     "metadata": {},
     "output_type": "execute_result"
    }
   ],
   "source": [
    "# Inverse\n",
    "la.inv(A)"
   ]
  },
  {
   "cell_type": "code",
   "execution_count": 14,
   "id": "11d60c1f",
   "metadata": {},
   "outputs": [
    {
     "data": {
      "text/plain": [
       "array([[ 1,  4],\n",
       "       [ 2, -1]])"
      ]
     },
     "execution_count": 14,
     "metadata": {},
     "output_type": "execute_result"
    }
   ],
   "source": [
    "#Transpose\n",
    "A.T"
   ]
  },
  {
   "cell_type": "markdown",
   "id": "5a1d6387",
   "metadata": {},
   "source": [
    "### <font color = Blue> Accessing elements and raws in the matrix"
   ]
  },
  {
   "cell_type": "code",
   "execution_count": 15,
   "id": "355f84c8",
   "metadata": {},
   "outputs": [],
   "source": [
    "A = np.array([[56,78,90],[24,65,78]])"
   ]
  },
  {
   "cell_type": "code",
   "execution_count": 16,
   "id": "da53e323",
   "metadata": {},
   "outputs": [
    {
     "name": "stdout",
     "output_type": "stream",
     "text": [
      "[56 78 90]\n",
      "[24 65 78]\n"
     ]
    }
   ],
   "source": [
    "#Raws in the matrix\n",
    "print(A[0])\n",
    "print(A[1])"
   ]
  },
  {
   "cell_type": "code",
   "execution_count": 17,
   "id": "8fda9656",
   "metadata": {},
   "outputs": [
    {
     "data": {
      "text/plain": [
       "78"
      ]
     },
     "execution_count": 17,
     "metadata": {},
     "output_type": "execute_result"
    }
   ],
   "source": [
    "# Elements in the matrix\n",
    "A[0,1] # Elelmment in raw 0 and column 1"
   ]
  },
  {
   "cell_type": "code",
   "execution_count": 18,
   "id": "b7ff4f35",
   "metadata": {},
   "outputs": [
    {
     "data": {
      "text/plain": [
       "3"
      ]
     },
     "execution_count": 18,
     "metadata": {},
     "output_type": "execute_result"
    }
   ],
   "source": [
    "A.shape[1]"
   ]
  },
  {
   "cell_type": "markdown",
   "id": "79957197",
   "metadata": {},
   "source": [
    "### <font color = Blue>Question Define a function to print each element in the matrix"
   ]
  },
  {
   "cell_type": "code",
   "execution_count": 19,
   "id": "c883ffb5",
   "metadata": {},
   "outputs": [],
   "source": [
    "# Use for loop to print each element in a matrix\n",
    "def elements(A):\n",
    "    \n",
    "    m = A.shape[0]   #Number of raws \n",
    "    n = A.shape[1]\n",
    "    for i in range(0,m):\n",
    "        for j in range(0,n):\n",
    "            print(A[i,j])"
   ]
  },
  {
   "cell_type": "code",
   "execution_count": 20,
   "id": "66439b48",
   "metadata": {},
   "outputs": [
    {
     "name": "stdout",
     "output_type": "stream",
     "text": [
      "56\n",
      "78\n",
      "90\n",
      "24\n",
      "65\n",
      "78\n"
     ]
    }
   ],
   "source": [
    "elements(A)"
   ]
  },
  {
   "cell_type": "markdown",
   "id": "e0ddf129",
   "metadata": {},
   "source": [
    "### <font color = Blue> Question Define a function to Check whether two matrices are equal"
   ]
  },
  {
   "cell_type": "code",
   "execution_count": 21,
   "id": "1495398c",
   "metadata": {},
   "outputs": [],
   "source": [
    "# This will check each elements are equal or not\n",
    "def equal_elements(A,B):\n",
    "    n = A.shape[0]\n",
    "    m = A.shape[1]\n",
    "    \n",
    "    p = B.shape[0]\n",
    "    q = B.shape[1]\n",
    "    \n",
    "    if A.shape == B.shape:\n",
    "        print(\"Order is same\")\n",
    "        for i in range(0,n):\n",
    "            for j in range(0,m):\n",
    "                if A[i,j] == B[i,j]:\n",
    "                    print(f'A[{i},{j}] = B[{i},{j}] = {A[i, j]}')\n",
    "                else:\n",
    "                    print('Matrices are not equal')\n",
    "    else:\n",
    "        print(\"Order is not same\")"
   ]
  },
  {
   "cell_type": "code",
   "execution_count": 22,
   "id": "3125a82b",
   "metadata": {},
   "outputs": [
    {
     "name": "stdout",
     "output_type": "stream",
     "text": [
      "Order is not same\n"
     ]
    }
   ],
   "source": [
    "# Define matrices\n",
    "A = np.array([[2,3,5],[1,2,4]])\n",
    "B = np.array([[1,2],[3,4],[1,5]])\n",
    "\n",
    "# Call function\n",
    "equal_elements(A,B)"
   ]
  },
  {
   "cell_type": "code",
   "execution_count": 23,
   "id": "ab2f45c6",
   "metadata": {
    "scrolled": true
   },
   "outputs": [
    {
     "name": "stdout",
     "output_type": "stream",
     "text": [
      "Order is same\n",
      "A[0,0] = B[0,0] = 2\n",
      "A[0,1] = B[0,1] = 3\n",
      "A[0,2] = B[0,2] = 5\n",
      "A[1,0] = B[1,0] = 1\n",
      "A[1,1] = B[1,1] = 2\n",
      "A[1,2] = B[1,2] = 4\n"
     ]
    }
   ],
   "source": [
    "# Define matrices\n",
    "A = np.array([[2,3,5],[1,2,4]])\n",
    "B = np.array([[2,3,5],[1,2,4]])\n",
    "\n",
    "#Call function\n",
    "equal_elements(A,B)"
   ]
  },
  {
   "cell_type": "code",
   "execution_count": 24,
   "id": "5e11e094",
   "metadata": {},
   "outputs": [
    {
     "name": "stdout",
     "output_type": "stream",
     "text": [
      "Order is same\n",
      "A[0,0] = B[0,0] = 2\n",
      "Matrices are not equal\n",
      "A[0,2] = B[0,2] = 5\n",
      "A[1,0] = B[1,0] = 1\n",
      "A[1,1] = B[1,1] = 2\n",
      "A[1,2] = B[1,2] = 4\n"
     ]
    }
   ],
   "source": [
    "# Define matrices\n",
    "A = np.array([[2,3,5],[1,2,4]])\n",
    "B = np.array([[2,5,5],[1,2,4]])\n",
    "\n",
    "# Call function\n",
    "equal_elements(A,B)"
   ]
  },
  {
   "cell_type": "code",
   "execution_count": 25,
   "id": "8da8b295",
   "metadata": {},
   "outputs": [],
   "source": [
    "# We will be using flag condition to check matrices are equal or not  \n",
    "def equal_matrix(A,B):\n",
    "    flag = True\n",
    "    n = A.shape[0]\n",
    "    m = A.shape[1]\n",
    "    \n",
    "    p = B.shape[0]\n",
    "    q = B.shape[1]\n",
    "    \n",
    "    if A.shape == B.shape:\n",
    "        print(\"Order is same\")\n",
    "        for i in range(0,n):\n",
    "            for j in range(0,m):\n",
    "                if A[i,j]!= B[i,j]:\n",
    "                    flag = False\n",
    "     \n",
    "        if flag:\n",
    "            print(\"Matrices are equal.\")\n",
    "        else:\n",
    "            print(\"Matrices are not equal.\")\n",
    "    else:\n",
    "        print(\"Order is not equal so the matrices also\")\n",
    "    "
   ]
  },
  {
   "cell_type": "code",
   "execution_count": 26,
   "id": "7784b66a",
   "metadata": {},
   "outputs": [
    {
     "name": "stdout",
     "output_type": "stream",
     "text": [
      "Order is same\n",
      "Matrices are not equal.\n"
     ]
    }
   ],
   "source": [
    "# Define matrices\n",
    "A = np.array([[1,2,3,5]])\n",
    "B = np.array([[1,2,4,5]])\n",
    "\n",
    "# Call function\n",
    "equal_matrix(A,B)"
   ]
  },
  {
   "cell_type": "code",
   "execution_count": 27,
   "id": "edc85574",
   "metadata": {},
   "outputs": [
    {
     "name": "stdout",
     "output_type": "stream",
     "text": [
      "Order is same\n",
      "Matrices are equal.\n"
     ]
    }
   ],
   "source": [
    "# Define matrices\n",
    "A = np.array([[1,2,3,5]])\n",
    "B = np.array([[1,2,3,5]])\n",
    "\n",
    "# Call function\n",
    "equal_matrix(A,B)"
   ]
  },
  {
   "cell_type": "markdown",
   "id": "bddb44f0",
   "metadata": {},
   "source": [
    "#### <font color = White> numpy.array_equal(A,B) to check whether two matrices are equal or not"
   ]
  },
  {
   "cell_type": "code",
   "execution_count": 28,
   "id": "48f29360",
   "metadata": {},
   "outputs": [
    {
     "name": "stdout",
     "output_type": "stream",
     "text": [
      "True\n",
      "False\n"
     ]
    }
   ],
   "source": [
    "# Define matrices\n",
    "A = np.array([[1, 2], [3, 4]])\n",
    "B = np.array([[1, 2], [3, 4]])\n",
    "C = np.array([[1, 2], [3, 5]])\n",
    "\n",
    "print(np.array_equal(A, B))  # Output: True\n",
    "print(np.array_equal(A, C))  # Output: False"
   ]
  },
  {
   "cell_type": "markdown",
   "id": "0674f96c",
   "metadata": {},
   "source": [
    "### <font color =Blue> Matrix Multiplication"
   ]
  },
  {
   "cell_type": "code",
   "execution_count": 29,
   "id": "1bbb364d",
   "metadata": {},
   "outputs": [],
   "source": [
    "A = np.array([[2,3,5],[1,2,4]])\n",
    "B = np.array([[1,2],[3,4],[1,5]])"
   ]
  },
  {
   "cell_type": "code",
   "execution_count": 30,
   "id": "5109126b",
   "metadata": {},
   "outputs": [
    {
     "data": {
      "text/plain": [
       "array([[16, 41],\n",
       "       [11, 30]])"
      ]
     },
     "execution_count": 30,
     "metadata": {},
     "output_type": "execute_result"
    }
   ],
   "source": [
    "# Matrix multiplication\n",
    "C = np.dot(A,B)\n",
    "C"
   ]
  },
  {
   "cell_type": "code",
   "execution_count": 31,
   "id": "32b77c05",
   "metadata": {},
   "outputs": [],
   "source": [
    "# Define a function which check multiplication possible, if yes print A*B\n",
    "def mul_possible(A,B):\n",
    "    m = A.shape[1]     # no of columns of A\n",
    "    p = B.shape[0]     # no of raws of B\n",
    "    \n",
    "    if m==p:\n",
    "        C = np.dot(A,B)\n",
    "        print(\"Multiplication Possible\")\n",
    "        print(\"--\"*13)\n",
    "        print(\"A*B = \")\n",
    "        print(C)\n",
    "    else:\n",
    "        print(\"Multiplication not possible\")    "
   ]
  },
  {
   "cell_type": "code",
   "execution_count": 32,
   "id": "f0ab7404",
   "metadata": {},
   "outputs": [
    {
     "name": "stdout",
     "output_type": "stream",
     "text": [
      "Multiplication Possible\n",
      "--------------------------\n",
      "A*B = \n",
      "[[16 41]\n",
      " [11 30]]\n"
     ]
    }
   ],
   "source": [
    "mul_possible(A,B)"
   ]
  },
  {
   "cell_type": "code",
   "execution_count": 33,
   "id": "976e2ff5",
   "metadata": {},
   "outputs": [
    {
     "name": "stdout",
     "output_type": "stream",
     "text": [
      "Multiplication not possible\n"
     ]
    }
   ],
   "source": [
    "X = np.array([[1,2,3,4],[3,1,2,3]])\n",
    "Y = np.array([[1,2,3],[5,6,7],[1,6,10]])\n",
    "\n",
    "mul_possible(X,Y) # Calling above defined matrix"
   ]
  },
  {
   "cell_type": "markdown",
   "id": "5c465378",
   "metadata": {},
   "source": [
    "## <font color = Blue> To check a matrix is symmetric or not"
   ]
  },
  {
   "cell_type": "code",
   "execution_count": 34,
   "id": "dfc73d57",
   "metadata": {},
   "outputs": [],
   "source": [
    "def symmetric(A):\n",
    "    T = np.array_equal(A, A.T)\n",
    "   \n",
    "    if T == True:\n",
    "        print(\"Symmetric\")\n",
    "    else:\n",
    "        print(\"Matrix is not symmetric\")   "
   ]
  },
  {
   "cell_type": "code",
   "execution_count": 35,
   "id": "bdad1c5e",
   "metadata": {},
   "outputs": [
    {
     "name": "stdout",
     "output_type": "stream",
     "text": [
      "Matrix is not symmetric\n"
     ]
    }
   ],
   "source": [
    "X = np.array([[1,4],[2,3]])\n",
    "symmetric(X)"
   ]
  },
  {
   "cell_type": "code",
   "execution_count": 36,
   "id": "769d81f9",
   "metadata": {},
   "outputs": [
    {
     "name": "stdout",
     "output_type": "stream",
     "text": [
      "Matrix is not symmetric\n"
     ]
    }
   ],
   "source": [
    "Y = np.array([[1,2,3],[2,0,5]])\n",
    "symmetric(Y)"
   ]
  },
  {
   "cell_type": "markdown",
   "id": "4f887ef0",
   "metadata": {},
   "source": [
    "The above is a mistake, since symmetry is defined only for square matrix"
   ]
  },
  {
   "cell_type": "markdown",
   "id": "fbba07e9",
   "metadata": {},
   "source": [
    "Redefine above function properly to check square also"
   ]
  },
  {
   "cell_type": "code",
   "execution_count": 37,
   "id": "f56e13f5",
   "metadata": {},
   "outputs": [],
   "source": [
    "def symmetric(A):\n",
    "    n = A.shape[0]\n",
    "    m = A.shape[1]\n",
    "    T = np.array_equal(A, A.T)\n",
    "   \n",
    "    if n == m:\n",
    "        if T == True:\n",
    "            print(\" Martrix is symmetric\")\n",
    "        else:\n",
    "            print(\"Matrix is not symmetric\")\n",
    "    else:\n",
    "        print(\"Matrix is not square\")   "
   ]
  },
  {
   "cell_type": "code",
   "execution_count": 38,
   "id": "83a84eca",
   "metadata": {},
   "outputs": [
    {
     "name": "stdout",
     "output_type": "stream",
     "text": [
      "Matrix is not square\n"
     ]
    }
   ],
   "source": [
    "Y = np.array([[1,2,3],[2,0,5]])\n",
    "symmetric(Y)"
   ]
  },
  {
   "cell_type": "code",
   "execution_count": 39,
   "id": "d206be73",
   "metadata": {},
   "outputs": [
    {
     "name": "stdout",
     "output_type": "stream",
     "text": [
      "Matrix is not symmetric\n"
     ]
    }
   ],
   "source": [
    "X = np.array([[1,4],[2,3]])\n",
    "symmetric(X)"
   ]
  },
  {
   "cell_type": "code",
   "execution_count": 40,
   "id": "dda68ef6",
   "metadata": {},
   "outputs": [
    {
     "name": "stdout",
     "output_type": "stream",
     "text": [
      " Martrix is symmetric\n"
     ]
    }
   ],
   "source": [
    "X = np.array([[1,4],[4,0]])\n",
    "symmetric(X)"
   ]
  },
  {
   "cell_type": "code",
   "execution_count": null,
   "id": "79433ac3",
   "metadata": {},
   "outputs": [],
   "source": []
  },
  {
   "cell_type": "code",
   "execution_count": null,
   "id": "2975b61c",
   "metadata": {},
   "outputs": [],
   "source": []
  },
  {
   "cell_type": "markdown",
   "id": "d70323df",
   "metadata": {},
   "source": [
    "## <font color = Blue> To check a matrix is symmetric or not"
   ]
  },
  {
   "cell_type": "code",
   "execution_count": 41,
   "id": "e5302128",
   "metadata": {},
   "outputs": [],
   "source": [
    "def skew_symmetric(A):\n",
    "    n = A.shape[0]\n",
    "    m = A.shape[1]\n",
    "    T = np.array_equal(A, - (A.T))\n",
    "   \n",
    "    if n == m:\n",
    "        if T == True:\n",
    "            print(\" Martrix is skew-symmetric\")\n",
    "        else:\n",
    "            print(\"Matrix is not skew-symmetric\")\n",
    "    else:\n",
    "        print(\"Matrix is not square\") "
   ]
  },
  {
   "cell_type": "code",
   "execution_count": 42,
   "id": "559bc33f",
   "metadata": {},
   "outputs": [
    {
     "name": "stdout",
     "output_type": "stream",
     "text": [
      " Martrix is skew-symmetric\n"
     ]
    }
   ],
   "source": [
    "X =  np.array([[0,  2,-3],\n",
    "               [-2, 0, 1],\n",
    "               [3, -1, 0]])\n",
    "skew_symmetric(X)"
   ]
  },
  {
   "cell_type": "markdown",
   "id": "b2d4af5e",
   "metadata": {},
   "source": [
    "### <font color = Blue> Matrix partition and one of its use"
   ]
  },
  {
   "attachments": {
    "image.png": {
     "image/png": "[encoded data removed]"
    }
   },
   "cell_type": "markdown",
   "id": "c7470cbe",
   "metadata": {},
   "source": [
    "A matrix is partitioned if it is divided into submatrices by horizontal and vertical\n",
    "lines between rows and columns.\n",
    "\n",
    "![image.png](attachment:image.png)"
   ]
  },
  {
   "cell_type": "code",
   "execution_count": 43,
   "id": "bbd43fc8",
   "metadata": {},
   "outputs": [],
   "source": [
    "A = np.array([[3,1,0],[2,0,1],[0,0,3],[0,0,1],[0,0,0]])\n",
    "B = np.array([[2,1,0,0,0],[-1,1,0,0,0],[0,1,0,0,1]])"
   ]
  },
  {
   "cell_type": "code",
   "execution_count": 44,
   "id": "2e1f02ec",
   "metadata": {},
   "outputs": [
    {
     "data": {
      "text/plain": [
       "array([[5, 4, 0, 0, 0],\n",
       "       [4, 3, 0, 0, 1],\n",
       "       [0, 3, 0, 0, 3],\n",
       "       [0, 1, 0, 0, 1],\n",
       "       [0, 0, 0, 0, 0]])"
      ]
     },
     "execution_count": 44,
     "metadata": {},
     "output_type": "execute_result"
    }
   ],
   "source": [
    "# Direct method\n",
    "C = np.dot(A,B)\n",
    "C"
   ]
  },
  {
   "cell_type": "code",
   "execution_count": 45,
   "id": "2adbb31f",
   "metadata": {},
   "outputs": [],
   "source": [
    "# Using partition\n",
    "# We will use matrices for each partiotion and do corresponding matrix dot multiplication\n",
    "\n",
    "A_11 = np.array([[3,1],[2,0]])\n",
    "A_12 = np.array([[0],[1]])\n",
    "A_21 = np.array([[0,0],[0,0]])\n",
    "A_22 = np.array([[3],[1]])\n",
    "A_31 = np.array([[0,0]])\n",
    "A_32 = np.array([[0]])\n",
    "\n",
    "B_11 = np.array([[2,1],[-1,1]])\n",
    "B_12 = np.array([[0,0,0],[0,0,0]])\n",
    "B_21 = np.array([[0,1]])\n",
    "B_22 = np.array([[0,0,1]])"
   ]
  },
  {
   "cell_type": "code",
   "execution_count": 46,
   "id": "b88b0d74",
   "metadata": {},
   "outputs": [
    {
     "data": {
      "text/plain": [
       "array([[5, 4],\n",
       "       [4, 3]])"
      ]
     },
     "execution_count": 46,
     "metadata": {},
     "output_type": "execute_result"
    }
   ],
   "source": [
    "C_11 = np.dot(A_11,B_11) + np.dot(A_12,B_21)\n",
    "C_11"
   ]
  },
  {
   "cell_type": "code",
   "execution_count": 47,
   "id": "6b1f9647",
   "metadata": {},
   "outputs": [
    {
     "data": {
      "text/plain": [
       "array([[0, 0, 0],\n",
       "       [0, 0, 1]])"
      ]
     },
     "execution_count": 47,
     "metadata": {},
     "output_type": "execute_result"
    }
   ],
   "source": [
    "C_12 = np.dot(A_11,B_12) + np.dot(A_12,B_22)\n",
    "C_12"
   ]
  },
  {
   "cell_type": "code",
   "execution_count": 48,
   "id": "e324e91b",
   "metadata": {},
   "outputs": [
    {
     "data": {
      "text/plain": [
       "array([[0, 3],\n",
       "       [0, 1]])"
      ]
     },
     "execution_count": 48,
     "metadata": {},
     "output_type": "execute_result"
    }
   ],
   "source": [
    "C_21 = np.dot(A_21,B_11) + np.dot(A_22,B_21)\n",
    "C_21"
   ]
  },
  {
   "cell_type": "code",
   "execution_count": 49,
   "id": "1a849599",
   "metadata": {},
   "outputs": [
    {
     "data": {
      "text/plain": [
       "array([[0, 0, 3],\n",
       "       [0, 0, 1]])"
      ]
     },
     "execution_count": 49,
     "metadata": {},
     "output_type": "execute_result"
    }
   ],
   "source": [
    "C_22 = np.dot(A_21,B_12) + np.dot(A_22,B_22)\n",
    "C_22"
   ]
  },
  {
   "cell_type": "code",
   "execution_count": 50,
   "id": "eb158d9a",
   "metadata": {},
   "outputs": [
    {
     "data": {
      "text/plain": [
       "array([[0, 0]])"
      ]
     },
     "execution_count": 50,
     "metadata": {},
     "output_type": "execute_result"
    }
   ],
   "source": [
    "C_31 = np.dot(A_31,B_11) + np.dot(A_32,B_21)\n",
    "C_31"
   ]
  },
  {
   "cell_type": "code",
   "execution_count": 51,
   "id": "1a2a1f6c",
   "metadata": {},
   "outputs": [
    {
     "data": {
      "text/plain": [
       "array([[0, 0, 0]])"
      ]
     },
     "execution_count": 51,
     "metadata": {},
     "output_type": "execute_result"
    }
   ],
   "source": [
    "C_32 = np.dot(A_31,B_12) + np.dot(A_32,B_22)\n",
    "C_32"
   ]
  },
  {
   "cell_type": "code",
   "execution_count": 52,
   "id": "957be630",
   "metadata": {},
   "outputs": [
    {
     "data": {
      "text/plain": [
       "array([[5, 4, 0, 0, 0],\n",
       "       [4, 3, 0, 0, 1],\n",
       "       [0, 3, 0, 0, 3],\n",
       "       [0, 1, 0, 0, 1],\n",
       "       [0, 0, 0, 0, 0]])"
      ]
     },
     "execution_count": 52,
     "metadata": {},
     "output_type": "execute_result"
    }
   ],
   "source": [
    "# Concatenate above matrices to get \n",
    "C =  np.vstack((np.hstack((C_11, C_12)), np.hstack((C_21, C_22)),np.hstack((C_31, C_32))))\n",
    "C"
   ]
  },
  {
   "cell_type": "markdown",
   "id": "0e964bea",
   "metadata": {},
   "source": [
    "### <font color = Blue> Concatenate Matrices"
   ]
  },
  {
   "cell_type": "code",
   "execution_count": 53,
   "id": "98942e3e",
   "metadata": {},
   "outputs": [
    {
     "name": "stdout",
     "output_type": "stream",
     "text": [
      "[[1 2 5 6]\n",
      " [3 4 7 8]]\n",
      "[[1 2]\n",
      " [3 4]\n",
      " [5 6]\n",
      " [7 8]]\n"
     ]
    }
   ],
   "source": [
    "# Create two matrices\n",
    "A = np.array([[1, 2], [3, 4]])\n",
    "B = np.array([[5, 6], [7, 8]])\n",
    "\n",
    "# Horizontally concatenate the matrices\n",
    "C = np.hstack((A, B))\n",
    "\n",
    "# Vertically concatenate the matrices\n",
    "D = np.vstack((A, B))\n",
    "\n",
    "# Print the resulting matrices\n",
    "print(C)\n",
    "print(D)"
   ]
  },
  {
   "cell_type": "markdown",
   "id": "8b52f62c",
   "metadata": {},
   "source": [
    "#### <font color = Blue>Try to do above partition multiplication for any given matrices of order.\n",
    "\n",
    "    - Try to partiton any given 3 by 2 matrix into 2 by 2 matrix on left and 1 by 1 on right "
   ]
  },
  {
   "cell_type": "code",
   "execution_count": null,
   "id": "554727a7",
   "metadata": {},
   "outputs": [],
   "source": []
  },
  {
   "cell_type": "code",
   "execution_count": 54,
   "id": "4f87118b",
   "metadata": {},
   "outputs": [],
   "source": [
    "def partition(A):\n",
    "    C = np.empty((2,2))\n",
    "    D = np.empty((2,1))\n",
    "    \n",
    "    for i in range(0,2):\n",
    "        for j in range(0,2):\n",
    "            C[i,j] = A[i,j]\n",
    "            \n",
    "    \n",
    "    for i in range(0,2):\n",
    "        for j in (0,):\n",
    "            D[i,j] = A[i,j+2]\n",
    "    return C,D"
   ]
  },
  {
   "cell_type": "code",
   "execution_count": 55,
   "id": "6e349e9d",
   "metadata": {},
   "outputs": [
    {
     "data": {
      "text/plain": [
       "array([[1, 5, 2],\n",
       "       [4, 5, 6]])"
      ]
     },
     "execution_count": 55,
     "metadata": {},
     "output_type": "execute_result"
    }
   ],
   "source": [
    "A = np.array([[1,5,2],[4,5,6]])\n",
    "A"
   ]
  },
  {
   "cell_type": "code",
   "execution_count": 56,
   "id": "6821dd61",
   "metadata": {},
   "outputs": [],
   "source": [
    "C,D = partition(A)"
   ]
  },
  {
   "cell_type": "code",
   "execution_count": 57,
   "id": "ab3dfa1d",
   "metadata": {},
   "outputs": [
    {
     "data": {
      "text/plain": [
       "array([[1., 5.],\n",
       "       [4., 5.]])"
      ]
     },
     "execution_count": 57,
     "metadata": {},
     "output_type": "execute_result"
    }
   ],
   "source": [
    "C"
   ]
  },
  {
   "cell_type": "code",
   "execution_count": 58,
   "id": "ec8aff7a",
   "metadata": {},
   "outputs": [
    {
     "data": {
      "text/plain": [
       "array([[2.],\n",
       "       [6.]])"
      ]
     },
     "execution_count": 58,
     "metadata": {},
     "output_type": "execute_result"
    }
   ],
   "source": [
    "D"
   ]
  },
  {
   "attachments": {
    "image.png": {
     "image/png": "[encoded data removed]"
    }
   },
   "cell_type": "markdown",
   "id": "7b371238",
   "metadata": {},
   "source": [
    "#### <font color = Blue> To partitin any 5 by 3 matrix as in the following example\n",
    "![image.png](attachment:image.png)"
   ]
  },
  {
   "cell_type": "code",
   "execution_count": 59,
   "id": "55d5b83d",
   "metadata": {},
   "outputs": [],
   "source": [
    "def partition_5_by_3(A) :\n",
    "    A_11 = np.empty((2,2)).astype(int)\n",
    "    A_12 = np.empty((2,1)).astype(int)\n",
    "    A_21 = np.empty((2,2)).astype(int)\n",
    "    A_22 = np.empty((2,1)).astype(int)\n",
    "    A_31 = np.empty((1,2)).astype(int)\n",
    "    A_32 = np.empty((1,1)).astype(int)\n",
    "    \n",
    "    for i in range(0,2):\n",
    "        for j in range(0,2):\n",
    "            A_11[i,j] = A[i,j]\n",
    "    \n",
    "    \n",
    "    for i in range(0,2):\n",
    "        for j in (0,):\n",
    "            A_12[i,j] = A[i,j+2]\n",
    "            \n",
    "    for i in range(0,2):\n",
    "        for j in range(0,2):\n",
    "            A_21[i,j] = A[i+2,j]\n",
    "            \n",
    "    for i in range(0,2):\n",
    "        for j in (0,):\n",
    "            A_22[i,j] = A[i+2,j+2]\n",
    "            \n",
    "    for i in range(0,):\n",
    "        for j in range(0,2):\n",
    "            A_31 = A[i+4,j]\n",
    "            \n",
    "    for i in range(0,):\n",
    "        for j in range(0,):\n",
    "            A_32 = A[i+4,j+2]\n",
    "            \n",
    "            \n",
    "    return A_11,A_12,A_21,A_22,A_31,A_32"
   ]
  },
  {
   "cell_type": "code",
   "execution_count": 60,
   "id": "be3e9e9c",
   "metadata": {},
   "outputs": [
    {
     "data": {
      "text/plain": [
       "array([[3, 1, 0],\n",
       "       [2, 0, 1],\n",
       "       [0, 0, 3],\n",
       "       [0, 0, 1],\n",
       "       [0, 0, 0]])"
      ]
     },
     "execution_count": 60,
     "metadata": {},
     "output_type": "execute_result"
    }
   ],
   "source": [
    "A = np.array([[3,1,0],[2,0,1],[0,0,3],[0,0,1],[0,0,0]])\n",
    "A"
   ]
  },
  {
   "cell_type": "code",
   "execution_count": 61,
   "id": "aa172075",
   "metadata": {},
   "outputs": [
    {
     "data": {
      "text/plain": [
       "(array([[3, 1],\n",
       "        [2, 0]]),\n",
       " array([[0],\n",
       "        [1]]),\n",
       " array([[0, 0],\n",
       "        [0, 0]]),\n",
       " array([[3],\n",
       "        [1]]),\n",
       " array([[2, 6]]),\n",
       " array([[0]]))"
      ]
     },
     "execution_count": 61,
     "metadata": {},
     "output_type": "execute_result"
    }
   ],
   "source": [
    "partition_5_by_3(A)"
   ]
  },
  {
   "cell_type": "code",
   "execution_count": 62,
   "id": "b76cb564",
   "metadata": {},
   "outputs": [
    {
     "name": "stdout",
     "output_type": "stream",
     "text": [
      "[[2 1 3]\n",
      " [3 1 8]\n",
      " [0 0 3]\n",
      " [0 5 1]\n",
      " [0 2 1]]\n"
     ]
    },
    {
     "data": {
      "text/plain": [
       "(array([[2, 1],\n",
       "        [3, 1]]),\n",
       " array([[3],\n",
       "        [8]]),\n",
       " array([[0, 0],\n",
       "        [0, 5]]),\n",
       " array([[3],\n",
       "        [1]]),\n",
       " array([[0, 0]]),\n",
       " array([[0]]))"
      ]
     },
     "execution_count": 62,
     "metadata": {},
     "output_type": "execute_result"
    }
   ],
   "source": [
    "X = np.array([[2,1,3],[3,1,8],[0,0,3],[0,5,1],[0,2,1]])\n",
    "print(X)\n",
    "partition_5_by_3(X)"
   ]
  },
  {
   "attachments": {
    "image.png": {
     "image/png": "[encoded data removed]"
    }
   },
   "cell_type": "markdown",
   "id": "e632eb71",
   "metadata": {},
   "source": [
    "#### <font color = Blue> To partitin any 3 by 5 matrix as in the following example\n",
    "![image.png](attachment:image.png)"
   ]
  },
  {
   "cell_type": "code",
   "execution_count": 63,
   "id": "531e7191",
   "metadata": {},
   "outputs": [],
   "source": [
    "def partition_3_by_5(B):\n",
    "    B_11 = np.empty((2,2)).astype(int)\n",
    "    B_12 = np.empty((2,3)).astype(int)\n",
    "    B_21 = np.empty((1,2)).astype(int)\n",
    "    B_22 = np.empty((1,3)).astype(int)\n",
    "    \n",
    "    for i in range(0,2):\n",
    "        for j in range(0,2):\n",
    "            B_11[i,j] = B[i,j]\n",
    "            \n",
    "    for i in range(0,2):\n",
    "        for j in range(0,3):\n",
    "            B_12[i,j] = B[i,j+2]\n",
    "            \n",
    "    for i in range(0,1):\n",
    "        for j in range(0,2):\n",
    "            B_21[i,j] = B[i+2,j]\n",
    "            \n",
    "    for i in range(0,1):\n",
    "        for j in range(0,3):\n",
    "            B_22[i,j] = B[i+2,j+2]\n",
    "    \n",
    "    return B_11,B_12,B_21,B_22"
   ]
  },
  {
   "cell_type": "code",
   "execution_count": 64,
   "id": "e57295c6",
   "metadata": {},
   "outputs": [
    {
     "name": "stdout",
     "output_type": "stream",
     "text": [
      "[[ 2  1  0  0  0]\n",
      " [-1  1  0  0  0]\n",
      " [ 0  1  0  0  1]]\n"
     ]
    },
    {
     "data": {
      "text/plain": [
       "(array([[ 2,  1],\n",
       "        [-1,  1]]),\n",
       " array([[0, 0, 0],\n",
       "        [0, 0, 0]]),\n",
       " array([[0, 1]]),\n",
       " array([[0, 0, 1]]))"
      ]
     },
     "execution_count": 64,
     "metadata": {},
     "output_type": "execute_result"
    }
   ],
   "source": [
    "B = np.array([[2,1,0,0,0],[-1,1,0,0,0],[0,1,0,0,1]])\n",
    "print(B)\n",
    "partition_3_by_5(B)"
   ]
  },
  {
   "cell_type": "code",
   "execution_count": 65,
   "id": "5ae9ed6d",
   "metadata": {},
   "outputs": [
    {
     "name": "stdout",
     "output_type": "stream",
     "text": [
      "[[ 32  11   5   0   0]\n",
      " [  5   7   0   0 -10]\n",
      " [ 10   1   0  20   5]]\n"
     ]
    },
    {
     "data": {
      "text/plain": [
       "(array([[32, 11],\n",
       "        [ 5,  7]]),\n",
       " array([[  5,   0,   0],\n",
       "        [  0,   0, -10]]),\n",
       " array([[10,  1]]),\n",
       " array([[ 0, 20,  5]]))"
      ]
     },
     "execution_count": 65,
     "metadata": {},
     "output_type": "execute_result"
    }
   ],
   "source": [
    "B = np.array([[32,11,5,0,0],[5,7,0,0,-10],[10,1,0,20,5]])\n",
    "print(B)\n",
    "partition_3_by_5(B)"
   ]
  },
  {
   "cell_type": "code",
   "execution_count": 66,
   "id": "90caeaf2",
   "metadata": {},
   "outputs": [],
   "source": [
    "## Now we will combine above two partions and use it to find partiton and its products"
   ]
  },
  {
   "cell_type": "code",
   "execution_count": 67,
   "id": "955e03dc",
   "metadata": {},
   "outputs": [],
   "source": [
    "### <font color = Yellow> function for pruct using partition\n",
    "def product(A,B):\n",
    "    # partiton for A\n",
    "    A_11 = np.empty((2,2)).astype(int)\n",
    "    A_12 = np.empty((2,1)).astype(int)\n",
    "    A_21 = np.empty((2,2)).astype(int)\n",
    "    A_22 = np.empty((2,1)).astype(int)\n",
    "    A_31 = np.empty((1,2)).astype(int)\n",
    "    A_32 = np.empty((1,1)).astype(int)\n",
    "    \n",
    "    for i in range(0,2):\n",
    "        for j in range(0,2):\n",
    "            A_11[i,j] = A[i,j]\n",
    "    \n",
    "    \n",
    "    for i in range(0,2):\n",
    "        for j in (0,):\n",
    "            A_12[i,j] = A[i,j+2]\n",
    "            \n",
    "    for i in range(0,2):\n",
    "        for j in range(0,2):\n",
    "            A_21[i,j] = A[i+2,j]\n",
    "            \n",
    "    for i in range(0,2):\n",
    "        for j in (0,):\n",
    "            A_22[i,j] = A[i+2,j+2]\n",
    "            \n",
    "    for i in range(0,):\n",
    "        for j in range(0,2):\n",
    "            A_31 = A[i+4,j]\n",
    "            \n",
    "    for i in range(0,):\n",
    "        for j in range(0,):\n",
    "            A_32 = A[i+4,j+2]\n",
    "    \n",
    "    \n",
    "    # Partition for B\n",
    "    B_11 = np.empty((2,2)).astype(int)\n",
    "    B_12 = np.empty((2,3)).astype(int)\n",
    "    B_21 = np.empty((1,2)).astype(int)\n",
    "    B_22 = np.empty((1,3)).astype(int)\n",
    "    \n",
    "    for i in range(0,2):\n",
    "        for j in range(0,2):\n",
    "            B_11[i,j] = B[i,j]\n",
    "            \n",
    "    for i in range(0,2):\n",
    "        for j in range(0,3):\n",
    "            B_12[i,j] = B[i,j+2]\n",
    "            \n",
    "    for i in range(0,1):\n",
    "        for j in range(0,2):\n",
    "            B_21[i,j] = B[i+2,j]\n",
    "            \n",
    "    for i in range(0,1):\n",
    "        for j in range(0,3):\n",
    "            B_22[i,j] = B[i+2,j+2]\n",
    "    \n",
    "    # Corresponding Partiton multiplication\n",
    "    C_11 = np.dot(A_11,B_11) + np.dot(A_12,B_21)\n",
    "    C_12 = np.dot(A_11,B_12) + np.dot(A_12,B_22)\n",
    "    C_21 = np.dot(A_21,B_11) + np.dot(A_22,B_21)\n",
    "    C_22 = np.dot(A_21,B_12) + np.dot(A_22,B_22)\n",
    "    C_31 = np.dot(A_31,B_11) + np.dot(A_32,B_21)\n",
    "    C_32 = np.dot(A_31,B_12) + np.dot(A_32,B_22)\n",
    "    \n",
    "    return np.vstack((np.hstack((C_11, C_12)), np.hstack((C_21, C_22)),np.hstack((C_31, C_32))))    "
   ]
  },
  {
   "cell_type": "code",
   "execution_count": 68,
   "id": "a5a43bd0",
   "metadata": {},
   "outputs": [
    {
     "data": {
      "text/plain": [
       "array([[5, 4, 0, 0, 0],\n",
       "       [4, 3, 0, 0, 1],\n",
       "       [0, 3, 0, 0, 3],\n",
       "       [0, 1, 0, 0, 1],\n",
       "       [0, 0, 0, 0, 0]])"
      ]
     },
     "execution_count": 68,
     "metadata": {},
     "output_type": "execute_result"
    }
   ],
   "source": [
    "A = np.array([[3,1,0],[2,0,1],[0,0,3],[0,0,1],[0,0,0]])\n",
    "B = np.array([[2,1,0,0,0],[-1,1,0,0,0],[0,1,0,0,1]]) \n",
    "\n",
    "product(A,B)"
   ]
  },
  {
   "cell_type": "code",
   "execution_count": 69,
   "id": "b648e027",
   "metadata": {},
   "outputs": [],
   "source": [
    "## We will define function that calls abovr predefined partitons\n",
    "\n",
    "def product_new(A,B):\n",
    "    \n",
    "    partition_5_by_3(A)\n",
    "    partition_3_by_5(B)\n",
    "    \n",
    "    # Corresponding Partiton multiplication\n",
    "    C_11 = np.dot(A_11,B_11) + np.dot(A_12,B_21)\n",
    "    C_12 = np.dot(A_11,B_12) + np.dot(A_12,B_22)\n",
    "    C_21 = np.dot(A_21,B_11) + np.dot(A_22,B_21)\n",
    "    C_22 = np.dot(A_21,B_12) + np.dot(A_22,B_22)\n",
    "    C_31 = np.dot(A_31,B_11) + np.dot(A_32,B_21)\n",
    "    C_32 = np.dot(A_31,B_12) + np.dot(A_32,B_22)\n",
    "    \n",
    "    return np.vstack((np.hstack((C_11, C_12)), np.hstack((C_21, C_22)),np.hstack((C_31, C_32))))"
   ]
  },
  {
   "cell_type": "code",
   "execution_count": 70,
   "id": "4682c457",
   "metadata": {},
   "outputs": [
    {
     "data": {
      "text/plain": [
       "array([[5, 4, 0, 0, 0],\n",
       "       [4, 3, 0, 0, 1],\n",
       "       [0, 3, 0, 0, 3],\n",
       "       [0, 1, 0, 0, 1],\n",
       "       [0, 0, 0, 0, 0]])"
      ]
     },
     "execution_count": 70,
     "metadata": {},
     "output_type": "execute_result"
    }
   ],
   "source": [
    "product_new(A,B)"
   ]
  },
  {
   "cell_type": "markdown",
   "id": "40f76dca",
   "metadata": {},
   "source": [
    "----------\n",
    "-----"
   ]
  },
  {
   "cell_type": "code",
   "execution_count": null,
   "id": "04d86108",
   "metadata": {},
   "outputs": [],
   "source": []
  }
 ],
 "metadata": {
  "kernelspec": {
   "display_name": "Python 3 (ipykernel)",
   "language": "python",
   "name": "python3"
  },
  "language_info": {
   "codemirror_mode": {
    "name": "ipython",
    "version": 3
   },
   "file_extension": ".py",
   "mimetype": "text/x-python",
   "name": "python",
   "nbconvert_exporter": "python",
   "pygments_lexer": "ipython3",
   "version": "3.7.15"
  }
 },
 "nbformat": 4,
 "nbformat_minor": 5
}
