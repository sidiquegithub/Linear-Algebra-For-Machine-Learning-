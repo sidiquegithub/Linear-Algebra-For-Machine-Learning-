{
 "cells": [
  {
   "cell_type": "markdown",
   "id": "bb5afdb7",
   "metadata": {},
   "source": [
    "### Finding the Row Reduced Echelon Form (RREF) of a Matrix Using the SymPy Module\n",
    "To compute the row reduced echelon form (RREF) of a matrix, we can utilize the sympy module. It is also possible to convert a NumPy array into a SymPy matrix and then apply the .rref() function to find the RREF.\n",
    "\n",
    "Additionally, we have developed a custom function that computes the RREF directly, without relying on the .rref() method from SymPy."
   ]
  },
  {
   "cell_type": "code",
   "execution_count": 1,
   "id": "1f168a8c",
   "metadata": {},
   "outputs": [],
   "source": [
    "import numpy as np"
   ]
  },
  {
   "cell_type": "markdown",
   "id": "ea600e7d",
   "metadata": {},
   "source": [
    "A matrix is in row-reduced form if it satisfies the following four conditions:\n",
    "- (i) All zero rows appear below nonzero rows when both\n",
    "types are present in the matrix.\n",
    "- (ii) The first nonzero element in any nonzero row is 1.\n",
    "- (iii) All elements directly below (that is, in the same column\n",
    "but in succeeding rows from) the first nonzero element\n",
    "of a nonzero row are zero.\n",
    "- (iv) The first nonzero element of any nonzero row appears\n",
    "in a later column (further to the right) than the first\n",
    "nonzero element in any preceding row. \"\n",
    "\n",
    "\n",
    "Raw Reduced Echelon Form\n",
    "- Satisfies all the conditions of REF.\n",
    "- Each leading 1 is the only non-zero entry in its column, meaning that there are zeros above and below each leading 112"
   ]
  },
  {
   "cell_type": "markdown",
   "id": "56ffe502",
   "metadata": {},
   "source": [
    "#### QUESTION"
   ]
  },
  {
   "cell_type": "code",
   "execution_count": 14,
   "id": "86c8ca84",
   "metadata": {},
   "outputs": [],
   "source": [
    "# For the below efined matrix find raw reduced echlon form\n",
    "# Please note that belowe matrix is not defined via numpy array\n",
    "\n",
    "from sympy import Matrix\n",
    "\n",
    "\n",
    "A = Matrix([\n",
    "  [5, 6, 7],\n",
    "  [11, 23, 22],\n",
    "  [12, 21, 31]\n",
    "])"
   ]
  },
  {
   "cell_type": "markdown",
   "id": "263eb983",
   "metadata": {},
   "source": [
    "- We can make use of .rref() method from sympy to find raw reduced echlon form\n",
    "- The Matrix().rref() method in SymPy puts a matrix into reduced row echelon form (RREF) and returns a tuple of two elements:\n",
    "    - The first element is the reduced row echelon form\n",
    "    - The second element is a tuple of indices of the pivot columns \n"
   ]
  },
  {
   "cell_type": "code",
   "execution_count": 15,
   "id": "8ddfbe39",
   "metadata": {},
   "outputs": [],
   "source": [
    "raw_reduced_form, pivot_raws = A.rref()"
   ]
  },
  {
   "cell_type": "code",
   "execution_count": 16,
   "id": "d37ffa1d",
   "metadata": {},
   "outputs": [
    {
     "data": {
      "text/latex": [
       "$\\displaystyle \\left[\\begin{matrix}1 & 0 & 0\\\\0 & 1 & 0\\\\0 & 0 & 1\\end{matrix}\\right]$"
      ],
      "text/plain": [
       "Matrix([\n",
       "[1, 0, 0],\n",
       "[0, 1, 0],\n",
       "[0, 0, 1]])"
      ]
     },
     "execution_count": 16,
     "metadata": {},
     "output_type": "execute_result"
    }
   ],
   "source": [
    "raw_reduced_form"
   ]
  },
  {
   "cell_type": "code",
   "execution_count": 17,
   "id": "a508287f",
   "metadata": {},
   "outputs": [
    {
     "data": {
      "text/plain": [
       "(0, 1, 2)"
      ]
     },
     "execution_count": 17,
     "metadata": {},
     "output_type": "execute_result"
    }
   ],
   "source": [
    "# Indices of pivot columns\n",
    "pivot_raws"
   ]
  },
  {
   "cell_type": "markdown",
   "id": "2b68ee61",
   "metadata": {},
   "source": [
    "### We can usw .rref() for matrices defined like above, that is matrices defined via Matrixy \n",
    "### .rref() can't use in nump.array()"
   ]
  },
  {
   "cell_type": "code",
   "execution_count": 18,
   "id": "3961fd11",
   "metadata": {},
   "outputs": [
    {
     "ename": "AttributeError",
     "evalue": "'numpy.ndarray' object has no attribute 'rref'",
     "output_type": "error",
     "traceback": [
      "\u001b[1;31m---------------------------------------------------------------------------\u001b[0m",
      "\u001b[1;31mAttributeError\u001b[0m                            Traceback (most recent call last)",
      "\u001b[1;32m~\\AppData\\Local\\Temp\\ipykernel_21292\\1143169335.py\u001b[0m in \u001b[0;36m<module>\u001b[1;34m\u001b[0m\n\u001b[0;32m      5\u001b[0m   \u001b[1;33m[\u001b[0m\u001b[1;36m12\u001b[0m\u001b[1;33m,\u001b[0m \u001b[1;36m21\u001b[0m\u001b[1;33m,\u001b[0m \u001b[1;36m31\u001b[0m\u001b[1;33m]\u001b[0m\u001b[1;33m\u001b[0m\u001b[1;33m\u001b[0m\u001b[0m\n\u001b[0;32m      6\u001b[0m ])\n\u001b[1;32m----> 7\u001b[1;33m \u001b[0mraw_reduced_form\u001b[0m\u001b[1;33m,\u001b[0m \u001b[0mpivot_raws\u001b[0m \u001b[1;33m=\u001b[0m \u001b[0mA\u001b[0m\u001b[1;33m.\u001b[0m\u001b[0mrref\u001b[0m\u001b[1;33m(\u001b[0m\u001b[1;33m)\u001b[0m\u001b[1;33m\u001b[0m\u001b[1;33m\u001b[0m\u001b[0m\n\u001b[0m",
      "\u001b[1;31mAttributeError\u001b[0m: 'numpy.ndarray' object has no attribute 'rref'"
     ]
    }
   ],
   "source": [
    "# This will produce an error\n",
    "A = np.array([\n",
    "  [5, 6, 7],\n",
    "  [11, 23, 22],\n",
    "  [12, 21, 31]\n",
    "])\n",
    "raw_reduced_form, pivot_raws = A.rref()"
   ]
  },
  {
   "cell_type": "markdown",
   "id": "42a19025",
   "metadata": {},
   "source": [
    "### We can convert numpy n dimentionale array to sympy matrix and then use the .rref"
   ]
  },
  {
   "cell_type": "code",
   "execution_count": 20,
   "id": "581d6c8c",
   "metadata": {},
   "outputs": [
    {
     "name": "stdout",
     "output_type": "stream",
     "text": [
      "Matrix([[1, 2, 0], [0, 0, 1], [0, 0, 0]])\n",
      "(0, 2)\n"
     ]
    }
   ],
   "source": [
    "\n",
    "A = np.array([[1, 2, 1], [2, 4, 0], [3, 6, 1]])\n",
    "sympy_matrix = Matrix(A)\n",
    "raw_reduced_form, pivot_raws = sympy_matrix.rref()\n",
    "\n",
    "print(raw_reduced_form)\n",
    "print(pivot_raws)"
   ]
  },
  {
   "cell_type": "markdown",
   "id": "db01d2dd",
   "metadata": {},
   "source": [
    "----------\n",
    "-----------"
   ]
  },
  {
   "cell_type": "markdown",
   "id": "f6a9334a",
   "metadata": {},
   "source": [
    "## A custom function that computes raw reuduced echlon form of any matrix also gives the rank of the matrix"
   ]
  },
  {
   "cell_type": "markdown",
   "id": "fe0d0a50",
   "metadata": {},
   "source": [
    "#### QUESTION\n",
    "Without using .rref() write code to find raw reduced form of a matrix. "
   ]
  },
  {
   "cell_type": "markdown",
   "id": "fde9962f",
   "metadata": {},
   "source": [
    "### Answer\n",
    "- The following will give the rank of the marrix and thr Raw Reduced Echlon form of the matrix"
   ]
  },
  {
   "cell_type": "code",
   "execution_count": 22,
   "id": "ac35c37d",
   "metadata": {},
   "outputs": [],
   "source": [
    "def normalised(A):\n",
    "    \"\"\" This will take any matrix as out put and gives its raw reduced form and the rank of the matrix\n",
    "    \"\"\"\n",
    "    # Print the given matrix in the out put\n",
    "    print(\"Matrix is:\")\n",
    "    print(A)\n",
    "    \n",
    "    A = A.astype(float)\n",
    "    m = A.shape[0]  # Number of rows\n",
    "    n = A.shape[1]  # Number of columns\n",
    "    \n",
    "    # We iterate through each column \n",
    "    \n",
    "    # Raw reduced form upto last column\n",
    "    for i in range(0,n):\n",
    "        c = i              # Fixing column number\n",
    "        j = i              # Initialise raw number\n",
    "        \n",
    "        # If all columnelement are zero we move to next column\n",
    "        \n",
    "        all_zeros = all(A[j, i] == 0 for j in range(i, m))\n",
    "        if all_zeros:\n",
    "            continue  \n",
    "        \n",
    "        \n",
    "        while  j< m and A[j,c] ==0:\n",
    "            j += 1\n",
    "\n",
    "        if j ==m:\n",
    "            continue       # Move to next value of i if j becomes m. More than the number of raws        \n",
    "        \n",
    "       \n",
    "        \n",
    "        p = A[j,c]         # Fixing the non zero entry\n",
    "        \n",
    "        \n",
    "        \n",
    "        # Divide corresponding raw with non zero entry p \n",
    "        for k in range(c,n): # Avoiding raws before that columns\n",
    "            A[j,k] = A[j,k]/p\n",
    "    \n",
    "        # Make Changes to raws below the \n",
    "        if j != m-1:\n",
    "            for k in range(j+1,m):\n",
    "                q = A[k,c] # Fixing first non zero entry in the raw\n",
    "                for r in range(c,n):\n",
    "                    A[k,r] = A[k,r] - (q*A[j,r])\n",
    "        \n",
    "        \n",
    "        \n",
    "        \n",
    "        # Now interchange the raws\n",
    "        if A[i,i] != 1:         #Interchange only if the first element is not one\n",
    "            for k in range(i,m):\n",
    "                if A[k,i] !=0:\n",
    "                    A[[i,k]] = A[[k,i]]\n",
    "                    break\n",
    "    \n",
    "    \n",
    "    \n",
    "    \n",
    "    \n",
    "    # To make first non zero entry 1 and below elements as 0\n",
    "    for j in range(m):\n",
    "        \n",
    "        i = 0\n",
    "        while i < n and A[j,i] ==0:   # Search for first non zero entry\n",
    "            i += 1\n",
    "            \n",
    "        if i == n:\n",
    "            continue\n",
    "         \n",
    "        A[j,i] = A[j,i]/A[j,i]     # Making non zero entry 1\n",
    "        \n",
    "        \n",
    "        # Set all entries below 1 as zero\n",
    "        for l in range(j+1,m):\n",
    "            A[l,i] = 0\n",
    "            \n",
    "    \n",
    "    # Final Interchange \n",
    "    # We will find indices of first non zero entry in each raw\n",
    "    # We break matrix with all zero element and matrix with some non zero element\n",
    "    # We rearrange matrix with some non zero according to the index\n",
    "    # Then we use vstack to combine this matrix with zero matrix \n",
    "    \n",
    "    \n",
    "    \n",
    "    \n",
    "    \n",
    "    # Find the indices of the first non-zero entry in each row\n",
    "    indices = (A != 0).argmax(axis=1)\n",
    "    \n",
    "    # Store the row number and corresponding index in a list of tuples\n",
    "    row_index_pairs = [(row, index) if A[row, index] != 0 else (row, -1) for row, index in enumerate(indices)]\n",
    "\n",
    "\n",
    "    # Split the matrix based on row_index_pairs\n",
    "    rows_with_nonzero = [A[row] for row, index in row_index_pairs if index != -1]\n",
    "    rows_with_all_zero = [A[row] for row, index in row_index_pairs if index == -1]\n",
    "\n",
    "    # Convert lists to numpy arrays\n",
    "    matrix_with_nonzero = np.array(rows_with_nonzero)\n",
    "    matrix_with_all_zero = np.array(rows_with_all_zero)\n",
    "    \n",
    "\n",
    "    \n",
    "    # Rearrange Non Zero Matrix\n",
    "    # Find the column indices of the leading pivots\n",
    "    pivot_indices = [np.argmax(row != 0) for row in matrix_with_nonzero ]\n",
    "    \n",
    "    # Sort rows based on pivot indices\n",
    "    sorted_indices = np.argsort(pivot_indices)\n",
    "    rearranged_non_zero_matrix = matrix_with_nonzero[sorted_indices]\n",
    "    \n",
    "\n",
    "    if matrix_with_all_zero.size>0:\n",
    "        print(\"Rank Of the Matrix = \", rearranged_non_zero_matrix.shape[0] )\n",
    "        combined_matrix = np.vstack((rearranged_non_zero_matrix, matrix_with_all_zero))\n",
    "        \n",
    "        \n",
    "    else:\n",
    "        print(\"Rank of the Matrix is \", m)\n",
    "        combined_matrix = rearranged_non_zero_matrix\n",
    "    \n",
    "    \n",
    "    print(\"Raw Reduced Echlon form is\")\n",
    "    return combined_matrix"
   ]
  },
  {
   "cell_type": "code",
   "execution_count": 23,
   "id": "ddc794da",
   "metadata": {},
   "outputs": [
    {
     "name": "stdout",
     "output_type": "stream",
     "text": [
      "Matrix is:\n",
      "[[0 2 0 0 0]\n",
      " [0 0 0 0 2]\n",
      " [0 0 0 0 0]\n",
      " [0 0 1 0 0]\n",
      " [0 0 0 0 1]]\n",
      "Rank Of the Matrix =  3\n",
      "Raw Reduced Echlon form is\n",
      "[[0. 1. 0. 0. 0.]\n",
      " [0. 0. 1. 0. 0.]\n",
      " [0. 0. 0. 0. 1.]\n",
      " [0. 0. 0. 0. 0.]\n",
      " [0. 0. 0. 0. 0.]]\n"
     ]
    }
   ],
   "source": [
    "A = np.array([[0,2,0,0,0],[0,0,0,0,2],[0,0,0,0,0],[0,0,1,0,0],[0,0,0,0,1]])\n",
    "\n",
    "\n",
    "print(normalised(A))"
   ]
  },
  {
   "cell_type": "code",
   "execution_count": 24,
   "id": "385a0563",
   "metadata": {},
   "outputs": [
    {
     "name": "stdout",
     "output_type": "stream",
     "text": [
      "[[1 2 0 0 0]\n",
      " [0 0 0 0 2]\n",
      " [0 0 0 0 0]\n",
      " [0 0 1 0 0]\n",
      " [0 0 0 0 1]]\n",
      "Matrix is:\n",
      "[[1 2 0 0 0]\n",
      " [0 0 0 0 2]\n",
      " [0 0 0 0 0]\n",
      " [0 0 1 0 0]\n",
      " [0 0 0 0 1]]\n",
      "Rank Of the Matrix =  3\n",
      "Raw Reduced Echlon form is\n",
      "[[1. 2. 0. 0. 0.]\n",
      " [0. 0. 1. 0. 0.]\n",
      " [0. 0. 0. 0. 1.]\n",
      " [0. 0. 0. 0. 0.]\n",
      " [0. 0. 0. 0. 0.]]\n"
     ]
    }
   ],
   "source": [
    "A = np.array([[1,2,0,0,0],[0,0,0,0,2],[0,0,0,0,0],[0,0,1,0,0],[0,0,0,0,1]])\n",
    "print(A)\n",
    "\n",
    "print(normalised(A))"
   ]
  },
  {
   "cell_type": "code",
   "execution_count": 25,
   "id": "2cf8f9f0",
   "metadata": {},
   "outputs": [
    {
     "name": "stdout",
     "output_type": "stream",
     "text": [
      "Matrix is:\n",
      "[[0 0 0 0 0]\n",
      " [0 0 0 0 2]\n",
      " [0 0 0 0 0]\n",
      " [0 0 1 0 0]\n",
      " [0 0 0 0 1]]\n",
      "Rank Of the Matrix =  2\n",
      "Raw Reduced Echlon form is\n",
      "[[0. 0. 1. 0. 0.]\n",
      " [0. 0. 0. 0. 1.]\n",
      " [0. 0. 0. 0. 0.]\n",
      " [0. 0. 0. 0. 0.]\n",
      " [0. 0. 0. 0. 0.]]\n"
     ]
    }
   ],
   "source": [
    "A = np.array([[0,0,0,0,0],[0,0,0,0,2],[0,0,0,0,0],[0,0,1,0,0],[0,0,0,0,1]])\n",
    "\n",
    "\n",
    "print(normalised(A))"
   ]
  },
  {
   "cell_type": "code",
   "execution_count": 26,
   "id": "e1040a73",
   "metadata": {},
   "outputs": [
    {
     "name": "stdout",
     "output_type": "stream",
     "text": [
      "Matrix is:\n",
      "[[1 2 0]\n",
      " [0 0 2]\n",
      " [0 0 0]\n",
      " [0 0 1]\n",
      " [0 0 0]]\n",
      "Rank Of the Matrix =  2\n",
      "Raw Reduced Echlon form is\n",
      "[[1. 2. 0.]\n",
      " [0. 0. 1.]\n",
      " [0. 0. 0.]\n",
      " [0. 0. 0.]\n",
      " [0. 0. 0.]]\n"
     ]
    }
   ],
   "source": [
    "A = np.array([[1,2,0],[0,0,2],[0,0,0],[0,0,1],[0,0,0]])\n",
    "\n",
    "\n",
    "print(normalised(A))"
   ]
  },
  {
   "cell_type": "code",
   "execution_count": 27,
   "id": "fb14f256",
   "metadata": {},
   "outputs": [
    {
     "name": "stdout",
     "output_type": "stream",
     "text": [
      "Matrix is:\n",
      "[[1 2 0]\n",
      " [0 0 0]\n",
      " [0 0 1]\n",
      " [0 0 0]\n",
      " [0 0 2]]\n",
      "Rank Of the Matrix =  2\n",
      "Raw Reduced Echlon form is\n",
      "[[1. 2. 0.]\n",
      " [0. 0. 1.]\n",
      " [0. 0. 0.]\n",
      " [0. 0. 0.]\n",
      " [0. 0. 0.]]\n"
     ]
    }
   ],
   "source": [
    "A = np.array([[1,2,0],[0,0,0],[0,0,1],[0,0,0],[0,0,2]])\n",
    "\n",
    "print(normalised(A))"
   ]
  },
  {
   "cell_type": "code",
   "execution_count": null,
   "id": "8a95b167",
   "metadata": {},
   "outputs": [],
   "source": []
  },
  {
   "cell_type": "code",
   "execution_count": 28,
   "id": "93f31058",
   "metadata": {},
   "outputs": [
    {
     "name": "stdout",
     "output_type": "stream",
     "text": [
      "Matrix is:\n",
      "[[6.83880968e-01 6.95565569e-01 4.36363802e-01 9.72616530e-01\n",
      "  9.74563964e-01 8.56700824e-01 4.81258751e-01 3.18068878e-01\n",
      "  7.67453064e-01 7.26152973e-01]\n",
      " [3.62519959e-01 3.88459769e-01 5.24490161e-01 2.97221060e-01\n",
      "  4.80239891e-01 8.05112434e-01 8.40119145e-01 5.23519967e-01\n",
      "  8.62246161e-01 1.55572829e-04]\n",
      " [5.32701086e-01 9.18242361e-01 8.34335834e-01 5.36666066e-01\n",
      "  4.04239300e-01 1.16933167e-01 5.66844356e-01 5.04809609e-01\n",
      "  7.88354399e-01 4.01829040e-01]\n",
      " [7.54890677e-01 9.30125558e-01 1.20948839e-01 6.64010885e-01\n",
      "  6.32604357e-01 8.03459514e-01 1.40472272e-01 5.09319248e-01\n",
      "  5.64579239e-01 3.64498699e-02]\n",
      " [8.11901970e-01 4.35364212e-02 6.47994867e-01 1.26202254e-02\n",
      "  8.67239033e-01 9.35172473e-01 7.98154876e-02 8.42014389e-01\n",
      "  9.10148336e-01 4.28537966e-01]\n",
      " [2.23963685e-01 4.26217871e-01 7.98729445e-02 6.17644955e-01\n",
      "  9.00174511e-01 2.71946059e-01 2.41313189e-01 6.91456918e-01\n",
      "  8.60200588e-01 5.58100063e-01]\n",
      " [6.91263628e-01 9.13022059e-01 8.32461631e-01 8.88553160e-01\n",
      "  7.41937893e-01 2.87717938e-01 8.20739049e-01 7.99649492e-01\n",
      "  4.33829646e-01 1.85809806e-01]\n",
      " [8.52974143e-01 6.66116116e-01 7.49545603e-02 9.08575844e-01\n",
      "  3.15130400e-01 6.16746906e-01 7.91269521e-01 4.43211591e-01\n",
      "  9.24338350e-02 4.05803764e-01]\n",
      " [1.79164684e-01 5.63818532e-02 2.69797377e-01 7.72307992e-01\n",
      "  1.39845850e-01 8.16530249e-01 7.17905715e-01 1.31050058e-01\n",
      "  2.83898723e-01 5.99017770e-01]\n",
      " [8.50611762e-01 5.07045235e-01 6.45872976e-01 5.30016032e-01\n",
      "  6.67354023e-01 9.57848861e-01 1.79370341e-01 1.70717287e-01\n",
      "  8.94225453e-01 1.31645201e-01]]\n",
      "Rank of the Matrix is  10\n",
      "Raw Reduced Echlon form is\n",
      "[[  1.           1.01708572   0.63806981   1.42220149   1.42504911\n",
      "    1.25270458   0.70371713   0.46509392   1.12220269   1.06181193]\n",
      " [  0.           1.          14.84749737 -11.05826657  -1.84184379\n",
      "   17.77493636  29.62679855  17.97407244  23.06430257 -19.48619975]\n",
      " [  0.           0.           1.          -0.77370366  -0.06643252\n",
      "    1.4213794    2.15137645   1.27760895   1.66676674  -1.40764059]\n",
      " [  0.           0.           0.           1.           0.43281532\n",
      "   -1.20117712  -1.00375711  -1.0293653   -0.7804755    1.98103099]\n",
      " [  0.           0.           0.           0.           1.\n",
      "    5.7659867    5.1031953    1.87098617   3.23296843  -3.49414491]\n",
      " [  0.           0.           0.           0.           0.\n",
      "    1.           0.88074468   0.07713904   0.34063027  -0.67150352]\n",
      " [  0.           0.           0.           0.           0.\n",
      "    0.           1.           1.2789019   -0.9391732   -1.93284588]\n",
      " [  0.           0.           0.           0.           0.\n",
      "    0.           0.           1.          -4.67124686  -5.77191865]\n",
      " [  0.           0.           0.           0.           0.\n",
      "    0.           0.           0.           1.           1.14582335]\n",
      " [  0.           0.           0.           0.           0.\n",
      "    0.           0.           0.           0.           1.        ]]\n"
     ]
    }
   ],
   "source": [
    "# Create a 10x10 matrix of random numbers between 0 and 1\n",
    "matrix = np.random.rand(10, 10)\n",
    "print(normalised(matrix))"
   ]
  },
  {
   "cell_type": "code",
   "execution_count": null,
   "id": "2ad24a35",
   "metadata": {},
   "outputs": [],
   "source": []
  }
 ],
 "metadata": {
  "kernelspec": {
   "display_name": "Python 3 (ipykernel)",
   "language": "python",
   "name": "python3"
  },
  "language_info": {
   "codemirror_mode": {
    "name": "ipython",
    "version": 3
   },
   "file_extension": ".py",
   "mimetype": "text/x-python",
   "name": "python",
   "nbconvert_exporter": "python",
   "pygments_lexer": "ipython3",
   "version": "3.7.15"
  }
 },
 "nbformat": 4,
 "nbformat_minor": 5
}
