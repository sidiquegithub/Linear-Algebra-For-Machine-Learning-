{
 "cells": [
  {
   "cell_type": "code",
   "execution_count": 1,
   "id": "1f168a8c",
   "metadata": {},
   "outputs": [],
   "source": [
    "import numpy as np"
   ]
  },
  {
   "cell_type": "markdown",
   "id": "ea600e7d",
   "metadata": {},
   "source": [
    "A matrix is in row-reduced form if it satisfies the following four conditions:\n",
    "- (i) All zero rows appear below nonzero rows when both\n",
    "types are present in the matrix.\n",
    "- (ii) The first nonzero element in any nonzero row is 1.\n",
    "- (iii) All elements directly below (that is, in the same column\n",
    "but in succeeding rows from) the first nonzero element\n",
    "of a nonzero row are zero.\n",
    "- (iv) The first nonzero element of any nonzero row appears\n",
    "in a later column (further to the right) than the first\n",
    "nonzero element in any preceding row. \"\n",
    "\n",
    "\n",
    "Raw Reduced Echelon Form\n",
    "- Satisfies all the conditions of REF.\n",
    "- Each leading 1 is the only non-zero entry in its column, meaning that there are zeros above and below each leading 112"
   ]
  },
  {
   "cell_type": "markdown",
   "id": "56ffe502",
   "metadata": {},
   "source": [
    "#### QUESTION"
   ]
  },
  {
   "cell_type": "code",
   "execution_count": 2,
   "id": "86c8ca84",
   "metadata": {},
   "outputs": [],
   "source": [
    "# For the below efined matrix find raw reduced echlon form\n",
    "# Please note that belowe matrix is not defined via numpy array\n",
    "\n",
    "from sympy import Matrix\n",
    "\n",
    "\n",
    "A = Matrix([\n",
    "  [5, 6, 7],\n",
    "  [11, 23, 22],\n",
    "  [12, 21, 31]\n",
    "])"
   ]
  },
  {
   "cell_type": "markdown",
   "id": "263eb983",
   "metadata": {},
   "source": [
    "- We can make use of .rref() method from sympy to find raw reduced echlon form\n",
    "- The Matrix().rref() method in SymPy puts a matrix into reduced row echelon form (RREF) and returns a tuple of two elements:\n",
    "    - The first element is the reduced row echelon form\n",
    "    - The second element is a tuple of indices of the pivot columns \n"
   ]
  },
  {
   "cell_type": "code",
   "execution_count": 3,
   "id": "8ddfbe39",
   "metadata": {},
   "outputs": [],
   "source": [
    "raw_reduced_form, pivot_raws = A.rref()"
   ]
  },
  {
   "cell_type": "code",
   "execution_count": 4,
   "id": "d37ffa1d",
   "metadata": {},
   "outputs": [
    {
     "data": {
      "text/latex": [
       "$\\displaystyle \\left[\\begin{matrix}1 & 0 & 0\\\\0 & 1 & 0\\\\0 & 0 & 1\\end{matrix}\\right]$"
      ],
      "text/plain": [
       "Matrix([\n",
       "[1, 0, 0],\n",
       "[0, 1, 0],\n",
       "[0, 0, 1]])"
      ]
     },
     "execution_count": 4,
     "metadata": {},
     "output_type": "execute_result"
    }
   ],
   "source": [
    "raw_reduced_form"
   ]
  },
  {
   "cell_type": "code",
   "execution_count": 5,
   "id": "a508287f",
   "metadata": {},
   "outputs": [
    {
     "data": {
      "text/plain": [
       "(0, 1, 2)"
      ]
     },
     "execution_count": 5,
     "metadata": {},
     "output_type": "execute_result"
    }
   ],
   "source": [
    "# Indices of pivot columns\n",
    "pivot_raws"
   ]
  },
  {
   "cell_type": "markdown",
   "id": "2b68ee61",
   "metadata": {},
   "source": [
    "### We can usw .rref() for matrices defined like above, that is matrices defined via Matrixy \n",
    "### .rref() can't use in nump.array()"
   ]
  },
  {
   "cell_type": "code",
   "execution_count": 6,
   "id": "3961fd11",
   "metadata": {},
   "outputs": [
    {
     "ename": "AttributeError",
     "evalue": "'numpy.ndarray' object has no attribute 'rref'",
     "output_type": "error",
     "traceback": [
      "\u001b[1;31m---------------------------------------------------------------------------\u001b[0m",
      "\u001b[1;31mAttributeError\u001b[0m                            Traceback (most recent call last)",
      "\u001b[1;32m~\\AppData\\Local\\Temp\\ipykernel_14008\\1143169335.py\u001b[0m in \u001b[0;36m<module>\u001b[1;34m\u001b[0m\n\u001b[0;32m      5\u001b[0m   \u001b[1;33m[\u001b[0m\u001b[1;36m12\u001b[0m\u001b[1;33m,\u001b[0m \u001b[1;36m21\u001b[0m\u001b[1;33m,\u001b[0m \u001b[1;36m31\u001b[0m\u001b[1;33m]\u001b[0m\u001b[1;33m\u001b[0m\u001b[1;33m\u001b[0m\u001b[0m\n\u001b[0;32m      6\u001b[0m ])\n\u001b[1;32m----> 7\u001b[1;33m \u001b[0mraw_reduced_form\u001b[0m\u001b[1;33m,\u001b[0m \u001b[0mpivot_raws\u001b[0m \u001b[1;33m=\u001b[0m \u001b[0mA\u001b[0m\u001b[1;33m.\u001b[0m\u001b[0mrref\u001b[0m\u001b[1;33m(\u001b[0m\u001b[1;33m)\u001b[0m\u001b[1;33m\u001b[0m\u001b[1;33m\u001b[0m\u001b[0m\n\u001b[0m",
      "\u001b[1;31mAttributeError\u001b[0m: 'numpy.ndarray' object has no attribute 'rref'"
     ]
    }
   ],
   "source": [
    "# This will produce an error\n",
    "A = np.array([\n",
    "  [5, 6, 7],\n",
    "  [11, 23, 22],\n",
    "  [12, 21, 31]\n",
    "])\n",
    "raw_reduced_form, pivot_raws = A.rref()"
   ]
  },
  {
   "cell_type": "markdown",
   "id": "fe0d0a50",
   "metadata": {},
   "source": [
    "#### QUESTION\n",
    "Without using .rref() write code to find raw reduced form of a matrix. "
   ]
  },
  {
   "cell_type": "code",
   "execution_count": 8,
   "id": "5355d5ca",
   "metadata": {},
   "outputs": [],
   "source": [
    "# Normalise the raws\n",
    "def raw_reduced(A):\n",
    "\n",
    "    # Convert A to a floating-point data type to perform devision properly\n",
    "    A = A.astype(float)  \n",
    "    m = A.shape[0]         # Number of raws\n",
    "    n = A.shape[1]        # Number of columns\n",
    "\n",
    "\n",
    "    # The following will find first non zero entry in first column also raw number of first non zero entry\n",
    "    i = 0\n",
    "    while A[i,0] ==0:\n",
    "        i += 1\n",
    "    \n",
    "    p = A[i,0]               # Set first non-zero element in the raw\n",
    "    for j in range(0,n):  \n",
    "        A[i,j] = A[i,j]/p    # Divide each element in the raw with first non zero element\n",
    "    \n",
    "    \n",
    "    if i != m-1:            # Do this only if the non zero raw is not last raw\n",
    "        for k in range(i+1,m):               # Moving to next raw\n",
    "            q = A[k,0] # Fixing non zero entry of the raw\n",
    "            for j in range(0,n):\n",
    "                A[k,j] = A[k,j] - (q*A[i,j])\n",
    "            \n",
    "    return A"
   ]
  },
  {
   "cell_type": "code",
   "execution_count": 9,
   "id": "f9d218ba",
   "metadata": {},
   "outputs": [],
   "source": [
    "# Interchange the raws\n",
    "def interchange_raws(A):\n",
    "    i = 0             # Jus to show we are working with first column\n",
    "    if A[0,0] != 1:    # Interchange only if the first element is not one \n",
    "        for k in range(3):    # Find index of raw with element 1\n",
    "            if A[k, 0] != 0:\n",
    "                A[[0, k]] = A[[k, 0]]\n",
    "                return A\n",
    "                break \n",
    "                \n",
    "    else:\n",
    "        return A"
   ]
  },
  {
   "cell_type": "code",
   "execution_count": 10,
   "id": "d6c65cd7",
   "metadata": {},
   "outputs": [],
   "source": [
    "# Main function Edited\n",
    "\n",
    "def function_2(A):\n",
    "    i = 0\n",
    "\n",
    "    if any(A[j,0] != 0 for j in range(0,3)):  # Let us try with 3 raws\n",
    "        B = raw_reduced(A)  # Normalise\n",
    "        C = interchange_raws(B) # Interchange\n",
    "        return C\n",
    "    else:\n",
    "        None"
   ]
  },
  {
   "cell_type": "code",
   "execution_count": 11,
   "id": "3c219006",
   "metadata": {},
   "outputs": [
    {
     "name": "stdout",
     "output_type": "stream",
     "text": [
      "None\n"
     ]
    }
   ],
   "source": [
    "A = np.array([\n",
    "  [0,5,  7],\n",
    "  [0,0, 23],\n",
    "  [0,4,13]\n",
    "])\n",
    "\n",
    "print(function_2(A))"
   ]
  },
  {
   "cell_type": "code",
   "execution_count": 12,
   "id": "3a6dd30b",
   "metadata": {},
   "outputs": [
    {
     "name": "stdout",
     "output_type": "stream",
     "text": [
      "[[ 1.          0.23809524  0.33333333]\n",
      " [ 0.          0.         23.        ]\n",
      " [ 0.          4.         13.        ]]\n"
     ]
    }
   ],
   "source": [
    "A = np.array([\n",
    "  [21,5,  7],\n",
    "  [0,0, 23],\n",
    "  [0,4,13]\n",
    "])\n",
    "\n",
    "print(function_2(A))"
   ]
  },
  {
   "cell_type": "code",
   "execution_count": 13,
   "id": "7a1252d7",
   "metadata": {
    "scrolled": true
   },
   "outputs": [
    {
     "name": "stdout",
     "output_type": "stream",
     "text": [
      "[[  1.           0.23809524   0.33333333]\n",
      " [  0.         -10.           9.        ]\n",
      " [  0.           4.          13.        ]]\n"
     ]
    }
   ],
   "source": [
    "A = np.array([\n",
    "  [21,5,  7],\n",
    "  [42,0, 23],\n",
    "  [0,4,13]\n",
    "])\n",
    "\n",
    "print(function_2(A))"
   ]
  },
  {
   "cell_type": "code",
   "execution_count": 14,
   "id": "87f26c6b",
   "metadata": {},
   "outputs": [
    {
     "name": "stdout",
     "output_type": "stream",
     "text": [
      "[[  1.           0.23809524   0.33333333]\n",
      " [  0.         -10.           9.        ]\n",
      " [  0.         -11.          -8.        ]]\n"
     ]
    }
   ],
   "source": [
    "A = np.array([\n",
    "  [21,5,  7],\n",
    "  [42,0, 23],\n",
    "  [63,4,13]\n",
    "])\n",
    "\n",
    "print(function_2(A))"
   ]
  },
  {
   "cell_type": "code",
   "execution_count": 15,
   "id": "c5ce79bf",
   "metadata": {},
   "outputs": [
    {
     "name": "stdout",
     "output_type": "stream",
     "text": [
      "[[  1.   2.  10.]\n",
      " [  0.   5.  10.]\n",
      " [  0. 360. -70.]]\n"
     ]
    }
   ],
   "source": [
    "A = np.array([\n",
    "  [0,5,  10],\n",
    "  [5,10, 50],\n",
    "  [20,400,130]\n",
    "])\n",
    "\n",
    "print(function_2(A))"
   ]
  },
  {
   "cell_type": "code",
   "execution_count": 16,
   "id": "21e58a72",
   "metadata": {},
   "outputs": [
    {
     "name": "stdout",
     "output_type": "stream",
     "text": [
      "[[ 1.  20.   6.5]\n",
      " [ 0.  10.  50. ]\n",
      " [ 0.   5.  10. ]]\n"
     ]
    }
   ],
   "source": [
    "A = np.array([\n",
    "  [0,5,  10],\n",
    "  [0,10, 50],\n",
    "  [20,400,130]\n",
    "])\n",
    "\n",
    "print(function_2(A))"
   ]
  },
  {
   "cell_type": "code",
   "execution_count": null,
   "id": "3b3157f5",
   "metadata": {},
   "outputs": [],
   "source": []
  },
  {
   "cell_type": "markdown",
   "id": "93dee785",
   "metadata": {},
   "source": [
    "- We have done with first column. \n",
    "- Now we need to move to second column but not all elements but the inside square matrix\n",
    "\n",
    "\n",
    "- Let us try to generalise above two functions (raw-reduced) and (interchange_raw) "
   ]
  },
  {
   "cell_type": "markdown",
   "id": "42fa2b21",
   "metadata": {},
   "source": [
    "### The below function works well, both normalisation of raws and interchange of raws,\n",
    "\n",
    "### The problem is this fails when last entry become zero in the last stept"
   ]
  },
  {
   "cell_type": "code",
   "execution_count": null,
   "id": "0214cf9b",
   "metadata": {},
   "outputs": [],
   "source": []
  },
  {
   "cell_type": "code",
   "execution_count": 17,
   "id": "e5c5ade4",
   "metadata": {},
   "outputs": [],
   "source": [
    "def normalised(A):\n",
    "    A = A.astype(float)\n",
    "    m = A.shape[0]  # Number of rows\n",
    "    n = A.shape[1]  # Number of columns\n",
    "    \n",
    "    # raw reduced form upto second last column\n",
    "    for i in range(0,n-1): \n",
    "        c = i              # Fixing column number\n",
    "        j = i              # Initialise raw number\n",
    "        while  j< m and A[j,c] ==0:\n",
    "            j += 1\n",
    "        p = A[j,c]         # Fixing the non zer entry\n",
    "        \n",
    "        # Divide corresponding raw with non zer entry p \n",
    "        for k in range(c,n): # Avoiding raws before that columns\n",
    "            A[j,k] = A[j,k]/p\n",
    "        \n",
    "        # Make Changes to raws below the \n",
    "        if j != m-1:\n",
    "            for k in range(j+1,m):\n",
    "                q = A[k,c] # Fixing first non zero entry in the raw\n",
    "                for r in range(c,n):\n",
    "                    A[k,r] = A[k,r] - (q*A[j,r])\n",
    "                    \n",
    "         # Now interchange the raws\n",
    "        if A[i,i] != 1:         #Interchange only if the first element is not one\n",
    "            for k in range(i,m):\n",
    "                if A[k,i] !=0:\n",
    "                    A[[i,k]] = A[[k,i]]\n",
    "                    break\n",
    "    \n",
    "    # Raw reduced form for the last column\n",
    "    return A"
   ]
  },
  {
   "cell_type": "code",
   "execution_count": 18,
   "id": "f8202cca",
   "metadata": {},
   "outputs": [
    {
     "name": "stdout",
     "output_type": "stream",
     "text": [
      "[[0 1 3]\n",
      " [0 0 6]\n",
      " [1 3 0]]\n",
      "[[1. 3. 0.]\n",
      " [0. 1. 3.]\n",
      " [0. 0. 6.]]\n"
     ]
    }
   ],
   "source": [
    "A = np.array([[0,1,3],[0,0,6],[1,3,0]])\n",
    "print(A)\n",
    "\n",
    "print(normalised(A))"
   ]
  },
  {
   "cell_type": "code",
   "execution_count": 19,
   "id": "a30cc8e5",
   "metadata": {},
   "outputs": [
    {
     "name": "stdout",
     "output_type": "stream",
     "text": [
      "[[2 1 3]\n",
      " [0 0 6]\n",
      " [4 0 6]]\n",
      "[[ 1.   0.5  1.5]\n",
      " [ 0.   1.  -0. ]\n",
      " [ 0.   0.   6. ]]\n"
     ]
    }
   ],
   "source": [
    "A = np.array([[2,1,3],[0,0,6],[4,0,6]])\n",
    "print(A)\n",
    "\n",
    "print(normalised(A))"
   ]
  },
  {
   "cell_type": "code",
   "execution_count": 20,
   "id": "3b2bf28d",
   "metadata": {},
   "outputs": [
    {
     "name": "stdout",
     "output_type": "stream",
     "text": [
      "[[2 1 3]\n",
      " [0 6 6]\n",
      " [0 6 6]]\n",
      "[[1.  0.5 1.5]\n",
      " [0.  1.  1. ]\n",
      " [0.  0.  0. ]]\n"
     ]
    }
   ],
   "source": [
    "A = np.array([[2,1,3],[0,6,6],[0,6,6]])\n",
    "print(A)\n",
    "\n",
    "print(normalised(A))"
   ]
  },
  {
   "cell_type": "code",
   "execution_count": 21,
   "id": "77d2fe71",
   "metadata": {},
   "outputs": [],
   "source": [
    "# There is a problem, may be with last column"
   ]
  },
  {
   "cell_type": "code",
   "execution_count": 22,
   "id": "580358e2",
   "metadata": {},
   "outputs": [
    {
     "name": "stdout",
     "output_type": "stream",
     "text": [
      "[[2 1 3]\n",
      " [0 6 6]\n",
      " [0 6 0]]\n",
      "[[ 1.   0.5  1.5]\n",
      " [ 0.   1.   1. ]\n",
      " [ 0.   0.  -6. ]]\n"
     ]
    }
   ],
   "source": [
    "A = np.array([[2,1,3],[0,6,6],[0,6,0]])\n",
    "print(A)\n",
    "\n",
    "print(normalised(A))"
   ]
  },
  {
   "cell_type": "code",
   "execution_count": 23,
   "id": "d6545a0d",
   "metadata": {},
   "outputs": [
    {
     "name": "stdout",
     "output_type": "stream",
     "text": [
      "[[2 1 3]\n",
      " [0 6 6]\n",
      " [0 4 0]]\n",
      "[[ 1.   0.5  1.5]\n",
      " [ 0.   1.   1. ]\n",
      " [ 0.   0.  -4. ]]\n"
     ]
    }
   ],
   "source": [
    "A = np.array([[2,1,3],[0,6,6],[0,4,0]])\n",
    "print(A)\n",
    "\n",
    "print(normalised(A))"
   ]
  },
  {
   "cell_type": "code",
   "execution_count": 24,
   "id": "0b3efeb4",
   "metadata": {},
   "outputs": [],
   "source": [
    "# Below we add if j ==m: continue for the continuity of for looop for "
   ]
  },
  {
   "cell_type": "code",
   "execution_count": 5,
   "id": "b51492f7",
   "metadata": {},
   "outputs": [],
   "source": [
    "def normalised(A):\n",
    "    A = A.astype(float)\n",
    "    m = A.shape[0]  # Number of rows\n",
    "    n = A.shape[1]  # Number of columns\n",
    "    \n",
    "    # We iterate through each column \n",
    "    \n",
    "    # Raw reduced form upto last column\n",
    "    for i in range(0,n):\n",
    "        c = i              # Fixing column number\n",
    "        j = i              # Initialise raw number\n",
    "        while  j< m and A[j,c] ==0:\n",
    "            j += 1\n",
    "\n",
    "                \n",
    "        if j ==m:\n",
    "            continue       # Move to next value of i if j becomes m. More than the number of raws\n",
    "       \n",
    "        \n",
    "        p = A[j,c]         # Fixing the non zer entry\n",
    "        \n",
    "        # Divide corresponding raw with non zer entry p \n",
    "        for k in range(c,n): # Avoiding raws before that columns\n",
    "            A[j,k] = A[j,k]/p\n",
    "        \n",
    "        # Make Changes to raws below the \n",
    "        if j != m-1:\n",
    "            for k in range(j+1,m):\n",
    "                q = A[k,c] # Fixing first non zero entry in the raw\n",
    "                for r in range(c,n):\n",
    "                    A[k,r] = A[k,r] - (q*A[j,r])\n",
    "                    \n",
    "         # Now interchange the raws\n",
    "        if A[i,i] != 1:         #Interchange only if the first element is not one\n",
    "            for k in range(i,m):\n",
    "                if A[k,i] !=0:\n",
    "                    A[[i,k]] = A[[k,i]]\n",
    "                    break\n",
    "    return A"
   ]
  },
  {
   "cell_type": "code",
   "execution_count": 6,
   "id": "a1016fcf",
   "metadata": {},
   "outputs": [
    {
     "name": "stdout",
     "output_type": "stream",
     "text": [
      "[[2 1 3 5]\n",
      " [0 6 6 2]\n",
      " [0 6 6 6]\n",
      " [0 6 6 6]]\n",
      "[[1.         0.5        1.5        2.5       ]\n",
      " [0.         1.         1.         0.33333333]\n",
      " [0.         0.         0.         4.        ]\n",
      " [0.         0.         0.         1.        ]]\n"
     ]
    }
   ],
   "source": [
    "A = np.array([[2,1,3,5],[0,6,6,2],[0,6,6,6],[0,6,6,6]])\n",
    "print(A)\n",
    "\n",
    "print(normalised(A))"
   ]
  },
  {
   "cell_type": "code",
   "execution_count": null,
   "id": "a4a3f15a",
   "metadata": {},
   "outputs": [],
   "source": [
    "# Now we need to ensure all the entries below the first non zero entry of each column is 0 "
   ]
  },
  {
   "cell_type": "markdown",
   "id": "28c8215e",
   "metadata": {},
   "source": [
    "- Find first non zero entry of the column. \n",
    "- If it is not 1 divide with the same element.\n",
    "- Relace all values below the with 0"
   ]
  },
  {
   "cell_type": "code",
   "execution_count": 7,
   "id": "e6ab4924",
   "metadata": {},
   "outputs": [],
   "source": [
    "# Let us make changes in the function normalised\n",
    "\n",
    "def normalised(A):\n",
    "    A = A.astype(float)\n",
    "    m = A.shape[0]  # Number of rows\n",
    "    n = A.shape[1]  # Number of columns\n",
    "    \n",
    "    # We iterate through each column \n",
    "    \n",
    "    # Raw reduced form upto last column\n",
    "    for i in range(0,n):\n",
    "        c = i              # Fixing column number\n",
    "        j = i              # Initialise raw number\n",
    "        while  j< m and A[j,c] ==0:\n",
    "            j += 1\n",
    "\n",
    "                \n",
    "        if j ==m:\n",
    "            continue       # Move to next value of i if j becomes m. More than the number of raws\n",
    "       \n",
    "        \n",
    "        p = A[j,c]         # Fixing the non zer entry\n",
    "        \n",
    "        # Divide corresponding raw with non zer entry p \n",
    "        for k in range(c,n): # Avoiding raws before that columns\n",
    "            A[j,k] = A[j,k]/p\n",
    "        \n",
    "        # Make Changes to raws below the \n",
    "        if j != m-1:\n",
    "            for k in range(j+1,m):\n",
    "                q = A[k,c] # Fixing first non zero entry in the raw\n",
    "                for r in range(c,n):\n",
    "                    A[k,r] = A[k,r] - (q*A[j,r])\n",
    "                    \n",
    "         # Now interchange the raws\n",
    "        if A[i,i] != 1:         #Interchange only if the first element is not one\n",
    "            for k in range(i,m):\n",
    "                if A[k,i] !=0:\n",
    "                    A[[i,k]] = A[[k,i]]\n",
    "                    break\n",
    "         \n",
    "    for j in range(m):\n",
    "        \n",
    "        i = 0\n",
    "        while i < n and A[j,i] ==0:   # Search for first non zero entry\n",
    "            i += 1\n",
    "            \n",
    "        if i == n:\n",
    "            continue\n",
    "         \n",
    "        A[j,i] = A[j,i]/A[j,i]     # Making non zero entry 1\n",
    "        \n",
    "        \n",
    "        # Set all entries below 1 as zero\n",
    "        for l in range(j+1,m):\n",
    "            A[l,i] = 0\n",
    "                    \n",
    "    return A"
   ]
  },
  {
   "cell_type": "code",
   "execution_count": 10,
   "id": "ed15dda5",
   "metadata": {},
   "outputs": [
    {
     "name": "stdout",
     "output_type": "stream",
     "text": [
      "[[2 1 3 5]\n",
      " [0 6 6 2]\n",
      " [0 6 6 6]\n",
      " [0 6 6 6]]\n",
      "[[1.         0.5        1.5        2.5       ]\n",
      " [0.         1.         1.         0.33333333]\n",
      " [0.         0.         0.         1.        ]\n",
      " [0.         0.         0.         0.        ]]\n"
     ]
    }
   ],
   "source": [
    "A = np.array([[2,1,3,5],[0,6,6,2],[0,6,6,6],[0,6,6,6]])\n",
    "print(A)\n",
    "\n",
    "print(normalised(A))"
   ]
  },
  {
   "cell_type": "code",
   "execution_count": 11,
   "id": "114f9490",
   "metadata": {},
   "outputs": [
    {
     "name": "stdout",
     "output_type": "stream",
     "text": [
      "[[0 2 0 0 0]\n",
      " [0 0 0 0 2]\n",
      " [0 0 0 0 0]\n",
      " [0 0 1 0 0]\n",
      " [0 0 0 0 1]]\n",
      "[[0. 1. 0. 0. 0.]\n",
      " [0. 0. 0. 0. 1.]\n",
      " [0. 0. 1. 0. 0.]\n",
      " [0. 0. 0. 0. 0.]\n",
      " [0. 0. 0. 0. 0.]]\n"
     ]
    }
   ],
   "source": [
    "A = np.array([[0,2,0,0,0],[0,0,0,0,2],[0,0,0,0,0],[0,0,1,0,0],[0,0,0,0,1]])\n",
    "print(A)\n",
    "\n",
    "print(normalised(A))"
   ]
  },
  {
   "cell_type": "code",
   "execution_count": 12,
   "id": "8f0473be",
   "metadata": {},
   "outputs": [],
   "source": [
    "# We need more rearrangement"
   ]
  },
  {
   "cell_type": "code",
   "execution_count": null,
   "id": "8779e25d",
   "metadata": {},
   "outputs": [],
   "source": []
  }
 ],
 "metadata": {
  "kernelspec": {
   "display_name": "Python 3 (ipykernel)",
   "language": "python",
   "name": "python3"
  },
  "language_info": {
   "codemirror_mode": {
    "name": "ipython",
    "version": 3
   },
   "file_extension": ".py",
   "mimetype": "text/x-python",
   "name": "python",
   "nbconvert_exporter": "python",
   "pygments_lexer": "ipython3",
   "version": "3.7.15"
  }
 },
 "nbformat": 4,
 "nbformat_minor": 5
}
