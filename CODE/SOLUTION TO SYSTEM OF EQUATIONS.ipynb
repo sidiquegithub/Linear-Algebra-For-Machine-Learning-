{
 "cells": [
  {
   "cell_type": "code",
   "execution_count": 1,
   "id": "dbf6141b",
   "metadata": {},
   "outputs": [],
   "source": [
    "import numpy as np"
   ]
  },
  {
   "cell_type": "markdown",
   "id": "d15867fa",
   "metadata": {},
   "source": [
    "#### We can make use of numpy.linalg.solve(a,b)\n",
    "\n",
    "A must be square and of full-rank, i.e., all rows (or, equivalently, columns) must be linearly independent; if either is not true, use lstsq for the least-squares best “solution” of the system/equation.\n",
    "\n",
    "\n",
    "#### Alternatively, we can use numpy.linalg.lstsq(a, b) to solve a given system of equations.\n",
    "\n",
    "This method generates a least squares solution for the system. If the matrix a is of full rank, it will produce the same solution as numpy.linalg.solve(a, b)\n",
    "\n",
    "A least-squares solution solves the equation Ax = b as closely as possible, in the sense that the sum of the squares of the difference b − Ax is minimized."
   ]
  },
  {
   "cell_type": "markdown",
   "id": "f456e771",
   "metadata": {},
   "source": [
    "### QUESTION\n",
    "\n",
    "To solve system of equation\n",
    "$$ x +2y + z = 3 $$\n",
    "$$ 2x +3y - z = -6 $$\n",
    "$$ 3x -2y +4z = -2$$"
   ]
  },
  {
   "cell_type": "markdown",
   "id": "f74471b0",
   "metadata": {},
   "source": [
    "$ AX = B$"
   ]
  },
  {
   "cell_type": "markdown",
   "id": "a5575350",
   "metadata": {},
   "source": [
    " $ A = \\\\\n",
    " [1,2,1] \\\\\n",
    "      [2,3,-1]\\\\\n",
    "      [3,-2,4] $"
   ]
  },
  {
   "cell_type": "markdown",
   "id": "673b69a3",
   "metadata": {},
   "source": [
    "$ B = [3,-6,-2] $"
   ]
  },
  {
   "cell_type": "markdown",
   "id": "26794114",
   "metadata": {},
   "source": [
    "### ANSWER"
   ]
  },
  {
   "cell_type": "code",
   "execution_count": 2,
   "id": "aa8e68ad",
   "metadata": {},
   "outputs": [],
   "source": [
    "A = np.array([[1,2,1],[2,3,-1],[3,-2,-4]])"
   ]
  },
  {
   "cell_type": "code",
   "execution_count": 3,
   "id": "513a9056",
   "metadata": {},
   "outputs": [],
   "source": [
    "B = np.array([3,-6,-2])"
   ]
  },
  {
   "cell_type": "code",
   "execution_count": 4,
   "id": "d122dbb0",
   "metadata": {},
   "outputs": [
    {
     "name": "stdout",
     "output_type": "stream",
     "text": [
      "[ 4. -3.  5.]\n"
     ]
    }
   ],
   "source": [
    "X = np.linalg.solve(A,B)\n",
    "print(X)"
   ]
  },
  {
   "cell_type": "markdown",
   "id": "10363e8e",
   "metadata": {},
   "source": [
    "So x = 4, y = -3 and z = 5"
   ]
  },
  {
   "cell_type": "code",
   "execution_count": 6,
   "id": "7924b2a5",
   "metadata": {},
   "outputs": [
    {
     "name": "stdout",
     "output_type": "stream",
     "text": [
      "[ 4. -3.  5.]\n",
      "[]\n",
      "3\n",
      "[5.5206571  4.24210011 0.72590073]\n"
     ]
    }
   ],
   "source": [
    "# Let us use least square method\n",
    "x, residuals, rank, s = np.linalg.lstsq(A, B, rcond=None)\n",
    "\n",
    "print(x)\n",
    "print(residuals)\n",
    "print(rank)\n",
    "print(s)"
   ]
  },
  {
   "cell_type": "markdown",
   "id": "bd4019d3",
   "metadata": {},
   "source": [
    "### QUESTION \n",
    "Solve $$ x +3y =4 $$\n",
    "$$ 2x - y = 1$$\n",
    "$$ 3x + 2y = 5 $$\n",
    "$$ 5x + 15 y = 20 $$"
   ]
  },
  {
   "cell_type": "code",
   "execution_count": 7,
   "id": "da3eeb0c",
   "metadata": {},
   "outputs": [],
   "source": [
    "A = np.array([[1,3],[2,-1],[3,2],[5,15]])\n",
    "B = np.array([4,1,5,20])"
   ]
  },
  {
   "cell_type": "code",
   "execution_count": 8,
   "id": "7b10fd74",
   "metadata": {},
   "outputs": [
    {
     "name": "stdout",
     "output_type": "stream",
     "text": [
      "[1. 1.]\n",
      "[2.62086076e-29]\n",
      "2\n",
      "[16.38051603  3.11106006]\n"
     ]
    }
   ],
   "source": [
    "# Since A is not square, we solve using least-squares\n",
    "x, residuals, rank, s = np.linalg.lstsq(A, B, rcond=None)\n",
    "\n",
    "print(x)\n",
    "print(residuals)\n",
    "print(rank)\n",
    "print(s)"
   ]
  },
  {
   "cell_type": "markdown",
   "id": "014d2f6e",
   "metadata": {},
   "source": [
    "x = 1, y = 1"
   ]
  },
  {
   "cell_type": "code",
   "execution_count": 11,
   "id": "d7f7a008",
   "metadata": {},
   "outputs": [
    {
     "data": {
      "text/plain": [
       "(array([1., 1.]),\n",
       " array([2.62086076e-29]),\n",
       " 2,\n",
       " array([16.38051603,  3.11106006]))"
      ]
     },
     "execution_count": 11,
     "metadata": {},
     "output_type": "execute_result"
    }
   ],
   "source": [
    "X"
   ]
  },
  {
   "cell_type": "markdown",
   "id": "e477cbb1",
   "metadata": {},
   "source": [
    "### QUESTION \n",
    "Solve the system in variables x, y,z and q \n",
    "$$ 2z + 3q = 0 $$\n",
    "$$ x + 3z + q = 0 $$\n",
    "$$ x + y + 2z = 0 $$"
   ]
  },
  {
   "cell_type": "code",
   "execution_count": 23,
   "id": "57613ac3",
   "metadata": {},
   "outputs": [],
   "source": [
    "A = np.array([[0,0,2,3],\n",
    "              [1,0,3,1],\n",
    "              [1,1,2,0]\n",
    "             ])\n",
    "B = np.array([0,0,0])"
   ]
  },
  {
   "cell_type": "code",
   "execution_count": 24,
   "id": "01b120f7",
   "metadata": {},
   "outputs": [
    {
     "name": "stdout",
     "output_type": "stream",
     "text": [
      "[0. 0. 0. 0.]\n",
      "[]\n",
      "3\n",
      "[4.93005909 2.27939369 0.70631562]\n"
     ]
    }
   ],
   "source": [
    "x, residuals, rank, s = np.linalg.lstsq(A, B, rcond=None)\n",
    "\n",
    "print(x)\n",
    "print(residuals)\n",
    "print(rank)\n",
    "print(s)"
   ]
  },
  {
   "cell_type": "markdown",
   "id": "963ce75d",
   "metadata": {},
   "source": [
    "This is because of rank 3 less than number of variables 4, so infinite solution"
   ]
  },
  {
   "cell_type": "code",
   "execution_count": null,
   "id": "45d8d0d0",
   "metadata": {},
   "outputs": [],
   "source": []
  },
  {
   "cell_type": "code",
   "execution_count": 21,
   "id": "a608d3e4",
   "metadata": {},
   "outputs": [],
   "source": [
    "# To develop a inbuild function to solve system of linear equations"
   ]
  },
  {
   "cell_type": "code",
   "execution_count": null,
   "id": "360d61b6",
   "metadata": {},
   "outputs": [],
   "source": []
  },
  {
   "cell_type": "code",
   "execution_count": 20,
   "id": "cb58d808",
   "metadata": {},
   "outputs": [
    {
     "name": "stdout",
     "output_type": "stream",
     "text": [
      "Solution vector x:\n",
      "[ 2.20833333 -2.58333333 -0.18333333]\n",
      "Matrix is:\n",
      "[[ 4  3 -5]\n",
      " [-2 -4  5]\n",
      " [ 8  8  0]]\n",
      "Rank of the Matrix is  3\n",
      "Raw Reduced Echlon form is\n",
      "[[ 1.    0.75 -1.25]\n",
      " [ 0.    1.   -1.  ]\n",
      " [ 0.    0.    1.  ]]\n"
     ]
    }
   ],
   "source": [
    "import numpy as np\n",
    "\n",
    "# Coefficient matrix A\n",
    "A = np.array([[4, 3, -5],\n",
    "              [-2, -4, 5],\n",
    "              [8, 8, 0]])\n",
    "\n",
    "# Column vector of constants y\n",
    "y = np.array([2, 5, -3])\n",
    "\n",
    "# Solve the system\n",
    "x = np.linalg.solve(A, y)\n",
    "\n",
    "print(\"Solution vector x:\")\n",
    "print(x)\n",
    "\n",
    "\n",
    "print(normalised(A))\n"
   ]
  },
  {
   "cell_type": "code",
   "execution_count": null,
   "id": "518b83b0",
   "metadata": {},
   "outputs": [],
   "source": [
    "A = np.array([[4, 3, -5],\n",
    "              [-2, -4, 5],\n",
    "              [8, 8, 0]])"
   ]
  }
 ],
 "metadata": {
  "kernelspec": {
   "display_name": "Python 3 (ipykernel)",
   "language": "python",
   "name": "python3"
  },
  "language_info": {
   "codemirror_mode": {
    "name": "ipython",
    "version": 3
   },
   "file_extension": ".py",
   "mimetype": "text/x-python",
   "name": "python",
   "nbconvert_exporter": "python",
   "pygments_lexer": "ipython3",
   "version": "3.7.15"
  }
 },
 "nbformat": 4,
 "nbformat_minor": 5
}
